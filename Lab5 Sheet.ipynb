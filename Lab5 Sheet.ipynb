{
 "cells": [
  {
   "cell_type": "markdown",
   "metadata": {
    "deletable": false,
    "editable": false,
    "nbgrader": {
     "checksum": "0386b88759cd8dda9c6211fc1ef856a5",
     "grade": false,
     "grade_id": "cell-4b3a34920f4c7395",
     "locked": true,
     "schema_version": 1,
     "solution": false
    }
   },
   "source": [
    "# Part 1: Training and evaluating simple CNNs"
   ]
  },
  {
   "cell_type": "markdown",
   "metadata": {
    "deletable": false,
    "editable": false,
    "nbgrader": {
     "checksum": "a06e331b63eb9f8b5511ee8e90ae3dc6",
     "grade": false,
     "grade_id": "cell-2852eef932feefd7",
     "locked": true,
     "schema_version": 1,
     "solution": false
    }
   },
   "source": [
    "__Before starting, we recommend you enable GPU acceleration if you're running on Colab.__"
   ]
  },
  {
   "cell_type": "code",
   "execution_count": 1,
   "metadata": {
    "deletable": false,
    "editable": false,
    "nbgrader": {
     "checksum": "84a38ee23b261ec917497a78bd147d1f",
     "grade": false,
     "grade_id": "cell-6f99954a67e07cc3",
     "locked": true,
     "schema_version": 1,
     "solution": false
    }
   },
   "outputs": [],
   "source": [
    "# Execute this code block to install dependencies when running on colab\n",
    "try:\n",
    "    import torch\n",
    "except:\n",
    "    from os.path import exists\n",
    "    from wheel.pep425tags import get_abbr_impl, get_impl_ver, get_abi_tag\n",
    "    platform = '{}{}-{}'.format(get_abbr_impl(), get_impl_ver(), get_abi_tag())\n",
    "    cuda_output = !ldconfig -p|grep cudart.so|sed -e 's/.*\\.\\([0-9]*\\)\\.\\([0-9]*\\)$/cu\\1\\2/'\n",
    "    accelerator = cuda_output[0] if exists('/dev/nvidia0') else 'cpu'\n",
    "\n",
    "    !pip install -q http://download.pytorch.org/whl/{accelerator}/torch-1.0.0-{platform}-linux_x86_64.whl torchvision\n",
    "\n",
    "try: \n",
    "    import torchbearer\n",
    "except:\n",
    "    !pip install torchbearer"
   ]
  },
  {
   "cell_type": "markdown",
   "metadata": {
    "deletable": false,
    "editable": false,
    "nbgrader": {
     "checksum": "ce847410c1ef0a28d490008cedf86b4a",
     "grade": false,
     "grade_id": "cell-d0369c9de7c5a89e",
     "locked": true,
     "schema_version": 1,
     "solution": false
    }
   },
   "source": [
    "## Simple Convolutional Neural Network for MNIST\n",
    "\n",
    "Now that we have seen how to load the MNIST dataset and train a simple multi-layer perceptron model on it, we can now start to develop a more sophisticated convolutional neural network or CNN model. PyTorch provides a lot of capability for creating CNNs, and includes a large number of layer types and activation functions. In this part of the lab we will create a simple CNN for MNIST that demonstrates how to use all of the aspects of a modern CNN implementation, including Convolutional layers, Pooling layers and Dropout layers.\n",
    "\n",
    "The first step is to import the classes and functions needed."
   ]
  },
  {
   "cell_type": "code",
   "execution_count": 47,
   "metadata": {
    "deletable": false,
    "editable": false,
    "nbgrader": {
     "checksum": "175dd97d30f646eb74ad9e21427a2c0d",
     "grade": false,
     "grade_id": "cell-b7a634722fea19b2",
     "locked": true,
     "schema_version": 1,
     "solution": false
    }
   },
   "outputs": [
    {
     "name": "stdout",
     "output_type": "stream",
     "text": [
      "The autoreload extension is already loaded. To reload it, use:\n",
      "  %reload_ext autoreload\n"
     ]
    }
   ],
   "source": [
    "# automatically reload external modules if they change\n",
    "%load_ext autoreload\n",
    "%autoreload 2\n",
    "\n",
    "import torch\n",
    "import torch.nn.functional as F\n",
    "import torchvision.transforms as transforms\n",
    "import torchbearer\n",
    "from torch import nn\n",
    "from torch import optim\n",
    "from torch.utils.data import DataLoader\n",
    "from torchvision.datasets import MNIST\n",
    "from torchbearer import Trial"
   ]
  },
  {
   "cell_type": "markdown",
   "metadata": {
    "deletable": false,
    "editable": false,
    "nbgrader": {
     "checksum": "dbd5411f763365d82fece69745457168",
     "grade": false,
     "grade_id": "cell-36d240a1fee1f6f2",
     "locked": true,
     "schema_version": 1,
     "solution": false
    }
   },
   "source": [
    "Again, initialise the random number generator to a constant seed value for reproducibility of results."
   ]
  },
  {
   "cell_type": "code",
   "execution_count": 4,
   "metadata": {
    "deletable": false,
    "editable": false,
    "nbgrader": {
     "checksum": "b422e04bbefbf78800d34b845c1397d5",
     "grade": false,
     "grade_id": "cell-4d617d7c9adb1794",
     "locked": true,
     "schema_version": 1,
     "solution": false
    }
   },
   "outputs": [],
   "source": [
    "# fix random seed for reproducibility\n",
    "seed = 7\n",
    "torch.manual_seed(seed)\n",
    "torch.backends.cudnn.deterministic = True"
   ]
  },
  {
   "cell_type": "markdown",
   "metadata": {
    "deletable": false,
    "editable": false,
    "nbgrader": {
     "checksum": "1caef4794d2c1a7d0a0ca69b5c8c3669",
     "grade": false,
     "grade_id": "cell-f5f854670ab50aed",
     "locked": true,
     "schema_version": 1,
     "solution": false
    }
   },
   "source": [
    "Next we need to load the MNIST dataset. Unlike with the MLP example we looked at previously, we don't want to flatten the images into vectors, although we do still want to convert the PIL images to tensors.\n",
    "\n",
    "In PyTorch, images are represented as tensors with dimensions `[pixels][height][width]`. In the case of RGB, the first dimension, pixels, would be 3 for the red, green and blue components. In the case of MNIST where the pixel values are greyscale, the pixel dimension is set to 1."
   ]
  },
  {
   "cell_type": "code",
   "execution_count": 19,
   "metadata": {
    "deletable": false,
    "editable": false,
    "nbgrader": {
     "checksum": "29254ea7761e47b036e1bf7e6e6f8f00",
     "grade": false,
     "grade_id": "cell-fe9cacfcc16dcddf",
     "locked": true,
     "schema_version": 1,
     "solution": false
    }
   },
   "outputs": [],
   "source": [
    "# convert each image to tensor format\n",
    "transform = transforms.Compose([\n",
    "    transforms.ToTensor()  # convert to tensor\n",
    "])\n",
    "\n",
    "# load data\n",
    "trainset = MNIST(\".\", train=True, download=True, transform=transform)\n",
    "testset = MNIST(\".\", train=False, download=True, transform=transform)\n",
    "\n",
    "# create data loaders\n",
    "trainloader = DataLoader(trainset, batch_size=128, shuffle=True)\n",
    "testloader = DataLoader(testset, batch_size=128, shuffle=True)"
   ]
  },
  {
   "cell_type": "code",
   "execution_count": 20,
   "metadata": {},
   "outputs": [
    {
     "name": "stdout",
     "output_type": "stream",
     "text": [
      "torch.Size([60000, 28, 28])\n"
     ]
    }
   ],
   "source": [
    "print(trainset.data.size())"
   ]
  },
  {
   "cell_type": "markdown",
   "metadata": {
    "deletable": false,
    "editable": false,
    "nbgrader": {
     "checksum": "aa79db913111d98503bf94cc0f4c77a8",
     "grade": false,
     "grade_id": "cell-f094c93f38605686",
     "locked": true,
     "schema_version": 1,
     "solution": false
    }
   },
   "source": [
    "Next we define our neural network model.\n",
    "\n",
    "Convolutional neural networks are more complex than standard multi-layer perceptrons, so we will start by using a simple structure to begin with that uses all of the elements required for near state of the art results. The network architecture is summarised below:\n",
    "\n",
    "1. The first hidden layer is a convolutional layer called a `Convolution2D`. The layer has 32 feature maps, which with the size of 5×5 and a rectified linear unit activation function.\n",
    "2. Next we define a pooling layer that takes the max called `MaxPooling2D`. It is configured with a pool size of 2×2.\n",
    "3. The next layer is a regularization layer using dropout called `Dropout`. It is configured to randomly exclude 20% of neurons in the layer in order to reduce overfitting.\n",
    "4. Next is an operation that flattens or reshapes the tensor to a vector. It allows the output to be processed by standard fully connected layers.\n",
    "5. Next a fully connected layer with 128 neurons and rectifier linear unit activation function.\n",
    "6. Finally, the output layer has 10 neurons for the 10 classes.\n",
    "\n",
    "Just like with the MLP we create a PyTorch `nn.Module` subclass to define our network model:"
   ]
  },
  {
   "cell_type": "code",
   "execution_count": 66,
   "metadata": {
    "deletable": false,
    "editable": false,
    "nbgrader": {
     "checksum": "d978becfd60240a69ccfcb346d9fabdb",
     "grade": false,
     "grade_id": "cell-e36a90ba5353bd77",
     "locked": true,
     "schema_version": 1,
     "solution": false
    }
   },
   "outputs": [],
   "source": [
    "class SimpleCNN(nn.Module):\n",
    "    def __init__(self):\n",
    "        super(SimpleCNN, self).__init__()\n",
    "        self.conv1 = nn.Conv2d(1, 32, (5, 5), padding=0)\n",
    "        self.fc1 = nn.Linear(32 * 12**2, 128)\n",
    "        self.fc2 = nn.Linear(128, 10)\n",
    "            \n",
    "    def forward(self, x):\n",
    "        out = self.conv1(x)\n",
    "        out = F.relu(out)\n",
    "        out = F.max_pool2d(out, (2,2))\n",
    "        out = F.dropout(out, 0.2)\n",
    "        out = out.view(out.shape[0], -1)\n",
    "        out = self.fc1(out)\n",
    "        out = F.relu(out)\n",
    "        out = self.fc2(out)\n",
    "        return out"
   ]
  },
  {
   "cell_type": "code",
   "execution_count": 43,
   "metadata": {},
   "outputs": [],
   "source": [
    "class SimpleCNN1(nn.Module):\n",
    "    def __init__(self):\n",
    "        super(SimpleCNN1, self).__init__()\n",
    "        self.conv1 = nn.Conv2d(1, 32, (5, 5), padding=0)\n",
    "            \n",
    "    def forward(self, x):\n",
    "        out = self.conv1(x)\n",
    "        return out\n",
    "    \n",
    "class SimpleCNN2(nn.Module):\n",
    "    def __init__(self):\n",
    "        super(SimpleCNN2, self).__init__()\n",
    "        self.conv1 = nn.Conv2d(1, 32, (7, 3), padding=0)\n",
    "            \n",
    "    def forward(self, x):\n",
    "        out = self.conv1(x)\n",
    "        return out\n",
    "    \n",
    "class SimpleCNN3(nn.Module):\n",
    "    def __init__(self):\n",
    "        super(SimpleCNN3, self).__init__()\n",
    "        self.conv1 = nn.Conv2d(1, 32, (5, 5), padding=0)\n",
    "            \n",
    "    def forward(self, x):\n",
    "        out = self.conv1(x)\n",
    "        out = F.relu(out)\n",
    "        return out\n",
    "    \n",
    "class SimpleCNN4(nn.Module):\n",
    "    def __init__(self):\n",
    "        super(SimpleCNN4, self).__init__()\n",
    "        self.conv1 = nn.Conv2d(1, 32, (5, 5), padding=0)\n",
    "\n",
    "    def forward(self, x):\n",
    "        out = self.conv1(x)\n",
    "        out = F.relu(out)\n",
    "        out = F.max_pool2d(out, (2,2))\n",
    "        return out\n",
    "\n",
    "class SimpleCNN5(nn.Module):\n",
    "    def __init__(self):\n",
    "        super(SimpleCNN5, self).__init__()\n",
    "        self.conv1 = nn.Conv2d(1, 32, (5, 5), padding=0)\n",
    "            \n",
    "    def forward(self, x):\n",
    "        out = self.conv1(x)\n",
    "        out = F.relu(out)\n",
    "        out = F.max_pool2d(out, (2,2))\n",
    "        out = F.dropout(out, 0.2)\n",
    "        return out\n",
    "    \n",
    "class SimpleCNN6(nn.Module):\n",
    "    def __init__(self):\n",
    "        super(SimpleCNN6, self).__init__()\n",
    "        self.conv1 = nn.Conv2d(1, 32, (5, 5), padding=0)\n",
    "            \n",
    "    def forward(self, x):\n",
    "        out = self.conv1(x)\n",
    "        out = F.relu(out)\n",
    "        out = F.max_pool2d(out, (2,2))\n",
    "        out = F.dropout(out, 0.2)\n",
    "        out = out.view(out.shape[0], -1)\n",
    "        return out\n",
    "    \n",
    "class SimpleCNN7(nn.Module):\n",
    "    def __init__(self):\n",
    "        super(SimpleCNN7, self).__init__()\n",
    "        self.conv1 = nn.Conv2d(1, 32, (5, 5), padding=0)\n",
    "        self.fc1 = nn.Linear(32 * 12**2, 128)\n",
    "            \n",
    "    def forward(self, x):\n",
    "        out = self.conv1(x)\n",
    "        out = F.relu(out)\n",
    "        out = F.max_pool2d(out, (2,2))\n",
    "        out = F.dropout(out, 0.2)\n",
    "        out = out.view(out.shape[0], -1)\n",
    "        out = self.fc1(out)\n",
    "        out = F.relu(out)\n",
    "        return out\n",
    "\n",
    "class SimpleCNN8(nn.Module):\n",
    "    def __init__(self):\n",
    "        super(SimpleCNN8, self).__init__()\n",
    "        self.conv1 = nn.Conv2d(1, 32, (5, 5), padding=0)\n",
    "        self.fc1 = nn.Linear(32 * 12**2, 128)\n",
    "        self.fc2 = nn.Linear(128, 10)\n",
    "            \n",
    "    def forward(self, x):\n",
    "        out = self.conv1(x)\n",
    "        out = F.relu(out)\n",
    "        out = F.max_pool2d(out, (2,2))\n",
    "        out = F.dropout(out, 0.2)\n",
    "        out = out.view(out.shape[0], -1)\n",
    "        out = self.fc1(out)\n",
    "        out = F.relu(out)\n",
    "        out = self.fc2(out)\n",
    "        return out"
   ]
  },
  {
   "cell_type": "code",
   "execution_count": 44,
   "metadata": {},
   "outputs": [
    {
     "name": "stdout",
     "output_type": "stream",
     "text": [
      "torch.Size([1, 32, 24, 24])\n",
      "torch.Size([2, 32, 22, 26])\n",
      "torch.Size([3, 32, 24, 24])\n",
      "torch.Size([4, 32, 12, 12])\n",
      "torch.Size([5, 32, 12, 12])\n",
      "torch.Size([6, 4608])\n",
      "torch.Size([7, 128])\n",
      "torch.Size([8, 10])\n"
     ]
    }
   ],
   "source": [
    "model1 = SimpleCNN1()\n",
    "x = torch.randn(1,1,28,28)\n",
    "output = model1(x)\n",
    "print(output.size())\n",
    "\n",
    "model2 = SimpleCNN2()\n",
    "x = torch.randn(2,1,28,28)\n",
    "output = model2(x)\n",
    "print(output.size())\n",
    "\n",
    "model3 = SimpleCNN3() #conv1\n",
    "x = torch.randn(3,1,28,28)\n",
    "output = model3(x)\n",
    "print(output.size())\n",
    "\n",
    "model4 = SimpleCNN4() #max_pool(2,2)\n",
    "x = torch.randn(4,1,28,28)\n",
    "output = model4(x)\n",
    "print(output.size())\n",
    "\n",
    "model5 = SimpleCNN5() #dropout,0.2\n",
    "x = torch.randn(5,1,28,28)\n",
    "output = model5(x)\n",
    "print(output.size())\n",
    "\n",
    "model6 = SimpleCNN6() #view(-1)\n",
    "x = torch.randn(6,1,28,28)\n",
    "output = model6(x)\n",
    "print(output.size())\n",
    "\n",
    "model7 = SimpleCNN7() #f1:Linear(x to 128)\n",
    "x = torch.randn(7,1,28,28)\n",
    "output = model7(x)\n",
    "print(output.size())\n",
    "\n",
    "model8 = SimpleCNN8() #f2:Linear(x to 10)\n",
    "x = torch.randn(8,1,28,28)\n",
    "output = model8(x)\n",
    "print(output.size())"
   ]
  },
  {
   "cell_type": "markdown",
   "metadata": {
    "deletable": false,
    "editable": false,
    "nbgrader": {
     "checksum": "80b333944df484312ce0c3804eca5e6b",
     "grade": false,
     "grade_id": "cell-7483d476ef9f0de6",
     "locked": true,
     "schema_version": 1,
     "solution": false
    }
   },
   "source": [
    "Note in the above code when we use the `view` method to _flatten_ the tensor we must preserve the batch dimension of the data; passing `-1` as the second argument tells view to compute the size of the dimension represented by the `-1` automatically. The input to the forward method has shape `[batch_size][pixels][height][width]` and we want the final output to be `[batch_size][num_classes=10]`. \n",
    "\n",
    "__Answer the following questions (enter the answer in the box below each one):__\n",
    "\n",
    "__1.__ What is the shape of the tensor output by the `conv1` layer?"
   ]
  },
  {
   "cell_type": "markdown",
   "metadata": {
    "deletable": false,
    "nbgrader": {
     "checksum": "a8e7f96c4270925d62470b6875acaa0d",
     "grade": true,
     "grade_id": "cell-85c7d9e142f0f5a8",
     "locked": false,
     "points": 1,
     "schema_version": 1,
     "solution": true
    }
   },
   "source": [
    "Output = (W-K+2P)/S + 1 = (28-5+0)/1+1 = 24"
   ]
  },
  {
   "cell_type": "markdown",
   "metadata": {
    "deletable": false,
    "editable": false,
    "nbgrader": {
     "checksum": "9ba2f36afc0dd997780d17b4d9ce5e04",
     "grade": false,
     "grade_id": "cell-423f347f09d8ecd9",
     "locked": true,
     "schema_version": 1,
     "solution": false
    }
   },
   "source": [
    "__2.__ If the `conv1` layer had a kernel shape of `(7,3)` what would the output shape be?"
   ]
  },
  {
   "cell_type": "markdown",
   "metadata": {
    "deletable": false,
    "nbgrader": {
     "checksum": "5c8923855a9c4f95ffbd658bfaf8201a",
     "grade": true,
     "grade_id": "cell-5bded1643d1a5530",
     "locked": false,
     "points": 2,
     "schema_version": 1,
     "solution": true
    }
   },
   "source": [
    "Output [height] = (W - K [height]+2P)/S + 1 = (28-3+0)/1+1 = 26\n",
    "\n",
    "Output [width] = (W - K [width]+2P)/S + 1 = (28-7+0)/1+1 = 22"
   ]
  },
  {
   "cell_type": "markdown",
   "metadata": {
    "deletable": false,
    "editable": false,
    "nbgrader": {
     "checksum": "e690b390d913ddf3d089a55a8c9b9887",
     "grade": false,
     "grade_id": "cell-369d69d982d860ef",
     "locked": true,
     "schema_version": 1,
     "solution": false
    }
   },
   "source": [
    "As before, the model is trained using cross-entropy loss and the ADAM gradient descent algorithm. The CNN is fit over 10 epochs with a batch size of 128. We use torchbearer to minimise the training and evaluation code we need to write:"
   ]
  },
  {
   "cell_type": "code",
   "execution_count": 67,
   "metadata": {
    "deletable": false,
    "editable": false,
    "nbgrader": {
     "checksum": "666b5f1daf8391d5c1a1ab426caddf90",
     "grade": false,
     "grade_id": "cell-03a034a2e45728dd",
     "locked": true,
     "schema_version": 1,
     "solution": false
    }
   },
   "outputs": [
    {
     "data": {
      "application/vnd.jupyter.widget-view+json": {
       "model_id": "b08a7d102b744c7e97aec9210dc412a7",
       "version_major": 2,
       "version_minor": 0
      },
      "text/plain": [
       "0/10(t):   0%|          | 0/469 [00:00<?, ?it/s]"
      ]
     },
     "metadata": {},
     "output_type": "display_data"
    },
    {
     "data": {
      "application/vnd.jupyter.widget-view+json": {
       "model_id": "0abde265a0f0436e877fea753364ae50",
       "version_major": 2,
       "version_minor": 0
      },
      "text/plain": [
       "1/10(t):   0%|          | 0/469 [00:00<?, ?it/s]"
      ]
     },
     "metadata": {},
     "output_type": "display_data"
    },
    {
     "data": {
      "application/vnd.jupyter.widget-view+json": {
       "model_id": "cc4ef5e869e043edbb0d7b941e877be0",
       "version_major": 2,
       "version_minor": 0
      },
      "text/plain": [
       "2/10(t):   0%|          | 0/469 [00:00<?, ?it/s]"
      ]
     },
     "metadata": {},
     "output_type": "display_data"
    },
    {
     "data": {
      "application/vnd.jupyter.widget-view+json": {
       "model_id": "292a1b4961b242a5a70076c9ad1df3c5",
       "version_major": 2,
       "version_minor": 0
      },
      "text/plain": [
       "3/10(t):   0%|          | 0/469 [00:00<?, ?it/s]"
      ]
     },
     "metadata": {},
     "output_type": "display_data"
    },
    {
     "data": {
      "application/vnd.jupyter.widget-view+json": {
       "model_id": "a3338fed39d8446282103fd5bd703a46",
       "version_major": 2,
       "version_minor": 0
      },
      "text/plain": [
       "4/10(t):   0%|          | 0/469 [00:00<?, ?it/s]"
      ]
     },
     "metadata": {},
     "output_type": "display_data"
    },
    {
     "data": {
      "application/vnd.jupyter.widget-view+json": {
       "model_id": "7446c45bc78943f0b1ed2378e3384918",
       "version_major": 2,
       "version_minor": 0
      },
      "text/plain": [
       "5/10(t):   0%|          | 0/469 [00:00<?, ?it/s]"
      ]
     },
     "metadata": {},
     "output_type": "display_data"
    },
    {
     "data": {
      "application/vnd.jupyter.widget-view+json": {
       "model_id": "641ca969eac24e35a86489faade6d5ec",
       "version_major": 2,
       "version_minor": 0
      },
      "text/plain": [
       "6/10(t):   0%|          | 0/469 [00:00<?, ?it/s]"
      ]
     },
     "metadata": {},
     "output_type": "display_data"
    },
    {
     "data": {
      "application/vnd.jupyter.widget-view+json": {
       "model_id": "b4b3c239ebd243a0a89ba6a569477d5e",
       "version_major": 2,
       "version_minor": 0
      },
      "text/plain": [
       "7/10(t):   0%|          | 0/469 [00:00<?, ?it/s]"
      ]
     },
     "metadata": {},
     "output_type": "display_data"
    },
    {
     "data": {
      "application/vnd.jupyter.widget-view+json": {
       "model_id": "698d54c9dcca46449416cd8ecb6f8113",
       "version_major": 2,
       "version_minor": 0
      },
      "text/plain": [
       "8/10(t):   0%|          | 0/469 [00:00<?, ?it/s]"
      ]
     },
     "metadata": {},
     "output_type": "display_data"
    },
    {
     "data": {
      "application/vnd.jupyter.widget-view+json": {
       "model_id": "82df523ce5154610b2f1fd2e96891b20",
       "version_major": 2,
       "version_minor": 0
      },
      "text/plain": [
       "9/10(t):   0%|          | 0/469 [00:00<?, ?it/s]"
      ]
     },
     "metadata": {},
     "output_type": "display_data"
    },
    {
     "data": {
      "application/vnd.jupyter.widget-view+json": {
       "model_id": "add37b1284634ef6898346ebe3df0ebd",
       "version_major": 2,
       "version_minor": 0
      },
      "text/plain": [
       "0/1(e):   0%|          | 0/79 [00:00<?, ?it/s]"
      ]
     },
     "metadata": {},
     "output_type": "display_data"
    },
    {
     "name": "stdout",
     "output_type": "stream",
     "text": [
      "{'test_loss': 0.04495362937450409, 'test_acc': 0.9871999621391296}\n"
     ]
    }
   ],
   "source": [
    "# build the model\n",
    "model = SimpleCNN()\n",
    "\n",
    "# define the loss function and the optimiser\n",
    "loss_function = nn.CrossEntropyLoss()\n",
    "optimiser = optim.Adam(model.parameters())\n",
    "\n",
    "device = \"cuda:0\" if torch.cuda.is_available() else \"cpu\"\n",
    "trial = Trial(model, optimiser, loss_function, metrics=['loss', 'accuracy']).to(device)\n",
    "trial.with_generators(trainloader, test_generator=testloader)\n",
    "trial.run(epochs=10)\n",
    "results = trial.evaluate(data_key=torchbearer.TEST_DATA)\n",
    "print(results)"
   ]
  },
  {
   "cell_type": "markdown",
   "metadata": {
    "deletable": false,
    "editable": false,
    "nbgrader": {
     "checksum": "671150370dacaaf1a06bf5c07f288cbf",
     "grade": false,
     "grade_id": "cell-b839b934e04f89c0",
     "locked": true,
     "schema_version": 1,
     "solution": false
    }
   },
   "source": [
    "You should see that the network achieves an accuracy of 98.91% which is better than the simple multi-layer perceptron model we tried previously.\n",
    "\n",
    "## An improved CNN\n",
    "\n",
    "Now that we have seen how to create a simple CNN, let’s take a look at a model capable of close to state of the art results. This time you will implement a large CNN architecture with additional convolutional, max pooling layers and fully connected layers. The network topology of the model is summarised as follows:\n",
    "\n",
    "1. Convolutional layer with 30 feature maps of size 5×5 and ReLU activation.\n",
    "2. Pooling layer taking the max over 2×2 patches.\n",
    "3. Convolutional layer with 15 feature maps of size 3×3 and ReLU activation.\n",
    "4. Pooling layer taking the max over 2×2 patches.\n",
    "5. Dropout layer with a probability of 20%.\n",
    "6. Flatten layer.\n",
    "7. Fully connected layer with 128 neurons and ReLU activation.\n",
    "8. Fully connected layer with 50 neurons and ReLU activation.\n",
    "9. Linear output layer.\n",
    "\n",
    "__Complete the implementation of the BetterCNN module which implements the above network in the following code block.__"
   ]
  },
  {
   "cell_type": "code",
   "execution_count": 69,
   "metadata": {
    "deletable": false,
    "nbgrader": {
     "checksum": "3a544d1f48cb9b1af278acbebdf391be",
     "grade": false,
     "grade_id": "cell-110a1189124033d9",
     "locked": false,
     "schema_version": 1,
     "solution": true
    }
   },
   "outputs": [],
   "source": [
    "import torch \n",
    "import torch.nn.functional as F\n",
    "from torch import nn\n",
    "\n",
    "# Model Definition\n",
    "class BetterCNN(nn.Module):\n",
    "    def __init__(self):\n",
    "        super(BetterCNN, self).__init__()\n",
    "        self.conv1 = nn.Conv2d(1, 30, (5, 5), padding=0)\n",
    "        self.conv2 = nn.Conv2d(30, 15, (3, 3), padding=0)\n",
    "        self.fc1 = nn.Linear(15 * 5**2, 128)\n",
    "        self.fc2 = nn.Linear(128, 50)\n",
    "        self.fc3 = nn.Linear(50, 10)\n",
    "    \n",
    "    def forward(self, x):\n",
    "        out = self.conv1(x)\n",
    "        out = F.relu(out)\n",
    "        out = F.max_pool2d(out, (2,2))\n",
    "        out = self.conv2(out)\n",
    "        out = F.relu(out)\n",
    "        out = F.max_pool2d(out, (2,2))\n",
    "        out = F.dropout(out, 0.2)\n",
    "        out = out.view(out.shape[0], -1)\n",
    "        out = self.fc1(out)\n",
    "        out = F.relu(out)\n",
    "        out = self.fc2(out)\n",
    "        out = F.relu(out)\n",
    "        out = self.fc3(out)\n",
    "        return out\n",
    "        # YOUR CODE HERE\n",
    "        \n",
    "        raise NotImplementedError()"
   ]
  },
  {
   "cell_type": "markdown",
   "metadata": {
    "deletable": false,
    "editable": false,
    "nbgrader": {
     "checksum": "9fa81f5c9c2759a8b1fbc372028497c3",
     "grade": false,
     "grade_id": "cell-ad9d70fbb2d8fc5f",
     "locked": true,
     "schema_version": 1,
     "solution": false
    }
   },
   "source": [
    "Once you've completed the implementation, save the file and run the following code block to train and evaluate the model."
   ]
  },
  {
   "cell_type": "code",
   "execution_count": 70,
   "metadata": {
    "deletable": false,
    "editable": false,
    "nbgrader": {
     "checksum": "5cf30cdbb30e88f01a91f8eebfc8246c",
     "grade": true,
     "grade_id": "cell-da90b81391df00b2",
     "locked": true,
     "points": 5,
     "schema_version": 1,
     "solution": false
    }
   },
   "outputs": [
    {
     "data": {
      "application/vnd.jupyter.widget-view+json": {
       "model_id": "799ef7819b3c4029a24a80defccf2a1d",
       "version_major": 2,
       "version_minor": 0
      },
      "text/plain": [
       "0/10(t):   0%|          | 0/469 [00:00<?, ?it/s]"
      ]
     },
     "metadata": {},
     "output_type": "display_data"
    },
    {
     "data": {
      "application/vnd.jupyter.widget-view+json": {
       "model_id": "3faf30d9515c417498484b25de632eac",
       "version_major": 2,
       "version_minor": 0
      },
      "text/plain": [
       "1/10(t):   0%|          | 0/469 [00:00<?, ?it/s]"
      ]
     },
     "metadata": {},
     "output_type": "display_data"
    },
    {
     "data": {
      "application/vnd.jupyter.widget-view+json": {
       "model_id": "0ecb7ec2e2fc4f43bc466c1f5cf3f73f",
       "version_major": 2,
       "version_minor": 0
      },
      "text/plain": [
       "2/10(t):   0%|          | 0/469 [00:00<?, ?it/s]"
      ]
     },
     "metadata": {},
     "output_type": "display_data"
    },
    {
     "data": {
      "application/vnd.jupyter.widget-view+json": {
       "model_id": "115eff60a422438e9a18993908ce2a16",
       "version_major": 2,
       "version_minor": 0
      },
      "text/plain": [
       "3/10(t):   0%|          | 0/469 [00:00<?, ?it/s]"
      ]
     },
     "metadata": {},
     "output_type": "display_data"
    },
    {
     "data": {
      "application/vnd.jupyter.widget-view+json": {
       "model_id": "f3a5398d0ee74a089c31ba230eae5d31",
       "version_major": 2,
       "version_minor": 0
      },
      "text/plain": [
       "4/10(t):   0%|          | 0/469 [00:00<?, ?it/s]"
      ]
     },
     "metadata": {},
     "output_type": "display_data"
    },
    {
     "data": {
      "application/vnd.jupyter.widget-view+json": {
       "model_id": "2b434be1797c4788b5415aacb676528c",
       "version_major": 2,
       "version_minor": 0
      },
      "text/plain": [
       "5/10(t):   0%|          | 0/469 [00:00<?, ?it/s]"
      ]
     },
     "metadata": {},
     "output_type": "display_data"
    },
    {
     "data": {
      "application/vnd.jupyter.widget-view+json": {
       "model_id": "83a33dd36e1f450892d4a8415374f611",
       "version_major": 2,
       "version_minor": 0
      },
      "text/plain": [
       "6/10(t):   0%|          | 0/469 [00:00<?, ?it/s]"
      ]
     },
     "metadata": {},
     "output_type": "display_data"
    },
    {
     "data": {
      "application/vnd.jupyter.widget-view+json": {
       "model_id": "7521644e87ce4fa094f1e9930d22f669",
       "version_major": 2,
       "version_minor": 0
      },
      "text/plain": [
       "7/10(t):   0%|          | 0/469 [00:00<?, ?it/s]"
      ]
     },
     "metadata": {},
     "output_type": "display_data"
    },
    {
     "data": {
      "application/vnd.jupyter.widget-view+json": {
       "model_id": "4376dffc65694e1a8610d34be310d1ed",
       "version_major": 2,
       "version_minor": 0
      },
      "text/plain": [
       "8/10(t):   0%|          | 0/469 [00:00<?, ?it/s]"
      ]
     },
     "metadata": {},
     "output_type": "display_data"
    },
    {
     "data": {
      "application/vnd.jupyter.widget-view+json": {
       "model_id": "ddc4beed78274645b5f7b8287d6ecd14",
       "version_major": 2,
       "version_minor": 0
      },
      "text/plain": [
       "9/10(t):   0%|          | 0/469 [00:00<?, ?it/s]"
      ]
     },
     "metadata": {},
     "output_type": "display_data"
    },
    {
     "data": {
      "application/vnd.jupyter.widget-view+json": {
       "model_id": "96a0915456f0446b962ae0296a66de66",
       "version_major": 2,
       "version_minor": 0
      },
      "text/plain": [
       "0/1(e):   0%|          | 0/79 [00:00<?, ?it/s]"
      ]
     },
     "metadata": {},
     "output_type": "display_data"
    },
    {
     "name": "stdout",
     "output_type": "stream",
     "text": [
      "{'test_loss': 0.030909711495041847, 'test_acc': 0.9898999929428101}\n"
     ]
    },
    {
     "ename": "AssertionError",
     "evalue": "",
     "output_type": "error",
     "traceback": [
      "\u001b[1;31m---------------------------------------------------------------------------\u001b[0m",
      "\u001b[1;31mAssertionError\u001b[0m                            Traceback (most recent call last)",
      "\u001b[1;32m<ipython-input-70-cdc69b63eb66>\u001b[0m in \u001b[0;36m<module>\u001b[1;34m\u001b[0m\n\u001b[0;32m     18\u001b[0m \u001b[0mprint\u001b[0m\u001b[1;33m(\u001b[0m\u001b[0mresults\u001b[0m\u001b[1;33m)\u001b[0m\u001b[1;33m\u001b[0m\u001b[1;33m\u001b[0m\u001b[0m\n\u001b[0;32m     19\u001b[0m \u001b[1;33m\u001b[0m\u001b[0m\n\u001b[1;32m---> 20\u001b[1;33m \u001b[1;32massert\u001b[0m \u001b[0mresults\u001b[0m\u001b[1;33m[\u001b[0m\u001b[1;34m'test_acc'\u001b[0m\u001b[1;33m]\u001b[0m \u001b[1;33m>\u001b[0m \u001b[1;36m0.99\u001b[0m\u001b[1;33m\u001b[0m\u001b[1;33m\u001b[0m\u001b[0m\n\u001b[0m",
      "\u001b[1;31mAssertionError\u001b[0m: "
     ]
    }
   ],
   "source": [
    "#reset the data loaders\n",
    "torch.manual_seed(seed)\n",
    "trainloader = DataLoader(trainset, batch_size=128, shuffle=True)\n",
    "testloader = DataLoader(testset, batch_size=128, shuffle=True)\n",
    "\n",
    "# build the model\n",
    "model = BetterCNN()\n",
    "\n",
    "# define the loss function and the optimiser\n",
    "loss_function = nn.CrossEntropyLoss()\n",
    "optimiser = optim.Adam(model.parameters())\n",
    "\n",
    "device = \"cuda:0\" if torch.cuda.is_available() else \"cpu\"\n",
    "trial = Trial(model, optimiser, loss_function, metrics=['loss', 'accuracy']).to(device)\n",
    "trial.with_generators(trainloader, test_generator=testloader)\n",
    "trial.run(epochs=10)\n",
    "results = trial.evaluate(data_key=torchbearer.TEST_DATA)\n",
    "print(results)\n",
    "\n",
    "assert results['test_acc'] > 0.99\n"
   ]
  },
  {
   "cell_type": "markdown",
   "metadata": {
    "deletable": false,
    "editable": false,
    "nbgrader": {
     "checksum": "c2baca3abcdbfc058a657e165a1cf8e3",
     "grade": false,
     "grade_id": "cell-1c2475b8550316a4",
     "locked": true,
     "schema_version": 1,
     "solution": false
    }
   },
   "source": [
    "If correctly implemented you should see this slightly larger model achieves the respectable classification accuracy of 99.13%.\n",
    "\n",
    "## Saving models\n",
    "\n",
    "Being able to train a model is fine, but in practice once we've trained the model we probably want to save the result so we can reuse it at a later time. PyTorch makes saving the model easy using the `torch.save(state, filepath)` function. This will save the weights of the model so they can be loaded into a new instance at a later point. \n",
    "\n",
    "__Run the following code to save the weights for use in the next part of the lab.__"
   ]
  },
  {
   "cell_type": "code",
   "execution_count": 54,
   "metadata": {
    "deletable": false,
    "editable": false,
    "nbgrader": {
     "checksum": "4895367de85f19ae1bb89e90ad300e70",
     "grade": false,
     "grade_id": "cell-6d81f64d4d65498c",
     "locked": true,
     "schema_version": 1,
     "solution": false
    }
   },
   "outputs": [],
   "source": [
    "#save the trained model weights\n",
    "torch.save(model.state_dict(), \"./bettercnn.weights\")"
   ]
  },
  {
   "cell_type": "markdown",
   "metadata": {
    "deletable": false,
    "editable": false,
    "nbgrader": {
     "checksum": "5152e5288466c2af37eb11d3393c5446",
     "grade": false,
     "grade_id": "cell-35c249867f1ec1d2",
     "locked": true,
     "schema_version": 1,
     "solution": false
    }
   },
   "source": [
    "__If you are running on Colab, run the following to download the weights to the local machine:__"
   ]
  },
  {
   "cell_type": "code",
   "execution_count": 55,
   "metadata": {
    "deletable": false,
    "editable": false,
    "nbgrader": {
     "checksum": "c75f37cdabf24f935575dcb026f3c6f3",
     "grade": false,
     "grade_id": "cell-957d645048f13f7a",
     "locked": true,
     "schema_version": 1,
     "solution": false
    }
   },
   "outputs": [
    {
     "ename": "ModuleNotFoundError",
     "evalue": "No module named 'google'",
     "output_type": "error",
     "traceback": [
      "\u001b[1;31m---------------------------------------------------------------------------\u001b[0m",
      "\u001b[1;31mModuleNotFoundError\u001b[0m                       Traceback (most recent call last)",
      "\u001b[1;32m<ipython-input-55-2ae683ba5551>\u001b[0m in \u001b[0;36m<module>\u001b[1;34m\u001b[0m\n\u001b[1;32m----> 1\u001b[1;33m \u001b[1;32mfrom\u001b[0m \u001b[0mgoogle\u001b[0m\u001b[1;33m.\u001b[0m\u001b[0mcolab\u001b[0m \u001b[1;32mimport\u001b[0m \u001b[0mfiles\u001b[0m\u001b[1;33m\u001b[0m\u001b[1;33m\u001b[0m\u001b[0m\n\u001b[0m\u001b[0;32m      2\u001b[0m \u001b[0mfiles\u001b[0m\u001b[1;33m.\u001b[0m\u001b[0mdownload\u001b[0m\u001b[1;33m(\u001b[0m\u001b[1;34m'bettercnn.weights'\u001b[0m\u001b[1;33m)\u001b[0m\u001b[1;33m\u001b[0m\u001b[1;33m\u001b[0m\u001b[0m\n",
      "\u001b[1;31mModuleNotFoundError\u001b[0m: No module named 'google'"
     ]
    }
   ],
   "source": [
    "from google.colab import files\n",
    "files.download('bettercnn.weights')"
   ]
  },
  {
   "cell_type": "markdown",
   "metadata": {},
   "source": [
    "# Part 2: Loading a saved model"
   ]
  },
  {
   "cell_type": "markdown",
   "metadata": {},
   "source": [
    "__Before starting, we recommend you enable GPU acceleration if you're running on Colab. You'll also need to upload the weights you downloaded previously using the following block and using the upload button to upload your bettercnn.weights file:__"
   ]
  },
  {
   "cell_type": "code",
   "execution_count": 78,
   "metadata": {},
   "outputs": [
    {
     "name": "stdout",
     "output_type": "stream",
     "text": [
      "Not running on colab. Ignoring.\n",
      "100% [..................................................................................] 261 / 261"
     ]
    },
    {
     "data": {
      "text/plain": [
       "'9.PNG'"
      ]
     },
     "execution_count": 78,
     "metadata": {},
     "output_type": "execute_result"
    }
   ],
   "source": [
    "# Execute this code block to install dependencies when running on colab\n",
    "try:\n",
    "    import torch\n",
    "except:\n",
    "    from os.path import exists\n",
    "    from wheel.pep425tags import get_abbr_impl, get_impl_ver, get_abi_tag\n",
    "    platform = '{}{}-{}'.format(get_abbr_impl(), get_impl_ver(), get_abi_tag())\n",
    "    cuda_output = !ldconfig -p|grep cudart.so|sed -e 's/.*\\.\\([0-9]*\\)\\.\\([0-9]*\\)$/cu\\1\\2/'\n",
    "    accelerator = cuda_output[0] if exists('/dev/nvidia0') else 'cpu'\n",
    "\n",
    "    !pip install -q http://download.pytorch.org/whl/{accelerator}/torch-1.0.0-{platform}-linux_x86_64.whl torchvision\n",
    "    \n",
    "try: \n",
    "    import torchbearer\n",
    "except:\n",
    "    !pip install torchbearer\n",
    "\n",
    "try:\n",
    "    from google.colab import files\n",
    "    uploaded = files.upload()\n",
    "except:\n",
    "    print(\"Not running on colab. Ignoring.\")\n",
    "    \n",
    "try: \n",
    "    import wget\n",
    "except:\n",
    "    !pip install wget\n",
    "\n",
    "wget.download('http://comp6248.ecs.soton.ac.uk/labs/lab5/0.PNG') \n",
    "wget.download('http://comp6248.ecs.soton.ac.uk/labs/lab5/1.PNG')\n",
    "wget.download('http://comp6248.ecs.soton.ac.uk/labs/lab5/2.PNG')\n",
    "wget.download('http://comp6248.ecs.soton.ac.uk/labs/lab5/3.PNG')\n",
    "wget.download('http://comp6248.ecs.soton.ac.uk/labs/lab5/4.PNG')\n",
    "wget.download('http://comp6248.ecs.soton.ac.uk/labs/lab5/5.PNG')\n",
    "wget.download('http://comp6248.ecs.soton.ac.uk/labs/lab5/6.PNG')\n",
    "wget.download('http://comp6248.ecs.soton.ac.uk/labs/lab5/7.PNG')\n",
    "wget.download('http://comp6248.ecs.soton.ac.uk/labs/lab5/8.PNG')\n",
    "wget.download('http://comp6248.ecs.soton.ac.uk/labs/lab5/9.PNG')"
   ]
  },
  {
   "cell_type": "markdown",
   "metadata": {},
   "source": [
    "## Reading models and propagating input\n",
    "\n",
    "At this point, we know how to train a model and how to save the resultant weights. Let's assume we're in the business of building a real system for handwritten character recognition; we need to be able to read in a previously trained model and forward propagate an image from outside the MNIST dataset through it in order to generate a prediction. Let's build some code to do just that. Firstly we need to load the model we saved in the previous part of the lab; PyTorch doesn't save the model structure by default, so you'll need to copy-paste the `BetterCNN` `forward` method implementation from the previous workbook into the block below:"
   ]
  },
  {
   "cell_type": "code",
   "execution_count": 81,
   "metadata": {},
   "outputs": [
    {
     "name": "stdout",
     "output_type": "stream",
     "text": [
      "The autoreload extension is already loaded. To reload it, use:\n",
      "  %reload_ext autoreload\n"
     ]
    }
   ],
   "source": [
    "%matplotlib inline\n",
    "# automatically reload external modules if they change\n",
    "%load_ext autoreload\n",
    "%autoreload 2\n",
    "\n",
    "import torch \n",
    "import torch.nn.functional as F\n",
    "import matplotlib.pyplot as plt\n",
    "from torch import nn\n",
    "\n",
    "import torch \n",
    "import torch.nn.functional as F\n",
    "from torch import nn\n",
    "\n",
    "# Model Definition\n",
    "class BetterCNN(nn.Module):\n",
    "    \n",
    "    def __init__(self):\n",
    "        super(BetterCNN, self).__init__()\n",
    "        self.conv1 = nn.Conv2d(1, 30, (5, 5), padding=0)\n",
    "        self.conv2 = nn.Conv2d(30, 15, (3, 3), padding=0)\n",
    "        self.fc1 = nn.Linear(15 * 5**2, 128)\n",
    "        self.fc2 = nn.Linear(128, 50)\n",
    "        self.fc3 = nn.Linear(50, 10)\n",
    "    \n",
    "    def forward(self, x):\n",
    "        out = self.conv1(x)\n",
    "        out = F.relu(out)\n",
    "        out = F.max_pool2d(out, (2,2))\n",
    "        out = self.conv2(out)\n",
    "        out = F.relu(out)\n",
    "        out = F.max_pool2d(out, (2,2))\n",
    "        out = F.dropout(out, 0.2)\n",
    "        out = out.view(out.shape[0], -1)\n",
    "        out = self.fc1(out)\n",
    "        out = F.relu(out)\n",
    "        out = self.fc2(out)\n",
    "        out = F.relu(out)\n",
    "        out = self.fc3(out)\n",
    "        return out\n",
    "        raise NotImplementedError()\n",
    "\n",
    "# build the model and load state\n",
    "model = BetterCNN()\n",
    "model.load_state_dict(torch.load('bettercnn.weights'))\n",
    "\n",
    "# put model in eval mode\n",
    "model = model.eval() "
   ]
  },
  {
   "cell_type": "markdown",
   "metadata": {},
   "source": [
    "We've provided a set of images you can try. Let's load the one corresponding to a '1', convert it to a tensor, and display it:"
   ]
  },
  {
   "cell_type": "code",
   "execution_count": 82,
   "metadata": {},
   "outputs": [
    {
     "data": {
      "text/plain": [
       "<matplotlib.image.AxesImage at 0x22230c04c70>"
      ]
     },
     "execution_count": 82,
     "metadata": {},
     "output_type": "execute_result"
    },
    {
     "data": {
      "image/png": "[encoded data removed]",
      "text/plain": [
       "<Figure size 432x288 with 1 Axes>"
      ]
     },
     "metadata": {
      "needs_background": "light"
     },
     "output_type": "display_data"
    }
   ],
   "source": [
    "from PIL import Image\n",
    "import torchvision\n",
    "\n",
    "transform = torchvision.transforms.ToTensor()\n",
    "im = transform(Image.open(\"1.PNG\"))\n",
    "\n",
    "plt.imshow(im[0], cmap=plt.get_cmap('gray'))"
   ]
  },
  {
   "cell_type": "markdown",
   "metadata": {},
   "source": [
    "Now we'll use the model to make a prediction. The model expects input to have a batch dimension, so we use `unsqueeze(0)` to prepend one to the image. Recall that the model outputs the logits of the classes; the index of the biggest one will tell us which class has been predicted."
   ]
  },
  {
   "cell_type": "code",
   "execution_count": 84,
   "metadata": {},
   "outputs": [
    {
     "name": "stdout",
     "output_type": "stream",
     "text": [
      "logits: tensor([[-4.1561,  8.2611, -3.5657, -5.4341, -1.4724, -3.8578, -3.0020,  0.0109,\n",
      "          2.2517, -2.3591]])\n",
      "tensor([1])\n",
      "predicted class: 1\n"
     ]
    }
   ],
   "source": [
    "batch = im.unsqueeze(0)\n",
    "predictions = model(batch)\n",
    "\n",
    "print(\"logits:\", predictions.data)\n",
    "\n",
    "_, predicted_class = predictions.max(1)\n",
    "\n",
    "print(\"predicted class:\", predicted_class.item())"
   ]
  },
  {
   "cell_type": "markdown",
   "metadata": {},
   "source": [
    "We've provided images `0.PNG` through to `9.PNG` for you to play with. Use the following code block to classify each image and print the results."
   ]
  },
  {
   "cell_type": "code",
   "execution_count": 90,
   "metadata": {},
   "outputs": [
    {
     "name": "stdout",
     "output_type": "stream",
     "text": [
      "predicted class 0: 0\n",
      "predicted class 1: 1\n",
      "predicted class 2: 2\n",
      "predicted class 3: 3\n",
      "predicted class 4: 4\n",
      "predicted class 5: 5\n",
      "predicted class 6: 6\n",
      "predicted class 7: 7\n",
      "predicted class 8: 8\n",
      "predicted class 9: 9\n"
     ]
    },
    {
     "data": {
      "image/png": "[encoded data removed]",
      "text/plain": [
       "<Figure size 432x288 with 1 Axes>"
      ]
     },
     "metadata": {
      "needs_background": "light"
     },
     "output_type": "display_data"
    }
   ],
   "source": [
    "for i in range(10):\n",
    "    transform = torchvision.transforms.ToTensor()\n",
    "    a = str(\"%d.PNG\"%i) \n",
    "    im = transform(Image.open(\"%d.PNG\"%i))\n",
    "    plt.imshow(im[0], cmap=plt.get_cmap('gray'))\n",
    "    batch = im.unsqueeze(0)\n",
    "    predictions = model(batch)\n",
    "    _, predicted_class = predictions.max(1)\n",
    "    print(\"predicted class %d:\"%i, predicted_class.item())"
   ]
  },
  {
   "cell_type": "markdown",
   "metadata": {},
   "source": [
    "__Answer the following question (enter the answer in the box below each one):__\n",
    "\n",
    "__1.__ How many images were missclassified? Which images?"
   ]
  },
  {
   "cell_type": "markdown",
   "metadata": {},
   "source": [
    "# Part 3: Visualising Convolutional Networks"
   ]
  },
  {
   "cell_type": "markdown",
   "metadata": {},
   "source": [
    "## Visualising the first layers filters and responses\n",
    "\n",
    "In our previous `BetterCNN` convolutional network, the first layer was a Convolutional layer. Because this convolutional layer is applied directly to the greylevel input MNIST images the filters that are learned can themselves just be considered to be small (5x5 in this case) greylevel images. \n",
    "\n",
    "We'll start by doing a few imports and then loading our pre-trained model. Once again, please copy-paste the forward method from the first workbook:"
   ]
  },
  {
   "cell_type": "code",
   "execution_count": 115,
   "metadata": {},
   "outputs": [
    {
     "name": "stdout",
     "output_type": "stream",
     "text": [
      "The autoreload extension is already loaded. To reload it, use:\n",
      "  %reload_ext autoreload\n"
     ]
    },
    {
     "data": {
      "text/plain": [
       "<All keys matched successfully>"
      ]
     },
     "execution_count": 115,
     "metadata": {},
     "output_type": "execute_result"
    }
   ],
   "source": [
    "%matplotlib inline\n",
    "# automatically reload external modules if they change\n",
    "%load_ext autoreload\n",
    "%autoreload 2\n",
    "\n",
    "import torch \n",
    "import torch.nn.functional as F\n",
    "import matplotlib.pyplot as plt\n",
    "from torch import nn\n",
    "\n",
    "import torch \n",
    "import torch.nn.functional as F\n",
    "from torch import nn\n",
    "\n",
    "# Model Definition\n",
    "class BetterCNN(nn.Module):\n",
    "    def __init__(self):\n",
    "        super(BetterCNN, self).__init__()\n",
    "        self.conv1 = nn.Conv2d(1, 30, (5, 5), padding=0)\n",
    "        self.conv2 = nn.Conv2d(30, 15, (3, 3), padding=0)\n",
    "        self.fc1 = nn.Linear(15 * 5**2, 128)\n",
    "        self.fc2 = nn.Linear(128, 50)\n",
    "        self.fc3 = nn.Linear(50, 10)\n",
    "    \n",
    "    def forward(self, x):\n",
    "        out = self.conv1(x)\n",
    "        out = F.relu(out)\n",
    "        out = F.max_pool2d(out, (2,2))\n",
    "        out = self.conv2(out)\n",
    "        out = F.relu(out)\n",
    "        out = F.max_pool2d(out, (2,2))\n",
    "        out = F.dropout(out, 0.2)\n",
    "        out = out.view(out.shape[0], -1)\n",
    "        out = self.fc1(out)\n",
    "        out = F.relu(out)\n",
    "        out = self.fc2(out)\n",
    "        out = F.relu(out)\n",
    "        out = self.fc3(out)\n",
    "        return out\n",
    "        raise NotImplementedError()\n",
    "\n",
    "# build the model and load state\n",
    "model = BetterCNN()\n",
    "model.load_state_dict(torch.load('bettercnn.weights'))"
   ]
  },
  {
   "cell_type": "markdown",
   "metadata": {},
   "source": [
    "We can extract the weights of the first layer filters directly from the trained network and visualise them using `matplotlib` like this:"
   ]
  },
  {
   "cell_type": "code",
   "execution_count": 116,
   "metadata": {},
   "outputs": [
    {
     "data": {
      "image/png": "[encoded data removed]",
      "text/plain": [
       "<Figure size 432x288 with 30 Axes>"
      ]
     },
     "metadata": {
      "needs_background": "light"
     },
     "output_type": "display_data"
    }
   ],
   "source": [
    "from matplotlib.pyplot import imread\n",
    "\n",
    "weights = model.conv1.weight.data.cpu()\n",
    "\n",
    "# plot the first layer features\n",
    "for i in range(0,30):\n",
    "\tplt.subplot(5,6,i+1)\n",
    "\tplt.imshow(weights[i, 0, :, :], cmap=plt.get_cmap('gray'))\n",
    "plt.show()"
   ]
  },
  {
   "cell_type": "markdown",
   "metadata": {},
   "source": [
    "Note that `model.conv1.data` is the tensor holding the weights. Calling `cpu()` ensures data is moved over from the GPU if necessary.\n",
    "\n",
    "__Answer the following question (enter the answer in the box below):__\n",
    "\n",
    "__1.__ What sort of features do the filters resemble? How does this relate to your knowledge of the training data?"
   ]
  },
  {
   "cell_type": "markdown",
   "metadata": {},
   "source": [
    "## Visualising feature maps\n",
    "\n",
    "If we forward propagate an input through the network we can also visualise the response maps generated by the filters. The advantage of this kind of visualisation is that we can compute it at any layer, not just the first one. In order to do this in PyTorch, we can propagate the given input through the network to the required point and use a `hook` to intercept the feature maps as they are created. The following code shows how this can be achieved to generate the response maps of the second convolutional layer of our network:"
   ]
  },
  {
   "cell_type": "code",
   "execution_count": 117,
   "metadata": {},
   "outputs": [
    {
     "data": {
      "image/png": "[encoded data removed]",
      "text/plain": [
       "<Figure size 432x288 with 15 Axes>"
      ]
     },
     "metadata": {
      "needs_background": "light"
     },
     "output_type": "display_data"
    }
   ],
   "source": [
    "from PIL import Image\n",
    "import torchvision\n",
    "\n",
    "transform = torchvision.transforms.ToTensor()\n",
    "im = transform(Image.open(\"1.PNG\")).unsqueeze(0)\n",
    "\n",
    "def hook_function(module, grad_in, grad_out):\n",
    "    for i in range(grad_out.shape[1]):\n",
    "        conv_output = grad_out.data[0, i]\n",
    "        plt.subplot(5, int(1+grad_out.shape[1]/5), i+1)\n",
    "        plt.imshow(conv_output, cmap=plt.get_cmap('gray'))\n",
    "        \n",
    "hook = model.conv2.register_forward_hook(hook_function) # register the hook\n",
    "model(im) # forward pass\n",
    "hook.remove() #Tidy up"
   ]
  },
  {
   "cell_type": "markdown",
   "metadata": {},
   "source": [
    "Use the following code block to visualise the feature maps of the first convolutional layer:"
   ]
  },
  {
   "cell_type": "markdown",
   "metadata": {},
   "source": [
    "A final way of visualising what the filters (at any depth) are learning is to find the input image that maximises the response of the filter. We can do this by starting with a random image and using gradient ascent to optimise the image to maximise the chosen filter (see http://www.iro.umontreal.ca/~lisa/publications2/index.php/publications/show/247 and https://distill.pub/2017/feature-visualization/ for more info on this approach). The following code snippet shows how this can be achieved:"
   ]
  },
  {
   "cell_type": "code",
   "execution_count": 119,
   "metadata": {},
   "outputs": [
    {
     "name": "stderr",
     "output_type": "stream",
     "text": [
      "<ipython-input-119-d7a2cd0ac68e>:28: MatplotlibDeprecationWarning: Passing non-integers as three-element position specification is deprecated since 3.3 and will be removed two minor releases later.\n",
      "  plt.subplot(2,num/2,selected+1)\n"
     ]
    },
    {
     "data": {
      "image/png": "[encoded data removed]",
      "text/plain": [
       "<Figure size 432x288 with 10 Axes>"
      ]
     },
     "metadata": {
      "needs_background": "light"
     },
     "output_type": "display_data"
    }
   ],
   "source": [
    "def visualise_maximum_activation(model, target, num=10, alpha = 1.0):\n",
    "    for selected in range(num):\n",
    "        input_img = torch.randn(1, 1, 28, 28, requires_grad=True)\n",
    "\n",
    "        # we're interested in maximising outputs of the 3rd layer:\n",
    "        conv_output = None\n",
    "\n",
    "        def hook_function(module, grad_in, grad_out):\n",
    "            nonlocal conv_output\n",
    "            # Gets the conv output of the selected filter/feature (from selected layer)\n",
    "            conv_output = grad_out[0, selected]\n",
    "\n",
    "        hook = target.register_forward_hook(hook_function)\n",
    "\n",
    "        for i in range(30):\n",
    "            model(input_img)\n",
    "            loss = torch.mean(conv_output)\n",
    "            loss.backward()\n",
    "\n",
    "            norm = input_img.grad.std() + 1e-5\n",
    "            input_img.grad /= norm\n",
    "            input_img.data = input_img + alpha * input_img.grad\n",
    "\n",
    "        hook.remove()\n",
    "\n",
    "        input_img = input_img.detach()\n",
    "\n",
    "        plt.subplot(2,num/2,selected+1)\n",
    "        plt.imshow(input_img[0,0], cmap=plt.get_cmap('gray'))\n",
    "\n",
    "    plt.show()\n",
    "    \n",
    "visualise_maximum_activation(model, model.fc3)"
   ]
  },
  {
   "cell_type": "markdown",
   "metadata": {},
   "source": [
    "# Part 4: More advanced networks"
   ]
  },
  {
   "cell_type": "markdown",
   "metadata": {},
   "source": [
    "Recent network models, such as the deep residual network (ResNet) and GoogLeNet architectures, do not follow a straight path from input to output. Instead, these models incorporate branches and merges to create a computation graph. Branching and merging is easy to implement in PyTorch as shown in the following code snippet:"
   ]
  },
  {
   "cell_type": "code",
   "execution_count": 121,
   "metadata": {},
   "outputs": [],
   "source": [
    "import torch \n",
    "import torch.nn.functional as F\n",
    "from torch import nn\n",
    "\n",
    "class BranchModel(nn.Module):\n",
    "    def __init__(self):\n",
    "        super(BranchModel, self).__init__()\n",
    "        self.left  = nn.Conv2d(1, 16, (1, 1), padding=0)\n",
    "        self.right = nn.Conv2d(1, 16, (5, 5), padding=2)\n",
    "        self.fc1 = nn.Linear(16*14*14, 128)\n",
    "        self.fc2 = nn.Linear(128, 10)\n",
    "        \n",
    "    def forward(self, x):\n",
    "        out_l = self.left(x)\n",
    "        out_l = F.relu(out_l)\n",
    "        print(out_l.size())\n",
    "\n",
    "        out_r = self.right(x)\n",
    "        out_r = F.relu(out_r)\n",
    "        print(out_r.size())\n",
    "\n",
    "        out = out_l + out_r\n",
    "        print(out.size())\n",
    "        \n",
    "        out = F.max_pool2d(out, (2,2))\n",
    "        print(out.size())\n",
    "        out = F.dropout(out, 0.2)\n",
    "        out = out.view(out.shape[0], -1)\n",
    "        out = self.fc1(out)\n",
    "        out = F.relu(out)\n",
    "        out = self.fc2(out)\n",
    "\n",
    "        return out"
   ]
  },
  {
   "cell_type": "code",
   "execution_count": 126,
   "metadata": {},
   "outputs": [],
   "source": [
    "model = BranchModel()\n",
    "# x = torch.randn(1,1,28,28)\n",
    "# out = model(x)\n",
    "# print(out.size())"
   ]
  },
  {
   "cell_type": "markdown",
   "metadata": {},
   "source": [
    "This defines a variant of our initial simple CNN model in which the input is split into two paths and then merged again; the left hand path consists of a 1x1 convolution layer, whilst the right-hand path has a 5x5 convolutional layer. The 1x1 convolutions will have the effect of increasing the number of bands in the input from 1 to 16 (with each band a (potentially different) scalar multiple of the input). Padding is used to ensure the feature maps have the same shape on the left and right branches. In this case the left and right branches are merged by summing them together (element-wise, layer by layer).\n",
    "\n",
    "__Use the code block below to train and evaluate the above model.__"
   ]
  },
  {
   "cell_type": "code",
   "execution_count": 129,
   "metadata": {},
   "outputs": [
    {
     "name": "stdout",
     "output_type": "stream",
     "text": [
      "torch.Size([1, 16, 28, 28])\n",
      "torch.Size([1, 16, 28, 28])\n",
      "torch.Size([1, 16, 28, 28])\n",
      "torch.Size([1, 16, 14, 14])\n",
      "predicted class 0: 1\n",
      "torch.Size([1, 16, 28, 28])\n",
      "torch.Size([1, 16, 28, 28])\n",
      "torch.Size([1, 16, 28, 28])\n",
      "torch.Size([1, 16, 14, 14])\n",
      "predicted class 1: 0\n",
      "torch.Size([1, 16, 28, 28])\n",
      "torch.Size([1, 16, 28, 28])\n",
      "torch.Size([1, 16, 28, 28])\n",
      "torch.Size([1, 16, 14, 14])\n",
      "predicted class 2: 1\n",
      "torch.Size([1, 16, 28, 28])\n",
      "torch.Size([1, 16, 28, 28])\n",
      "torch.Size([1, 16, 28, 28])\n",
      "torch.Size([1, 16, 14, 14])\n",
      "predicted class 3: 6\n",
      "torch.Size([1, 16, 28, 28])\n",
      "torch.Size([1, 16, 28, 28])\n",
      "torch.Size([1, 16, 28, 28])\n",
      "torch.Size([1, 16, 14, 14])\n",
      "predicted class 4: 0\n",
      "torch.Size([1, 16, 28, 28])\n",
      "torch.Size([1, 16, 28, 28])\n",
      "torch.Size([1, 16, 28, 28])\n",
      "torch.Size([1, 16, 14, 14])\n",
      "predicted class 5: 1\n",
      "torch.Size([1, 16, 28, 28])\n",
      "torch.Size([1, 16, 28, 28])\n",
      "torch.Size([1, 16, 28, 28])\n",
      "torch.Size([1, 16, 14, 14])\n",
      "predicted class 6: 1\n",
      "torch.Size([1, 16, 28, 28])\n",
      "torch.Size([1, 16, 28, 28])\n",
      "torch.Size([1, 16, 28, 28])\n",
      "torch.Size([1, 16, 14, 14])\n",
      "predicted class 7: 1\n",
      "torch.Size([1, 16, 28, 28])\n",
      "torch.Size([1, 16, 28, 28])\n",
      "torch.Size([1, 16, 28, 28])\n",
      "torch.Size([1, 16, 14, 14])\n",
      "predicted class 8: 1\n",
      "torch.Size([1, 16, 28, 28])\n",
      "torch.Size([1, 16, 28, 28])\n",
      "torch.Size([1, 16, 28, 28])\n",
      "torch.Size([1, 16, 14, 14])\n",
      "predicted class 9: 1\n"
     ]
    },
    {
     "ename": "NotImplementedError",
     "evalue": "",
     "output_type": "error",
     "traceback": [
      "\u001b[1;31m---------------------------------------------------------------------------\u001b[0m",
      "\u001b[1;31mNotImplementedError\u001b[0m                       Traceback (most recent call last)",
      "\u001b[1;32m<ipython-input-129-8078d6a686c0>\u001b[0m in \u001b[0;36m<module>\u001b[1;34m\u001b[0m\n\u001b[0;32m      8\u001b[0m     \u001b[0m_\u001b[0m\u001b[1;33m,\u001b[0m \u001b[0mpredicted_class\u001b[0m \u001b[1;33m=\u001b[0m \u001b[0mpredictions\u001b[0m\u001b[1;33m.\u001b[0m\u001b[0mmax\u001b[0m\u001b[1;33m(\u001b[0m\u001b[1;36m1\u001b[0m\u001b[1;33m)\u001b[0m\u001b[1;33m\u001b[0m\u001b[1;33m\u001b[0m\u001b[0m\n\u001b[0;32m      9\u001b[0m     \u001b[0mprint\u001b[0m\u001b[1;33m(\u001b[0m\u001b[1;34m\"predicted class %d:\"\u001b[0m\u001b[1;33m%\u001b[0m\u001b[0mi\u001b[0m\u001b[1;33m,\u001b[0m \u001b[0mpredicted_class\u001b[0m\u001b[1;33m.\u001b[0m\u001b[0mitem\u001b[0m\u001b[1;33m(\u001b[0m\u001b[1;33m)\u001b[0m\u001b[1;33m)\u001b[0m\u001b[1;33m\u001b[0m\u001b[1;33m\u001b[0m\u001b[0m\n\u001b[1;32m---> 10\u001b[1;33m \u001b[1;32mraise\u001b[0m \u001b[0mNotImplementedError\u001b[0m\u001b[1;33m(\u001b[0m\u001b[1;33m)\u001b[0m\u001b[1;33m\u001b[0m\u001b[1;33m\u001b[0m\u001b[0m\n\u001b[0m",
      "\u001b[1;31mNotImplementedError\u001b[0m: "
     ]
    },
    {
     "data": {
      "image/png": "[encoded data removed]",
      "text/plain": [
       "<Figure size 432x288 with 1 Axes>"
      ]
     },
     "metadata": {
      "needs_background": "light"
     },
     "output_type": "display_data"
    }
   ],
   "source": [
    "for i in range(10):\n",
    "    transform = torchvision.transforms.ToTensor()\n",
    "    a = str(\"%d.PNG\"%i) \n",
    "    im = transform(Image.open(\"%d.PNG\"%i))\n",
    "    plt.imshow(im[0], cmap=plt.get_cmap('gray'))\n",
    "    batch = im.unsqueeze(0)\n",
    "    predictions = model(batch)\n",
    "    _, predicted_class = predictions.max(1)\n",
    "    print(\"predicted class %d:\"%i, predicted_class.item())\n",
    "raise NotImplementedError()"
   ]
  },
  {
   "cell_type": "markdown",
   "metadata": {},
   "source": [
    "## Going further\n",
    "\n",
    "None of the network topology we have experimented with thus far are optimised. Nor are they reproductions of network topologies from recent papers.\n",
    "\n",
    "__There is a lot of opportunity for you to tune and improve upon these models. What is the best error rate score you can achieve?__"
   ]
  },
  {
   "cell_type": "code",
   "execution_count": 11,
   "metadata": {
    "scrolled": false
   },
   "outputs": [
    {
     "name": "stdout",
     "output_type": "stream",
     "text": [
      "tensor([[0., 0., 0.,  ..., 0., 0., 0.],\n",
      "        [0., 0., 0.,  ..., 0., 0., 0.],\n",
      "        [0., 0., 0.,  ..., 0., 0., 0.],\n",
      "        ...,\n",
      "        [0., 0., 0.,  ..., 0., 0., 0.],\n",
      "        [0., 0., 0.,  ..., 0., 0., 0.],\n",
      "        [0., 0., 0.,  ..., 0., 0., 0.]]) tensor([-8.]) tensor([-6.]) tensor([-3.])\n",
      "tensor([ 0.7500, -3.0000])\n",
      "tensor([[16., 29.],\n",
      "        [30.,  8.],\n",
      "        [18., 37.],\n",
      "        [14.,  1.],\n",
      "        [24.,  8.],\n",
      "        [20.,  8.],\n",
      "        [ 0., 38.],\n",
      "        [37., 26.],\n",
      "        [ 7.,  0.],\n",
      "        [32.,  7.],\n",
      "        [23., 23.],\n",
      "        [10., 13.],\n",
      "        [15.,  7.],\n",
      "        [13.,  3.],\n",
      "        [15., 39.],\n",
      "        [37., 29.],\n",
      "        [ 6., 28.],\n",
      "        [37.,  4.],\n",
      "        [ 8., 26.],\n",
      "        [14.,  1.]])\n",
      "tensor([[16.0000,  9.0000],\n",
      "        [30.0000, 19.5000],\n",
      "        [18.0000, 10.5000],\n",
      "        [14.0000,  7.5000],\n",
      "        [24.0000, 15.0000],\n",
      "        [20.0000, 12.0000],\n",
      "        [ 0.0000, -3.0000],\n",
      "        [37.0000, 24.7500],\n",
      "        [ 7.0000,  2.2500],\n",
      "        [32.0000, 21.0000],\n",
      "        [23.0000, 14.2500],\n",
      "        [10.0000,  4.5000],\n",
      "        [15.0000,  8.2500],\n",
      "        [13.0000,  6.7500],\n",
      "        [15.0000,  8.2500],\n",
      "        [37.0000, 24.7500],\n",
      "        [ 6.0000,  1.5000],\n",
      "        [37.0000, 24.7500],\n",
      "        [ 8.0000,  3.0000],\n",
      "        [14.0000,  7.5000]])\n",
      "tensor([[16.,  9.],\n",
      "        [30., 20.],\n",
      "        [18., 10.],\n",
      "        [14.,  8.],\n",
      "        [24., 15.],\n",
      "        [20., 12.],\n",
      "        [ 0., -3.],\n",
      "        [37., 25.],\n",
      "        [ 7.,  2.],\n",
      "        [32., 21.],\n",
      "        [23., 14.],\n",
      "        [10.,  4.],\n",
      "        [15.,  8.],\n",
      "        [13.,  7.],\n",
      "        [15.,  8.],\n",
      "        [37., 25.],\n",
      "        [ 6.,  2.],\n",
      "        [37., 25.],\n",
      "        [ 8.,  3.],\n",
      "        [14.,  8.]])\n",
      "tensor([[16.,  9.],\n",
      "        [30., 20.],\n",
      "        [18., 10.],\n",
      "        [14.,  8.],\n",
      "        [24., 15.],\n",
      "        [20., 12.],\n",
      "        [37., 25.],\n",
      "        [ 7.,  2.],\n",
      "        [32., 21.],\n",
      "        [23., 14.],\n",
      "        [10.,  4.],\n",
      "        [15.,  8.],\n",
      "        [13.,  7.],\n",
      "        [15.,  8.],\n",
      "        [37., 25.],\n",
      "        [ 6.,  2.],\n",
      "        [37., 25.],\n",
      "        [ 8.,  3.],\n",
      "        [14.,  8.]])\n",
      "tensor([[16.,  9.],\n",
      "        [30., 20.],\n",
      "        [18., 10.],\n",
      "        [14.,  8.],\n",
      "        [24., 15.],\n",
      "        [20., 12.],\n",
      "        [37., 25.],\n",
      "        [ 7.,  2.],\n",
      "        [32., 21.],\n",
      "        [23., 14.],\n",
      "        [10.,  4.],\n",
      "        [15.,  8.],\n",
      "        [13.,  7.],\n",
      "        [15.,  8.],\n",
      "        [37., 25.],\n",
      "        [ 6.,  2.],\n",
      "        [37., 25.],\n",
      "        [ 8.,  3.],\n",
      "        [14.,  8.]])\n",
      "tensor([[16.,  9.],\n",
      "        [30., 20.],\n",
      "        [18., 10.],\n",
      "        [14.,  8.],\n",
      "        [24., 15.],\n",
      "        [20., 12.],\n",
      "        [37., 25.],\n",
      "        [ 7.,  2.],\n",
      "        [32., 21.],\n",
      "        [23., 14.],\n",
      "        [10.,  4.],\n",
      "        [15.,  8.],\n",
      "        [13.,  7.],\n",
      "        [15.,  8.],\n",
      "        [37., 25.],\n",
      "        [ 6.,  2.],\n",
      "        [37., 25.],\n",
      "        [ 8.,  3.],\n",
      "        [14.,  8.]])\n"
     ]
    }
   ],
   "source": [
    "import torch\n",
    "img = torch.zeros(40,40)\n",
    "dx = torch.randint(-10,10,(1,),dtype=torch.float)\n",
    "dy = torch.randint(-10,10,(1,),dtype=torch.float)\n",
    "c = torch.randint(-20,20,(1,), dtype=torch.float)\n",
    "print(img,dx,dy,c)\n",
    "params = torch.cat((dy/dx, c))\n",
    "xy = torch.randint(0,img.shape[1], (20, 2), dtype=torch.float)\n",
    "print(params)\n",
    "print(xy)\n",
    "xy[:,1] = xy[:,0] * params[0] + params[1]\n",
    "print(xy)\n",
    "xy.round_()\n",
    "print(xy)\n",
    "xy = xy[ xy[:,1] > 0 ]\n",
    "print(xy)\n",
    "xy = xy[ xy[:,1] < 40 ]\n",
    "print(xy)\n",
    "xy = xy[ xy[:,0] < 40 ]\n",
    "print(xy)"
   ]
  },
  {
   "cell_type": "code",
   "execution_count": 15,
   "metadata": {},
   "outputs": [
    {
     "name": "stdout",
     "output_type": "stream",
     "text": [
      "19\n",
      "tensor(16.) tensor(31.)\n",
      "tensor(30.) tensor(20.)\n",
      "tensor(18.) tensor(30.)\n",
      "tensor(14.) tensor(32.)\n",
      "tensor(24.) tensor(25.)\n",
      "tensor(20.) tensor(28.)\n",
      "tensor(37.) tensor(15.)\n",
      "tensor(7.) tensor(38.)\n",
      "tensor(32.) tensor(19.)\n",
      "tensor(23.) tensor(26.)\n",
      "tensor(10.) tensor(36.)\n",
      "tensor(15.) tensor(32.)\n",
      "tensor(13.) tensor(33.)\n",
      "tensor(15.) tensor(32.)\n",
      "tensor(37.) tensor(15.)\n",
      "tensor(6.) tensor(38.)\n",
      "tensor(37.) tensor(15.)\n",
      "tensor(8.) tensor(37.)\n",
      "tensor(14.) tensor(32.)\n",
      "tensor([[0., 0., 0.,  ..., 0., 0., 0.],\n",
      "        [0., 0., 0.,  ..., 0., 0., 0.],\n",
      "        [0., 0., 0.,  ..., 0., 0., 0.],\n",
      "        ...,\n",
      "        [0., 0., 0.,  ..., 0., 0., 0.],\n",
      "        [0., 0., 0.,  ..., 0., 0., 0.],\n",
      "        [0., 0., 0.,  ..., 0., 0., 0.]])\n"
     ]
    }
   ],
   "source": [
    "print(xy.shape[0])\n",
    "for i in range(xy.shape[0]):\n",
    "    x, y = xy[i][0], 40 - xy[i][1]\n",
    "    print(x,y)\n",
    "    img[int(y), int(x)]=1\n",
    "print(img)"
   ]
  },
  {
   "cell_type": "code",
   "execution_count": 42,
   "metadata": {
    "scrolled": false
   },
   "outputs": [
    {
     "name": "stdout",
     "output_type": "stream",
     "text": [
      "tensor([[-0.5000, -0.4750, -0.4500, -0.4250, -0.4000, -0.3750, -0.3500, -0.3250,\n",
      "         -0.3000, -0.2750, -0.2500, -0.2250, -0.2000, -0.1750, -0.1500, -0.1250,\n",
      "         -0.1000, -0.0750, -0.0500, -0.0250,  0.0000,  0.0250,  0.0500,  0.0750,\n",
      "          0.1000,  0.1250,  0.1500,  0.1750,  0.2000,  0.2250,  0.2500,  0.2750,\n",
      "          0.3000,  0.3250,  0.3500,  0.3750,  0.4000,  0.4250,  0.4500,  0.4750]])\n",
      "torch.Size([1, 40])\n",
      "tensor([[-0.5000, -0.4750, -0.4500,  ...,  0.4250,  0.4500,  0.4750],\n",
      "        [-0.5000, -0.4750, -0.4500,  ...,  0.4250,  0.4500,  0.4750],\n",
      "        [-0.5000, -0.4750, -0.4500,  ...,  0.4250,  0.4500,  0.4750],\n",
      "        ...,\n",
      "        [-0.5000, -0.4750, -0.4500,  ...,  0.4250,  0.4500,  0.4750],\n",
      "        [-0.5000, -0.4750, -0.4500,  ...,  0.4250,  0.4500,  0.4750],\n",
      "        [-0.5000, -0.4750, -0.4500,  ...,  0.4250,  0.4500,  0.4750]])\n",
      "torch.Size([40, 40])\n",
      "tensor([[-0.5000, -0.5000, -0.5000,  ..., -0.5000, -0.5000, -0.5000],\n",
      "        [-0.4750, -0.4750, -0.4750,  ..., -0.4750, -0.4750, -0.4750],\n",
      "        [-0.4500, -0.4500, -0.4500,  ..., -0.4500, -0.4500, -0.4500],\n",
      "        ...,\n",
      "        [ 0.4250,  0.4250,  0.4250,  ...,  0.4250,  0.4250,  0.4250],\n",
      "        [ 0.4500,  0.4500,  0.4500,  ...,  0.4500,  0.4500,  0.4500],\n",
      "        [ 0.4750,  0.4750,  0.4750,  ...,  0.4750,  0.4750,  0.4750]])\n",
      "torch.Size([40, 40])\n",
      "tensor([[[[-0.5000, -0.4750, -0.4500,  ...,  0.4250,  0.4500,  0.4750],\n",
      "          [-0.5000, -0.4750, -0.4500,  ...,  0.4250,  0.4500,  0.4750],\n",
      "          [-0.5000, -0.4750, -0.4500,  ...,  0.4250,  0.4500,  0.4750],\n",
      "          ...,\n",
      "          [-0.5000, -0.4750, -0.4500,  ...,  0.4250,  0.4500,  0.4750],\n",
      "          [-0.5000, -0.4750, -0.4500,  ...,  0.4250,  0.4500,  0.4750],\n",
      "          [-0.5000, -0.4750, -0.4500,  ...,  0.4250,  0.4500,  0.4750]],\n",
      "\n",
      "         [[-0.5000, -0.5000, -0.5000,  ..., -0.5000, -0.5000, -0.5000],\n",
      "          [-0.4750, -0.4750, -0.4750,  ..., -0.4750, -0.4750, -0.4750],\n",
      "          [-0.4500, -0.4500, -0.4500,  ..., -0.4500, -0.4500, -0.4500],\n",
      "          ...,\n",
      "          [ 0.4250,  0.4250,  0.4250,  ...,  0.4250,  0.4250,  0.4250],\n",
      "          [ 0.4500,  0.4500,  0.4500,  ...,  0.4500,  0.4500,  0.4500],\n",
      "          [ 0.4750,  0.4750,  0.4750,  ...,  0.4750,  0.4750,  0.4750]]]])\n",
      "torch.Size([1, 2, 40, 40])\n",
      "torch.Size([40, 2, 40, 40])\n",
      "torch.Size([40, 1, 40, 40])\n",
      "torch.Size([40, 3, 40, 40])\n"
     ]
    }
   ],
   "source": [
    "input = torch.arange(-20,20,dtype=torch.float).unsqueeze(0)/40.0\n",
    "print(input)\n",
    "print(input.size())\n",
    "idxx = torch.repeat_interleave( input,repeats = 40,dim = 0)\n",
    "print(idxx)\n",
    "print(idxx.size())\n",
    "idxy = idxx.clone().t()\n",
    "print(idxy)\n",
    "print(idxy.size())\n",
    "idx = torch.stack([idxx,idxy]).unsqueeze(0)\n",
    "print(idx)\n",
    "print(idx.size())\n",
    "idx = torch.repeat_interleave(idx,repeats=img.shape[0],dim=0)\n",
    "# print(idx)\n",
    "print(idx.size())\n",
    "img = torch.randn(40,1,40,40)\n",
    "print(img.size())\n",
    "img = torch.cat([img,idx],dim=1)\n",
    "print(img.size())"
   ]
  },
  {
   "cell_type": "code",
   "execution_count": 18,
   "metadata": {},
   "outputs": [
    {
     "data": {
      "text/plain": [
       "torch.Size([40, 40])"
      ]
     },
     "execution_count": 18,
     "metadata": {},
     "output_type": "execute_result"
    }
   ],
   "source": []
  },
  {
   "cell_type": "code",
   "execution_count": 20,
   "metadata": {},
   "outputs": [
    {
     "name": "stdout",
     "output_type": "stream",
     "text": [
      "tensor([1, 1, 1, 1])\n",
      "tensor([1, 1, 1, 1])\n"
     ]
    }
   ],
   "source": []
  },
  {
   "cell_type": "code",
   "execution_count": null,
   "metadata": {},
   "outputs": [],
   "source": []
  }
 ],
 "metadata": {
  "kernelspec": {
   "display_name": "Python 3",
   "language": "python",
   "name": "python3"
  },
  "language_info": {
   "codemirror_mode": {
    "name": "ipython",
    "version": 3
   },
   "file_extension": ".py",
   "mimetype": "text/x-python",
   "name": "python",
   "nbconvert_exporter": "python",
   "pygments_lexer": "ipython3",
   "version": "3.8.8"
  }
 },
 "nbformat": 4,
 "nbformat_minor": 2
}
