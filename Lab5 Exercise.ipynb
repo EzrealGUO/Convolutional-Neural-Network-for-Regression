{
 "cells": [
  {
   "cell_type": "code",
   "execution_count": 19,
   "id": "44b9b0af",
   "metadata": {},
   "outputs": [],
   "source": [
    "import torch\n",
    "from torchvision import transforms\n",
    "from torch.utils.data import Dataset\n",
    "\n",
    "class MyDataset(Dataset):\n",
    "    def __init__(self, size=5000, dim=40, random_offset=0):\n",
    "        super(MyDataset, self).__init__()\n",
    "        self.size = size\n",
    "        self.dim = dim\n",
    "        self.random_offset = random_offset\n",
    "\n",
    "    def __getitem__(self, index):\n",
    "        if index >= len(self):\n",
    "            raise IndexError(\"{} index out of range\".format(self.__class__.__name__))\n",
    "\n",
    "        rng_state = torch.get_rng_state()\n",
    "        torch.manual_seed(index + self.random_offset)\n",
    "\n",
    "        while True:\n",
    "            img = torch.zeros(self.dim, self.dim) #40*40\n",
    "            dx = torch.randint(-10,10,(1,),dtype=torch.float) #1,\n",
    "            dy = torch.randint(-10,10,(1,),dtype=torch.float) #1,\n",
    "            c = torch.randint(-20,20,(1,), dtype=torch.float) #1,\n",
    "\n",
    "            params = torch.cat((dy/dx, c)) #1*2\n",
    "            xy = torch.randint(0,img.shape[1], (20, 2), dtype=torch.float) #20*2,range[0,40]\n",
    "            xy[:,1] = xy[:,0] * params[0] + params[1] #20*2, column2 = column1 * dydx + c\n",
    "\n",
    "            xy.round_() #Nearest Integers\n",
    "            xy = xy[ xy[:,1] > 0 ] #Shuffle to all column2 > 0\n",
    "            xy = xy[ xy[:,1] < self.dim ] #Shuffle to all column2 < 40\n",
    "            xy = xy[ xy[:,0] < self.dim ] #Shuffle to all column1 < 40\n",
    "\n",
    "            for i in range(xy.shape[0]):\n",
    "                x, y = xy[i][0], self.dim - xy[i][1] # x=element_x, y=40-element_y\n",
    "                img[int(y), int(x)]=1 # img[randomlocation[y,x]]=1,img[other]=0\n",
    "            if img.sum() > 2: # generator have meaning\n",
    "                break\n",
    "        \n",
    "        torch.set_rng_state(rng_state)\n",
    "        return img.unsqueeze(0), params\n",
    "\n",
    "    def __len__(self):\n",
    "        return self.size\n",
    "\n",
    "train_data = MyDataset()\n",
    "val_data = MyDataset(size=500, random_offset=33333)\n",
    "test_data = MyDataset(size=500, random_offset=99999)"
   ]
  },
  {
   "cell_type": "code",
   "execution_count": 3,
   "id": "b80673b8",
   "metadata": {},
   "outputs": [],
   "source": [
    "from torch.utils.data import DataLoader\n",
    "# # convert each image to tensor format\n",
    "# transform = transforms.Compose([\n",
    "#     transforms.ToTensor()  # convert to tensor\n",
    "# ])\n",
    "\n",
    "# # load data\n",
    "# trainset = MNIST(\".\", train=True, download=True, transform=transform)\n",
    "# testset = MNIST(\".\", train=False, download=True, transform=transform)\n",
    "\n",
    "# create data loaders\n",
    "trainloader = DataLoader(train_data, batch_size=128, shuffle=True)\n",
    "validloader = DataLoader(val_data, batch_size=128, shuffle=True)\n",
    "testloader = DataLoader(test_data, batch_size=128, shuffle=True)"
   ]
  },
  {
   "cell_type": "code",
   "execution_count": 117,
   "id": "7df1c684",
   "metadata": {},
   "outputs": [
    {
     "name": "stdout",
     "output_type": "stream",
     "text": [
      "The autoreload extension is already loaded. To reload it, use:\n",
      "  %reload_ext autoreload\n"
     ]
    }
   ],
   "source": [
    "# automatically reload external modules if they change\n",
    "%load_ext autoreload\n",
    "%autoreload 2\n",
    "\n",
    "import torch\n",
    "import torch.nn.functional as F\n",
    "import torchvision.transforms as transforms\n",
    "import torchbearer\n",
    "from torch import nn\n",
    "from torch import optim\n",
    "from torchvision.datasets import MNIST\n",
    "from torchbearer import Trial\n",
    "\n",
    "# fix random seed for reproducibility\n",
    "seed = 7\n",
    "torch.manual_seed(seed)\n",
    "torch.backends.cudnn.deterministic = True\n",
    "\n",
    "class SimpleCNN(nn.Module):\n",
    "    def __init__(self):\n",
    "        super(SimpleCNN,self).__init__()\n",
    "        self.conv1 = nn.Conv2d(in_channels = 1, out_channels = 48, \n",
    "                               kernel_size = (3, 3), stride=1,padding=1)\n",
    "        self.fc1 = nn.Linear(48 * 40**2, 128)\n",
    "        self.fc2 = nn.Linear(128, 2)\n",
    "            \n",
    "    def forward(self, x):\n",
    "        x = x.to(device)\n",
    "        out = self.conv1(x)\n",
    "        out = F.relu(out)\n",
    "        out = out.view(out.shape[0], -1)\n",
    "        out = self.fc1(out)\n",
    "        out = F.relu(out)\n",
    "        out = self.fc2(out)\n",
    "        return out"
   ]
  },
  {
   "cell_type": "code",
   "execution_count": 118,
   "id": "aaa69412",
   "metadata": {
    "scrolled": true
   },
   "outputs": [
    {
     "data": {
      "application/vnd.jupyter.widget-view+json": {
       "model_id": "9b26ec47cf3f4c5093c8d47698c7c9d2",
       "version_major": 2,
       "version_minor": 0
      },
      "text/plain": [
       "0/100(t):   0%|          | 0/40 [00:00<?, ?it/s]"
      ]
     },
     "metadata": {},
     "output_type": "display_data"
    },
    {
     "data": {
      "application/vnd.jupyter.widget-view+json": {
       "model_id": "b303b721e34744fe8004ef9f0e6f80f8",
       "version_major": 2,
       "version_minor": 0
      },
      "text/plain": [
       "0/100(v):   0%|          | 0/4 [00:00<?, ?it/s]"
      ]
     },
     "metadata": {},
     "output_type": "display_data"
    },
    {
     "data": {
      "application/vnd.jupyter.widget-view+json": {
       "model_id": "ad04ba0c752c4d05b2faf39a1f9f0d96",
       "version_major": 2,
       "version_minor": 0
      },
      "text/plain": [
       "1/100(t):   0%|          | 0/40 [00:00<?, ?it/s]"
      ]
     },
     "metadata": {},
     "output_type": "display_data"
    },
    {
     "data": {
      "application/vnd.jupyter.widget-view+json": {
       "model_id": "7e08969ce908425099e85d220102f018",
       "version_major": 2,
       "version_minor": 0
      },
      "text/plain": [
       "1/100(v):   0%|          | 0/4 [00:00<?, ?it/s]"
      ]
     },
     "metadata": {},
     "output_type": "display_data"
    },
    {
     "data": {
      "application/vnd.jupyter.widget-view+json": {
       "model_id": "4c122cbb8bc4482481d504b3c35a67f0",
       "version_major": 2,
       "version_minor": 0
      },
      "text/plain": [
       "2/100(t):   0%|          | 0/40 [00:00<?, ?it/s]"
      ]
     },
     "metadata": {},
     "output_type": "display_data"
    },
    {
     "data": {
      "application/vnd.jupyter.widget-view+json": {
       "model_id": "c3ccd0bd13134f7a83503c62a82daf57",
       "version_major": 2,
       "version_minor": 0
      },
      "text/plain": [
       "2/100(v):   0%|          | 0/4 [00:00<?, ?it/s]"
      ]
     },
     "metadata": {},
     "output_type": "display_data"
    },
    {
     "data": {
      "application/vnd.jupyter.widget-view+json": {
       "model_id": "01df366842ac42368906164cb27318e0",
       "version_major": 2,
       "version_minor": 0
      },
      "text/plain": [
       "3/100(t):   0%|          | 0/40 [00:00<?, ?it/s]"
      ]
     },
     "metadata": {},
     "output_type": "display_data"
    },
    {
     "data": {
      "application/vnd.jupyter.widget-view+json": {
       "model_id": "28baea65fbed453fabe8491d25dc7fb3",
       "version_major": 2,
       "version_minor": 0
      },
      "text/plain": [
       "3/100(v):   0%|          | 0/4 [00:00<?, ?it/s]"
      ]
     },
     "metadata": {},
     "output_type": "display_data"
    },
    {
     "data": {
      "application/vnd.jupyter.widget-view+json": {
       "model_id": "6cc2538cb15f4dd793a5e7873599cc8f",
       "version_major": 2,
       "version_minor": 0
      },
      "text/plain": [
       "4/100(t):   0%|          | 0/40 [00:00<?, ?it/s]"
      ]
     },
     "metadata": {},
     "output_type": "display_data"
    },
    {
     "data": {
      "application/vnd.jupyter.widget-view+json": {
       "model_id": "7cd6ee264a5c40249da83f6563659ac6",
       "version_major": 2,
       "version_minor": 0
      },
      "text/plain": [
       "4/100(v):   0%|          | 0/4 [00:00<?, ?it/s]"
      ]
     },
     "metadata": {},
     "output_type": "display_data"
    },
    {
     "data": {
      "application/vnd.jupyter.widget-view+json": {
       "model_id": "3cac2e886c9c4dc48392673b2d49ebf5",
       "version_major": 2,
       "version_minor": 0
      },
      "text/plain": [
       "5/100(t):   0%|          | 0/40 [00:00<?, ?it/s]"
      ]
     },
     "metadata": {},
     "output_type": "display_data"
    },
    {
     "data": {
      "application/vnd.jupyter.widget-view+json": {
       "model_id": "fe71ae977f3e4c15b5ee9684e8e01e09",
       "version_major": 2,
       "version_minor": 0
      },
      "text/plain": [
       "5/100(v):   0%|          | 0/4 [00:00<?, ?it/s]"
      ]
     },
     "metadata": {},
     "output_type": "display_data"
    },
    {
     "data": {
      "application/vnd.jupyter.widget-view+json": {
       "model_id": "ea4e71d07c7f4377a7c852f8cc118189",
       "version_major": 2,
       "version_minor": 0
      },
      "text/plain": [
       "6/100(t):   0%|          | 0/40 [00:00<?, ?it/s]"
      ]
     },
     "metadata": {},
     "output_type": "display_data"
    },
    {
     "data": {
      "application/vnd.jupyter.widget-view+json": {
       "model_id": "2854d0bb683f4faa84db9e7c194bc10c",
       "version_major": 2,
       "version_minor": 0
      },
      "text/plain": [
       "6/100(v):   0%|          | 0/4 [00:00<?, ?it/s]"
      ]
     },
     "metadata": {},
     "output_type": "display_data"
    },
    {
     "data": {
      "application/vnd.jupyter.widget-view+json": {
       "model_id": "c723cf81b83b4d7fa6029d5126bccd32",
       "version_major": 2,
       "version_minor": 0
      },
      "text/plain": [
       "7/100(t):   0%|          | 0/40 [00:00<?, ?it/s]"
      ]
     },
     "metadata": {},
     "output_type": "display_data"
    },
    {
     "data": {
      "application/vnd.jupyter.widget-view+json": {
       "model_id": "8e7a6a8f10ee4b3c8fd1b77cc45f6925",
       "version_major": 2,
       "version_minor": 0
      },
      "text/plain": [
       "7/100(v):   0%|          | 0/4 [00:00<?, ?it/s]"
      ]
     },
     "metadata": {},
     "output_type": "display_data"
    },
    {
     "data": {
      "application/vnd.jupyter.widget-view+json": {
       "model_id": "cce06fbba8de448c8638b28d10587d6d",
       "version_major": 2,
       "version_minor": 0
      },
      "text/plain": [
       "8/100(t):   0%|          | 0/40 [00:00<?, ?it/s]"
      ]
     },
     "metadata": {},
     "output_type": "display_data"
    },
    {
     "data": {
      "application/vnd.jupyter.widget-view+json": {
       "model_id": "a707993cbb0246029970638cfb230519",
       "version_major": 2,
       "version_minor": 0
      },
      "text/plain": [
       "8/100(v):   0%|          | 0/4 [00:00<?, ?it/s]"
      ]
     },
     "metadata": {},
     "output_type": "display_data"
    },
    {
     "data": {
      "application/vnd.jupyter.widget-view+json": {
       "model_id": "5d086763399549deb4cd6e47f6ac3c95",
       "version_major": 2,
       "version_minor": 0
      },
      "text/plain": [
       "9/100(t):   0%|          | 0/40 [00:00<?, ?it/s]"
      ]
     },
     "metadata": {},
     "output_type": "display_data"
    },
    {
     "data": {
      "application/vnd.jupyter.widget-view+json": {
       "model_id": "37f1f209256e49639eb7bfac23fdfdd0",
       "version_major": 2,
       "version_minor": 0
      },
      "text/plain": [
       "9/100(v):   0%|          | 0/4 [00:00<?, ?it/s]"
      ]
     },
     "metadata": {},
     "output_type": "display_data"
    },
    {
     "data": {
      "application/vnd.jupyter.widget-view+json": {
       "model_id": "9e0767aab5414a359b1eb50c191056f4",
       "version_major": 2,
       "version_minor": 0
      },
      "text/plain": [
       "10/100(t):   0%|          | 0/40 [00:00<?, ?it/s]"
      ]
     },
     "metadata": {},
     "output_type": "display_data"
    },
    {
     "data": {
      "application/vnd.jupyter.widget-view+json": {
       "model_id": "c2b91f4d66d449ea8a5e7efc622e6b87",
       "version_major": 2,
       "version_minor": 0
      },
      "text/plain": [
       "10/100(v):   0%|          | 0/4 [00:00<?, ?it/s]"
      ]
     },
     "metadata": {},
     "output_type": "display_data"
    },
    {
     "data": {
      "application/vnd.jupyter.widget-view+json": {
       "model_id": "258cec00620448c080ae9e3b62bf9c9b",
       "version_major": 2,
       "version_minor": 0
      },
      "text/plain": [
       "11/100(t):   0%|          | 0/40 [00:00<?, ?it/s]"
      ]
     },
     "metadata": {},
     "output_type": "display_data"
    },
    {
     "data": {
      "application/vnd.jupyter.widget-view+json": {
       "model_id": "10510036473b4f2a8739aac088ee1f39",
       "version_major": 2,
       "version_minor": 0
      },
      "text/plain": [
       "11/100(v):   0%|          | 0/4 [00:00<?, ?it/s]"
      ]
     },
     "metadata": {},
     "output_type": "display_data"
    },
    {
     "data": {
      "application/vnd.jupyter.widget-view+json": {
       "model_id": "174827e2e0a94ac78d0264b4690a1714",
       "version_major": 2,
       "version_minor": 0
      },
      "text/plain": [
       "12/100(t):   0%|          | 0/40 [00:00<?, ?it/s]"
      ]
     },
     "metadata": {},
     "output_type": "display_data"
    },
    {
     "data": {
      "application/vnd.jupyter.widget-view+json": {
       "model_id": "34b997a946834a2da94446c12f33b44e",
       "version_major": 2,
       "version_minor": 0
      },
      "text/plain": [
       "12/100(v):   0%|          | 0/4 [00:00<?, ?it/s]"
      ]
     },
     "metadata": {},
     "output_type": "display_data"
    },
    {
     "data": {
      "application/vnd.jupyter.widget-view+json": {
       "model_id": "69517807b4e54385bbf9cb32b1867149",
       "version_major": 2,
       "version_minor": 0
      },
      "text/plain": [
       "13/100(t):   0%|          | 0/40 [00:00<?, ?it/s]"
      ]
     },
     "metadata": {},
     "output_type": "display_data"
    },
    {
     "data": {
      "application/vnd.jupyter.widget-view+json": {
       "model_id": "9c8cd986b7de4a639ce92fd486c2fc3f",
       "version_major": 2,
       "version_minor": 0
      },
      "text/plain": [
       "13/100(v):   0%|          | 0/4 [00:00<?, ?it/s]"
      ]
     },
     "metadata": {},
     "output_type": "display_data"
    },
    {
     "data": {
      "application/vnd.jupyter.widget-view+json": {
       "model_id": "a10abcde6fb44e378dab2fc4cd09598e",
       "version_major": 2,
       "version_minor": 0
      },
      "text/plain": [
       "14/100(t):   0%|          | 0/40 [00:00<?, ?it/s]"
      ]
     },
     "metadata": {},
     "output_type": "display_data"
    },
    {
     "data": {
      "application/vnd.jupyter.widget-view+json": {
       "model_id": "401e134eb32243c5969d0190d14e6cf9",
       "version_major": 2,
       "version_minor": 0
      },
      "text/plain": [
       "14/100(v):   0%|          | 0/4 [00:00<?, ?it/s]"
      ]
     },
     "metadata": {},
     "output_type": "display_data"
    },
    {
     "data": {
      "application/vnd.jupyter.widget-view+json": {
       "model_id": "d5cd291042a040279f0ad01ba17b83be",
       "version_major": 2,
       "version_minor": 0
      },
      "text/plain": [
       "15/100(t):   0%|          | 0/40 [00:00<?, ?it/s]"
      ]
     },
     "metadata": {},
     "output_type": "display_data"
    },
    {
     "data": {
      "application/vnd.jupyter.widget-view+json": {
       "model_id": "04f16372625a46ebaaa4e6cfe5cfb7b1",
       "version_major": 2,
       "version_minor": 0
      },
      "text/plain": [
       "15/100(v):   0%|          | 0/4 [00:00<?, ?it/s]"
      ]
     },
     "metadata": {},
     "output_type": "display_data"
    },
    {
     "data": {
      "application/vnd.jupyter.widget-view+json": {
       "model_id": "a4afba4251fc4fa5a8ea5eee69dbe6f3",
       "version_major": 2,
       "version_minor": 0
      },
      "text/plain": [
       "16/100(t):   0%|          | 0/40 [00:00<?, ?it/s]"
      ]
     },
     "metadata": {},
     "output_type": "display_data"
    },
    {
     "data": {
      "application/vnd.jupyter.widget-view+json": {
       "model_id": "22a285b186674afda95fc2798a9047a5",
       "version_major": 2,
       "version_minor": 0
      },
      "text/plain": [
       "16/100(v):   0%|          | 0/4 [00:00<?, ?it/s]"
      ]
     },
     "metadata": {},
     "output_type": "display_data"
    },
    {
     "data": {
      "application/vnd.jupyter.widget-view+json": {
       "model_id": "44b3f47a701740959715563a7272452f",
       "version_major": 2,
       "version_minor": 0
      },
      "text/plain": [
       "17/100(t):   0%|          | 0/40 [00:00<?, ?it/s]"
      ]
     },
     "metadata": {},
     "output_type": "display_data"
    },
    {
     "data": {
      "application/vnd.jupyter.widget-view+json": {
       "model_id": "7967dd7f853a4fe989f43606e1867e92",
       "version_major": 2,
       "version_minor": 0
      },
      "text/plain": [
       "17/100(v):   0%|          | 0/4 [00:00<?, ?it/s]"
      ]
     },
     "metadata": {},
     "output_type": "display_data"
    },
    {
     "data": {
      "application/vnd.jupyter.widget-view+json": {
       "model_id": "60a3d8fc4b9948819b78d8ea8e533113",
       "version_major": 2,
       "version_minor": 0
      },
      "text/plain": [
       "18/100(t):   0%|          | 0/40 [00:00<?, ?it/s]"
      ]
     },
     "metadata": {},
     "output_type": "display_data"
    },
    {
     "data": {
      "application/vnd.jupyter.widget-view+json": {
       "model_id": "a64c0530d3b44d72bba01f9555396bac",
       "version_major": 2,
       "version_minor": 0
      },
      "text/plain": [
       "18/100(v):   0%|          | 0/4 [00:00<?, ?it/s]"
      ]
     },
     "metadata": {},
     "output_type": "display_data"
    },
    {
     "data": {
      "application/vnd.jupyter.widget-view+json": {
       "model_id": "37804b54c1484e06b91abfba6dad213e",
       "version_major": 2,
       "version_minor": 0
      },
      "text/plain": [
       "19/100(t):   0%|          | 0/40 [00:00<?, ?it/s]"
      ]
     },
     "metadata": {},
     "output_type": "display_data"
    },
    {
     "data": {
      "application/vnd.jupyter.widget-view+json": {
       "model_id": "a1591dae4f64408c8db243343b5780f3",
       "version_major": 2,
       "version_minor": 0
      },
      "text/plain": [
       "19/100(v):   0%|          | 0/4 [00:00<?, ?it/s]"
      ]
     },
     "metadata": {},
     "output_type": "display_data"
    },
    {
     "data": {
      "application/vnd.jupyter.widget-view+json": {
       "model_id": "46e41a2f1e79453c956cedd107f348be",
       "version_major": 2,
       "version_minor": 0
      },
      "text/plain": [
       "20/100(t):   0%|          | 0/40 [00:00<?, ?it/s]"
      ]
     },
     "metadata": {},
     "output_type": "display_data"
    },
    {
     "data": {
      "application/vnd.jupyter.widget-view+json": {
       "model_id": "c403634a5f584be8981a0332ff0d3454",
       "version_major": 2,
       "version_minor": 0
      },
      "text/plain": [
       "20/100(v):   0%|          | 0/4 [00:00<?, ?it/s]"
      ]
     },
     "metadata": {},
     "output_type": "display_data"
    },
    {
     "data": {
      "application/vnd.jupyter.widget-view+json": {
       "model_id": "5226ea0566154bf79c2f5266406591f1",
       "version_major": 2,
       "version_minor": 0
      },
      "text/plain": [
       "21/100(t):   0%|          | 0/40 [00:00<?, ?it/s]"
      ]
     },
     "metadata": {},
     "output_type": "display_data"
    },
    {
     "data": {
      "application/vnd.jupyter.widget-view+json": {
       "model_id": "df34e2ba16d04d8595a736ab10633de6",
       "version_major": 2,
       "version_minor": 0
      },
      "text/plain": [
       "21/100(v):   0%|          | 0/4 [00:00<?, ?it/s]"
      ]
     },
     "metadata": {},
     "output_type": "display_data"
    },
    {
     "data": {
      "application/vnd.jupyter.widget-view+json": {
       "model_id": "769b9ef26f6043dc9060bb3bb734c765",
       "version_major": 2,
       "version_minor": 0
      },
      "text/plain": [
       "22/100(t):   0%|          | 0/40 [00:00<?, ?it/s]"
      ]
     },
     "metadata": {},
     "output_type": "display_data"
    },
    {
     "data": {
      "application/vnd.jupyter.widget-view+json": {
       "model_id": "3c9f7fe5598a4fb8a174103bf73a3c4f",
       "version_major": 2,
       "version_minor": 0
      },
      "text/plain": [
       "22/100(v):   0%|          | 0/4 [00:00<?, ?it/s]"
      ]
     },
     "metadata": {},
     "output_type": "display_data"
    },
    {
     "data": {
      "application/vnd.jupyter.widget-view+json": {
       "model_id": "6230d2dcf7a841d9b381cc336cf5c604",
       "version_major": 2,
       "version_minor": 0
      },
      "text/plain": [
       "23/100(t):   0%|          | 0/40 [00:00<?, ?it/s]"
      ]
     },
     "metadata": {},
     "output_type": "display_data"
    },
    {
     "data": {
      "application/vnd.jupyter.widget-view+json": {
       "model_id": "8366f747f81f4f1bb8a4fa11b99e82e1",
       "version_major": 2,
       "version_minor": 0
      },
      "text/plain": [
       "23/100(v):   0%|          | 0/4 [00:00<?, ?it/s]"
      ]
     },
     "metadata": {},
     "output_type": "display_data"
    },
    {
     "data": {
      "application/vnd.jupyter.widget-view+json": {
       "model_id": "2db9e5c96fd9490d9f0d7e5dce50d06c",
       "version_major": 2,
       "version_minor": 0
      },
      "text/plain": [
       "24/100(t):   0%|          | 0/40 [00:00<?, ?it/s]"
      ]
     },
     "metadata": {},
     "output_type": "display_data"
    },
    {
     "data": {
      "application/vnd.jupyter.widget-view+json": {
       "model_id": "1aac3cae430544f7b0ea54a833b458ed",
       "version_major": 2,
       "version_minor": 0
      },
      "text/plain": [
       "24/100(v):   0%|          | 0/4 [00:00<?, ?it/s]"
      ]
     },
     "metadata": {},
     "output_type": "display_data"
    },
    {
     "data": {
      "application/vnd.jupyter.widget-view+json": {
       "model_id": "1a13b5c2921442ffb3e8f058e28248e8",
       "version_major": 2,
       "version_minor": 0
      },
      "text/plain": [
       "25/100(t):   0%|          | 0/40 [00:00<?, ?it/s]"
      ]
     },
     "metadata": {},
     "output_type": "display_data"
    },
    {
     "data": {
      "application/vnd.jupyter.widget-view+json": {
       "model_id": "b37b305906d6495c9106d1179298f042",
       "version_major": 2,
       "version_minor": 0
      },
      "text/plain": [
       "25/100(v):   0%|          | 0/4 [00:00<?, ?it/s]"
      ]
     },
     "metadata": {},
     "output_type": "display_data"
    },
    {
     "data": {
      "application/vnd.jupyter.widget-view+json": {
       "model_id": "37a851b6821d4805a4e4278d0323a534",
       "version_major": 2,
       "version_minor": 0
      },
      "text/plain": [
       "26/100(t):   0%|          | 0/40 [00:00<?, ?it/s]"
      ]
     },
     "metadata": {},
     "output_type": "display_data"
    },
    {
     "data": {
      "application/vnd.jupyter.widget-view+json": {
       "model_id": "c7fb231969b74b5bac66d01917c750e9",
       "version_major": 2,
       "version_minor": 0
      },
      "text/plain": [
       "26/100(v):   0%|          | 0/4 [00:00<?, ?it/s]"
      ]
     },
     "metadata": {},
     "output_type": "display_data"
    },
    {
     "data": {
      "application/vnd.jupyter.widget-view+json": {
       "model_id": "601c642749364b9ca19fbdf5ee1f2975",
       "version_major": 2,
       "version_minor": 0
      },
      "text/plain": [
       "27/100(t):   0%|          | 0/40 [00:00<?, ?it/s]"
      ]
     },
     "metadata": {},
     "output_type": "display_data"
    },
    {
     "data": {
      "application/vnd.jupyter.widget-view+json": {
       "model_id": "dadf6f50e46a42c1ba5f1645441d7663",
       "version_major": 2,
       "version_minor": 0
      },
      "text/plain": [
       "27/100(v):   0%|          | 0/4 [00:00<?, ?it/s]"
      ]
     },
     "metadata": {},
     "output_type": "display_data"
    },
    {
     "data": {
      "application/vnd.jupyter.widget-view+json": {
       "model_id": "77de3bf526674d2984fd5adc70358c6d",
       "version_major": 2,
       "version_minor": 0
      },
      "text/plain": [
       "28/100(t):   0%|          | 0/40 [00:00<?, ?it/s]"
      ]
     },
     "metadata": {},
     "output_type": "display_data"
    },
    {
     "data": {
      "application/vnd.jupyter.widget-view+json": {
       "model_id": "182f81db84244570aa92bdaab15e8b92",
       "version_major": 2,
       "version_minor": 0
      },
      "text/plain": [
       "28/100(v):   0%|          | 0/4 [00:00<?, ?it/s]"
      ]
     },
     "metadata": {},
     "output_type": "display_data"
    },
    {
     "data": {
      "application/vnd.jupyter.widget-view+json": {
       "model_id": "17a8b6ba67b34a79bcd5422c5d93668e",
       "version_major": 2,
       "version_minor": 0
      },
      "text/plain": [
       "29/100(t):   0%|          | 0/40 [00:00<?, ?it/s]"
      ]
     },
     "metadata": {},
     "output_type": "display_data"
    },
    {
     "data": {
      "application/vnd.jupyter.widget-view+json": {
       "model_id": "a81c9aa9e25f4bd39eae9ef88dbad826",
       "version_major": 2,
       "version_minor": 0
      },
      "text/plain": [
       "29/100(v):   0%|          | 0/4 [00:00<?, ?it/s]"
      ]
     },
     "metadata": {},
     "output_type": "display_data"
    },
    {
     "data": {
      "application/vnd.jupyter.widget-view+json": {
       "model_id": "e6f7c885f7cf4af2998e2cd8de176981",
       "version_major": 2,
       "version_minor": 0
      },
      "text/plain": [
       "30/100(t):   0%|          | 0/40 [00:00<?, ?it/s]"
      ]
     },
     "metadata": {},
     "output_type": "display_data"
    },
    {
     "data": {
      "application/vnd.jupyter.widget-view+json": {
       "model_id": "670270ffc85f49bab8817f0c0aa8704a",
       "version_major": 2,
       "version_minor": 0
      },
      "text/plain": [
       "30/100(v):   0%|          | 0/4 [00:00<?, ?it/s]"
      ]
     },
     "metadata": {},
     "output_type": "display_data"
    },
    {
     "data": {
      "application/vnd.jupyter.widget-view+json": {
       "model_id": "3bed36e0c4074a6baddcb4821f9f0146",
       "version_major": 2,
       "version_minor": 0
      },
      "text/plain": [
       "31/100(t):   0%|          | 0/40 [00:00<?, ?it/s]"
      ]
     },
     "metadata": {},
     "output_type": "display_data"
    },
    {
     "data": {
      "application/vnd.jupyter.widget-view+json": {
       "model_id": "846042d6fd8d495b869e39ee3349823c",
       "version_major": 2,
       "version_minor": 0
      },
      "text/plain": [
       "31/100(v):   0%|          | 0/4 [00:00<?, ?it/s]"
      ]
     },
     "metadata": {},
     "output_type": "display_data"
    },
    {
     "data": {
      "application/vnd.jupyter.widget-view+json": {
       "model_id": "47c23529fb594c10859a6de537b302c9",
       "version_major": 2,
       "version_minor": 0
      },
      "text/plain": [
       "32/100(t):   0%|          | 0/40 [00:00<?, ?it/s]"
      ]
     },
     "metadata": {},
     "output_type": "display_data"
    },
    {
     "data": {
      "application/vnd.jupyter.widget-view+json": {
       "model_id": "8e81596b69634ef2af259e5b54f8cba8",
       "version_major": 2,
       "version_minor": 0
      },
      "text/plain": [
       "32/100(v):   0%|          | 0/4 [00:00<?, ?it/s]"
      ]
     },
     "metadata": {},
     "output_type": "display_data"
    },
    {
     "data": {
      "application/vnd.jupyter.widget-view+json": {
       "model_id": "0315f0a7ea4242f3ae27d3981959500c",
       "version_major": 2,
       "version_minor": 0
      },
      "text/plain": [
       "33/100(t):   0%|          | 0/40 [00:00<?, ?it/s]"
      ]
     },
     "metadata": {},
     "output_type": "display_data"
    },
    {
     "data": {
      "application/vnd.jupyter.widget-view+json": {
       "model_id": "6b075032a552450e935afced99601eba",
       "version_major": 2,
       "version_minor": 0
      },
      "text/plain": [
       "33/100(v):   0%|          | 0/4 [00:00<?, ?it/s]"
      ]
     },
     "metadata": {},
     "output_type": "display_data"
    },
    {
     "data": {
      "application/vnd.jupyter.widget-view+json": {
       "model_id": "93c184f5da1142349805213d7e57c510",
       "version_major": 2,
       "version_minor": 0
      },
      "text/plain": [
       "34/100(t):   0%|          | 0/40 [00:00<?, ?it/s]"
      ]
     },
     "metadata": {},
     "output_type": "display_data"
    },
    {
     "data": {
      "application/vnd.jupyter.widget-view+json": {
       "model_id": "f43c486802b54961881e29f48add1a09",
       "version_major": 2,
       "version_minor": 0
      },
      "text/plain": [
       "34/100(v):   0%|          | 0/4 [00:00<?, ?it/s]"
      ]
     },
     "metadata": {},
     "output_type": "display_data"
    },
    {
     "data": {
      "application/vnd.jupyter.widget-view+json": {
       "model_id": "fd6bf151f5034d13ba09a007009a27ec",
       "version_major": 2,
       "version_minor": 0
      },
      "text/plain": [
       "35/100(t):   0%|          | 0/40 [00:00<?, ?it/s]"
      ]
     },
     "metadata": {},
     "output_type": "display_data"
    },
    {
     "data": {
      "application/vnd.jupyter.widget-view+json": {
       "model_id": "ff81dbd99b3545d0bbe407131144a8c5",
       "version_major": 2,
       "version_minor": 0
      },
      "text/plain": [
       "35/100(v):   0%|          | 0/4 [00:00<?, ?it/s]"
      ]
     },
     "metadata": {},
     "output_type": "display_data"
    },
    {
     "data": {
      "application/vnd.jupyter.widget-view+json": {
       "model_id": "d4699abbd34341808c946ae3a49f9da3",
       "version_major": 2,
       "version_minor": 0
      },
      "text/plain": [
       "36/100(t):   0%|          | 0/40 [00:00<?, ?it/s]"
      ]
     },
     "metadata": {},
     "output_type": "display_data"
    },
    {
     "data": {
      "application/vnd.jupyter.widget-view+json": {
       "model_id": "62c2ed0944b24d69b7fc58e14786f8a7",
       "version_major": 2,
       "version_minor": 0
      },
      "text/plain": [
       "36/100(v):   0%|          | 0/4 [00:00<?, ?it/s]"
      ]
     },
     "metadata": {},
     "output_type": "display_data"
    },
    {
     "data": {
      "application/vnd.jupyter.widget-view+json": {
       "model_id": "4f06d97820c847609fc8fa5c2b2bf1b5",
       "version_major": 2,
       "version_minor": 0
      },
      "text/plain": [
       "37/100(t):   0%|          | 0/40 [00:00<?, ?it/s]"
      ]
     },
     "metadata": {},
     "output_type": "display_data"
    },
    {
     "data": {
      "application/vnd.jupyter.widget-view+json": {
       "model_id": "6471b4cf5e8a470eb016b75ff8702c01",
       "version_major": 2,
       "version_minor": 0
      },
      "text/plain": [
       "37/100(v):   0%|          | 0/4 [00:00<?, ?it/s]"
      ]
     },
     "metadata": {},
     "output_type": "display_data"
    },
    {
     "data": {
      "application/vnd.jupyter.widget-view+json": {
       "model_id": "db85522ace914f0d8634d8a33362fc01",
       "version_major": 2,
       "version_minor": 0
      },
      "text/plain": [
       "38/100(t):   0%|          | 0/40 [00:00<?, ?it/s]"
      ]
     },
     "metadata": {},
     "output_type": "display_data"
    },
    {
     "data": {
      "application/vnd.jupyter.widget-view+json": {
       "model_id": "bc890fbec4a44067a86722989fbd1d85",
       "version_major": 2,
       "version_minor": 0
      },
      "text/plain": [
       "38/100(v):   0%|          | 0/4 [00:00<?, ?it/s]"
      ]
     },
     "metadata": {},
     "output_type": "display_data"
    },
    {
     "data": {
      "application/vnd.jupyter.widget-view+json": {
       "model_id": "342be41a53944c37a54c2d45325ef1b3",
       "version_major": 2,
       "version_minor": 0
      },
      "text/plain": [
       "39/100(t):   0%|          | 0/40 [00:00<?, ?it/s]"
      ]
     },
     "metadata": {},
     "output_type": "display_data"
    },
    {
     "data": {
      "application/vnd.jupyter.widget-view+json": {
       "model_id": "2120aba12d1c4768baecf4e188437317",
       "version_major": 2,
       "version_minor": 0
      },
      "text/plain": [
       "39/100(v):   0%|          | 0/4 [00:00<?, ?it/s]"
      ]
     },
     "metadata": {},
     "output_type": "display_data"
    },
    {
     "data": {
      "application/vnd.jupyter.widget-view+json": {
       "model_id": "f42f5bd58d01458e885c813ea3cb3a58",
       "version_major": 2,
       "version_minor": 0
      },
      "text/plain": [
       "40/100(t):   0%|          | 0/40 [00:00<?, ?it/s]"
      ]
     },
     "metadata": {},
     "output_type": "display_data"
    },
    {
     "data": {
      "application/vnd.jupyter.widget-view+json": {
       "model_id": "1188e1bf4ae64d93ab0691057dc37af0",
       "version_major": 2,
       "version_minor": 0
      },
      "text/plain": [
       "40/100(v):   0%|          | 0/4 [00:00<?, ?it/s]"
      ]
     },
     "metadata": {},
     "output_type": "display_data"
    },
    {
     "data": {
      "application/vnd.jupyter.widget-view+json": {
       "model_id": "1bfc63cc372f4a8b9359644438db474b",
       "version_major": 2,
       "version_minor": 0
      },
      "text/plain": [
       "41/100(t):   0%|          | 0/40 [00:00<?, ?it/s]"
      ]
     },
     "metadata": {},
     "output_type": "display_data"
    },
    {
     "data": {
      "application/vnd.jupyter.widget-view+json": {
       "model_id": "5d1e329993314941b3dab97c1ac156da",
       "version_major": 2,
       "version_minor": 0
      },
      "text/plain": [
       "41/100(v):   0%|          | 0/4 [00:00<?, ?it/s]"
      ]
     },
     "metadata": {},
     "output_type": "display_data"
    },
    {
     "data": {
      "application/vnd.jupyter.widget-view+json": {
       "model_id": "c454cee826a44d1081b22cffca70ae3b",
       "version_major": 2,
       "version_minor": 0
      },
      "text/plain": [
       "42/100(t):   0%|          | 0/40 [00:00<?, ?it/s]"
      ]
     },
     "metadata": {},
     "output_type": "display_data"
    },
    {
     "data": {
      "application/vnd.jupyter.widget-view+json": {
       "model_id": "bf3a73891a7d4f6ab13c09ab9a0f79cc",
       "version_major": 2,
       "version_minor": 0
      },
      "text/plain": [
       "42/100(v):   0%|          | 0/4 [00:00<?, ?it/s]"
      ]
     },
     "metadata": {},
     "output_type": "display_data"
    },
    {
     "data": {
      "application/vnd.jupyter.widget-view+json": {
       "model_id": "68b409842d384997b69c33abe3c28af5",
       "version_major": 2,
       "version_minor": 0
      },
      "text/plain": [
       "43/100(t):   0%|          | 0/40 [00:00<?, ?it/s]"
      ]
     },
     "metadata": {},
     "output_type": "display_data"
    },
    {
     "data": {
      "application/vnd.jupyter.widget-view+json": {
       "model_id": "66bdff47388348049eb28fe798518088",
       "version_major": 2,
       "version_minor": 0
      },
      "text/plain": [
       "43/100(v):   0%|          | 0/4 [00:00<?, ?it/s]"
      ]
     },
     "metadata": {},
     "output_type": "display_data"
    },
    {
     "data": {
      "application/vnd.jupyter.widget-view+json": {
       "model_id": "a2eb3492a330458a9faed8a35d979b52",
       "version_major": 2,
       "version_minor": 0
      },
      "text/plain": [
       "44/100(t):   0%|          | 0/40 [00:00<?, ?it/s]"
      ]
     },
     "metadata": {},
     "output_type": "display_data"
    },
    {
     "data": {
      "application/vnd.jupyter.widget-view+json": {
       "model_id": "103a599b91ba43278dfba7a5fca5a152",
       "version_major": 2,
       "version_minor": 0
      },
      "text/plain": [
       "44/100(v):   0%|          | 0/4 [00:00<?, ?it/s]"
      ]
     },
     "metadata": {},
     "output_type": "display_data"
    },
    {
     "data": {
      "application/vnd.jupyter.widget-view+json": {
       "model_id": "020eb297ae9640b5b988671c7080d37c",
       "version_major": 2,
       "version_minor": 0
      },
      "text/plain": [
       "45/100(t):   0%|          | 0/40 [00:00<?, ?it/s]"
      ]
     },
     "metadata": {},
     "output_type": "display_data"
    },
    {
     "data": {
      "application/vnd.jupyter.widget-view+json": {
       "model_id": "c3f6cc31fcf3495596a22665ab19adc3",
       "version_major": 2,
       "version_minor": 0
      },
      "text/plain": [
       "45/100(v):   0%|          | 0/4 [00:00<?, ?it/s]"
      ]
     },
     "metadata": {},
     "output_type": "display_data"
    },
    {
     "data": {
      "application/vnd.jupyter.widget-view+json": {
       "model_id": "5b4142898af840209f700ea12f1b2111",
       "version_major": 2,
       "version_minor": 0
      },
      "text/plain": [
       "46/100(t):   0%|          | 0/40 [00:00<?, ?it/s]"
      ]
     },
     "metadata": {},
     "output_type": "display_data"
    },
    {
     "data": {
      "application/vnd.jupyter.widget-view+json": {
       "model_id": "b24ef2d69eaa45adbc152a4745d79bcb",
       "version_major": 2,
       "version_minor": 0
      },
      "text/plain": [
       "46/100(v):   0%|          | 0/4 [00:00<?, ?it/s]"
      ]
     },
     "metadata": {},
     "output_type": "display_data"
    },
    {
     "data": {
      "application/vnd.jupyter.widget-view+json": {
       "model_id": "ed5aea10ad744482923e0455b94a8d73",
       "version_major": 2,
       "version_minor": 0
      },
      "text/plain": [
       "47/100(t):   0%|          | 0/40 [00:00<?, ?it/s]"
      ]
     },
     "metadata": {},
     "output_type": "display_data"
    },
    {
     "data": {
      "application/vnd.jupyter.widget-view+json": {
       "model_id": "125550f3accf4efebe776cb9e198143f",
       "version_major": 2,
       "version_minor": 0
      },
      "text/plain": [
       "47/100(v):   0%|          | 0/4 [00:00<?, ?it/s]"
      ]
     },
     "metadata": {},
     "output_type": "display_data"
    },
    {
     "data": {
      "application/vnd.jupyter.widget-view+json": {
       "model_id": "352ed6c55e3840dc890671fbf27e6de1",
       "version_major": 2,
       "version_minor": 0
      },
      "text/plain": [
       "48/100(t):   0%|          | 0/40 [00:00<?, ?it/s]"
      ]
     },
     "metadata": {},
     "output_type": "display_data"
    },
    {
     "data": {
      "application/vnd.jupyter.widget-view+json": {
       "model_id": "c2d46beccd3d44acab856d381b854fe6",
       "version_major": 2,
       "version_minor": 0
      },
      "text/plain": [
       "48/100(v):   0%|          | 0/4 [00:00<?, ?it/s]"
      ]
     },
     "metadata": {},
     "output_type": "display_data"
    },
    {
     "data": {
      "application/vnd.jupyter.widget-view+json": {
       "model_id": "9c9ec285afa647e4ac7db886e56eefdb",
       "version_major": 2,
       "version_minor": 0
      },
      "text/plain": [
       "49/100(t):   0%|          | 0/40 [00:00<?, ?it/s]"
      ]
     },
     "metadata": {},
     "output_type": "display_data"
    },
    {
     "data": {
      "application/vnd.jupyter.widget-view+json": {
       "model_id": "d32037a6781f455e88f2c2191515ec3d",
       "version_major": 2,
       "version_minor": 0
      },
      "text/plain": [
       "49/100(v):   0%|          | 0/4 [00:00<?, ?it/s]"
      ]
     },
     "metadata": {},
     "output_type": "display_data"
    },
    {
     "data": {
      "application/vnd.jupyter.widget-view+json": {
       "model_id": "77549c2a4b63482ea47dc9f332fb9fe6",
       "version_major": 2,
       "version_minor": 0
      },
      "text/plain": [
       "50/100(t):   0%|          | 0/40 [00:00<?, ?it/s]"
      ]
     },
     "metadata": {},
     "output_type": "display_data"
    },
    {
     "data": {
      "application/vnd.jupyter.widget-view+json": {
       "model_id": "528401d80bf74dcebd3149ec555754ab",
       "version_major": 2,
       "version_minor": 0
      },
      "text/plain": [
       "50/100(v):   0%|          | 0/4 [00:00<?, ?it/s]"
      ]
     },
     "metadata": {},
     "output_type": "display_data"
    },
    {
     "data": {
      "application/vnd.jupyter.widget-view+json": {
       "model_id": "7d7ea98b3d194f988437ac02b0ff5d4f",
       "version_major": 2,
       "version_minor": 0
      },
      "text/plain": [
       "51/100(t):   0%|          | 0/40 [00:00<?, ?it/s]"
      ]
     },
     "metadata": {},
     "output_type": "display_data"
    },
    {
     "data": {
      "application/vnd.jupyter.widget-view+json": {
       "model_id": "2e53fbaf12864f5f87721c55689d7cfb",
       "version_major": 2,
       "version_minor": 0
      },
      "text/plain": [
       "51/100(v):   0%|          | 0/4 [00:00<?, ?it/s]"
      ]
     },
     "metadata": {},
     "output_type": "display_data"
    },
    {
     "data": {
      "application/vnd.jupyter.widget-view+json": {
       "model_id": "47be9a8a747f4425adacfebce3d7e893",
       "version_major": 2,
       "version_minor": 0
      },
      "text/plain": [
       "52/100(t):   0%|          | 0/40 [00:00<?, ?it/s]"
      ]
     },
     "metadata": {},
     "output_type": "display_data"
    },
    {
     "data": {
      "application/vnd.jupyter.widget-view+json": {
       "model_id": "f70e9788ce5f4860847a53ad6ac110a4",
       "version_major": 2,
       "version_minor": 0
      },
      "text/plain": [
       "52/100(v):   0%|          | 0/4 [00:00<?, ?it/s]"
      ]
     },
     "metadata": {},
     "output_type": "display_data"
    },
    {
     "data": {
      "application/vnd.jupyter.widget-view+json": {
       "model_id": "a6ba29f2a2254737b825ea0d3abebfba",
       "version_major": 2,
       "version_minor": 0
      },
      "text/plain": [
       "53/100(t):   0%|          | 0/40 [00:00<?, ?it/s]"
      ]
     },
     "metadata": {},
     "output_type": "display_data"
    },
    {
     "data": {
      "application/vnd.jupyter.widget-view+json": {
       "model_id": "dd78b9fbf4d44b45b9a860428eb1ebea",
       "version_major": 2,
       "version_minor": 0
      },
      "text/plain": [
       "53/100(v):   0%|          | 0/4 [00:00<?, ?it/s]"
      ]
     },
     "metadata": {},
     "output_type": "display_data"
    },
    {
     "data": {
      "application/vnd.jupyter.widget-view+json": {
       "model_id": "2ef27104adea4bc18560a5566fb44dda",
       "version_major": 2,
       "version_minor": 0
      },
      "text/plain": [
       "54/100(t):   0%|          | 0/40 [00:00<?, ?it/s]"
      ]
     },
     "metadata": {},
     "output_type": "display_data"
    },
    {
     "data": {
      "application/vnd.jupyter.widget-view+json": {
       "model_id": "94f555155b5e45d29dc72314a13cc170",
       "version_major": 2,
       "version_minor": 0
      },
      "text/plain": [
       "54/100(v):   0%|          | 0/4 [00:00<?, ?it/s]"
      ]
     },
     "metadata": {},
     "output_type": "display_data"
    },
    {
     "data": {
      "application/vnd.jupyter.widget-view+json": {
       "model_id": "f2f8e89507dc44379e8d037f20dc2859",
       "version_major": 2,
       "version_minor": 0
      },
      "text/plain": [
       "55/100(t):   0%|          | 0/40 [00:00<?, ?it/s]"
      ]
     },
     "metadata": {},
     "output_type": "display_data"
    },
    {
     "data": {
      "application/vnd.jupyter.widget-view+json": {
       "model_id": "f26c42f326de44adb6bc01a4b6c981bb",
       "version_major": 2,
       "version_minor": 0
      },
      "text/plain": [
       "55/100(v):   0%|          | 0/4 [00:00<?, ?it/s]"
      ]
     },
     "metadata": {},
     "output_type": "display_data"
    },
    {
     "data": {
      "application/vnd.jupyter.widget-view+json": {
       "model_id": "4b46b136a4804b6e81573289d12c8e33",
       "version_major": 2,
       "version_minor": 0
      },
      "text/plain": [
       "56/100(t):   0%|          | 0/40 [00:00<?, ?it/s]"
      ]
     },
     "metadata": {},
     "output_type": "display_data"
    },
    {
     "data": {
      "application/vnd.jupyter.widget-view+json": {
       "model_id": "3a65ea80e0094896b718a0b06f6c18aa",
       "version_major": 2,
       "version_minor": 0
      },
      "text/plain": [
       "56/100(v):   0%|          | 0/4 [00:00<?, ?it/s]"
      ]
     },
     "metadata": {},
     "output_type": "display_data"
    },
    {
     "data": {
      "application/vnd.jupyter.widget-view+json": {
       "model_id": "28b5adf9f19f458a96eeffa590539abb",
       "version_major": 2,
       "version_minor": 0
      },
      "text/plain": [
       "57/100(t):   0%|          | 0/40 [00:00<?, ?it/s]"
      ]
     },
     "metadata": {},
     "output_type": "display_data"
    },
    {
     "data": {
      "application/vnd.jupyter.widget-view+json": {
       "model_id": "1ad86df02085418a9a0881a0ac9a8feb",
       "version_major": 2,
       "version_minor": 0
      },
      "text/plain": [
       "57/100(v):   0%|          | 0/4 [00:00<?, ?it/s]"
      ]
     },
     "metadata": {},
     "output_type": "display_data"
    },
    {
     "data": {
      "application/vnd.jupyter.widget-view+json": {
       "model_id": "ffd784b1e88f44c78f34102538a64e65",
       "version_major": 2,
       "version_minor": 0
      },
      "text/plain": [
       "58/100(t):   0%|          | 0/40 [00:00<?, ?it/s]"
      ]
     },
     "metadata": {},
     "output_type": "display_data"
    },
    {
     "data": {
      "application/vnd.jupyter.widget-view+json": {
       "model_id": "3af7e2b39ce74b278b2ecf3d2b89f64a",
       "version_major": 2,
       "version_minor": 0
      },
      "text/plain": [
       "58/100(v):   0%|          | 0/4 [00:00<?, ?it/s]"
      ]
     },
     "metadata": {},
     "output_type": "display_data"
    },
    {
     "data": {
      "application/vnd.jupyter.widget-view+json": {
       "model_id": "b8499caaccec43c5acc07cc1cda38e68",
       "version_major": 2,
       "version_minor": 0
      },
      "text/plain": [
       "59/100(t):   0%|          | 0/40 [00:00<?, ?it/s]"
      ]
     },
     "metadata": {},
     "output_type": "display_data"
    },
    {
     "data": {
      "application/vnd.jupyter.widget-view+json": {
       "model_id": "b6cf69b5cdb54a42b3849e446ebd352d",
       "version_major": 2,
       "version_minor": 0
      },
      "text/plain": [
       "59/100(v):   0%|          | 0/4 [00:00<?, ?it/s]"
      ]
     },
     "metadata": {},
     "output_type": "display_data"
    },
    {
     "data": {
      "application/vnd.jupyter.widget-view+json": {
       "model_id": "a6be50b1f01c4df6ac54d290d0381cee",
       "version_major": 2,
       "version_minor": 0
      },
      "text/plain": [
       "60/100(t):   0%|          | 0/40 [00:00<?, ?it/s]"
      ]
     },
     "metadata": {},
     "output_type": "display_data"
    },
    {
     "data": {
      "application/vnd.jupyter.widget-view+json": {
       "model_id": "57212bfb9b194f439c266884e7cda73f",
       "version_major": 2,
       "version_minor": 0
      },
      "text/plain": [
       "60/100(v):   0%|          | 0/4 [00:00<?, ?it/s]"
      ]
     },
     "metadata": {},
     "output_type": "display_data"
    },
    {
     "data": {
      "application/vnd.jupyter.widget-view+json": {
       "model_id": "3f6f886c23cf4dab90393462db5cf21f",
       "version_major": 2,
       "version_minor": 0
      },
      "text/plain": [
       "61/100(t):   0%|          | 0/40 [00:00<?, ?it/s]"
      ]
     },
     "metadata": {},
     "output_type": "display_data"
    },
    {
     "data": {
      "application/vnd.jupyter.widget-view+json": {
       "model_id": "4bd716649b66403f9e778f2d9a151e7b",
       "version_major": 2,
       "version_minor": 0
      },
      "text/plain": [
       "61/100(v):   0%|          | 0/4 [00:00<?, ?it/s]"
      ]
     },
     "metadata": {},
     "output_type": "display_data"
    },
    {
     "data": {
      "application/vnd.jupyter.widget-view+json": {
       "model_id": "ca23a4fb07234e69be714966221ee723",
       "version_major": 2,
       "version_minor": 0
      },
      "text/plain": [
       "62/100(t):   0%|          | 0/40 [00:00<?, ?it/s]"
      ]
     },
     "metadata": {},
     "output_type": "display_data"
    },
    {
     "data": {
      "application/vnd.jupyter.widget-view+json": {
       "model_id": "e6565f86e1d14f57b6de64634ad6b20f",
       "version_major": 2,
       "version_minor": 0
      },
      "text/plain": [
       "62/100(v):   0%|          | 0/4 [00:00<?, ?it/s]"
      ]
     },
     "metadata": {},
     "output_type": "display_data"
    },
    {
     "data": {
      "application/vnd.jupyter.widget-view+json": {
       "model_id": "75c5314efda5406c89674ec12a8fa1ea",
       "version_major": 2,
       "version_minor": 0
      },
      "text/plain": [
       "63/100(t):   0%|          | 0/40 [00:00<?, ?it/s]"
      ]
     },
     "metadata": {},
     "output_type": "display_data"
    },
    {
     "data": {
      "application/vnd.jupyter.widget-view+json": {
       "model_id": "33f20b7a19924256ab4f8fc2d3abebc5",
       "version_major": 2,
       "version_minor": 0
      },
      "text/plain": [
       "63/100(v):   0%|          | 0/4 [00:00<?, ?it/s]"
      ]
     },
     "metadata": {},
     "output_type": "display_data"
    },
    {
     "data": {
      "application/vnd.jupyter.widget-view+json": {
       "model_id": "e05b5aa5a8ff46839991552bf78d0da0",
       "version_major": 2,
       "version_minor": 0
      },
      "text/plain": [
       "64/100(t):   0%|          | 0/40 [00:00<?, ?it/s]"
      ]
     },
     "metadata": {},
     "output_type": "display_data"
    },
    {
     "data": {
      "application/vnd.jupyter.widget-view+json": {
       "model_id": "bf6afdd6fa944fd08a37275793cce097",
       "version_major": 2,
       "version_minor": 0
      },
      "text/plain": [
       "64/100(v):   0%|          | 0/4 [00:00<?, ?it/s]"
      ]
     },
     "metadata": {},
     "output_type": "display_data"
    },
    {
     "data": {
      "application/vnd.jupyter.widget-view+json": {
       "model_id": "411048f858a849fbafd4529b4414e35e",
       "version_major": 2,
       "version_minor": 0
      },
      "text/plain": [
       "65/100(t):   0%|          | 0/40 [00:00<?, ?it/s]"
      ]
     },
     "metadata": {},
     "output_type": "display_data"
    },
    {
     "data": {
      "application/vnd.jupyter.widget-view+json": {
       "model_id": "861b04f319b446ac873ae6368dcbdec1",
       "version_major": 2,
       "version_minor": 0
      },
      "text/plain": [
       "65/100(v):   0%|          | 0/4 [00:00<?, ?it/s]"
      ]
     },
     "metadata": {},
     "output_type": "display_data"
    },
    {
     "data": {
      "application/vnd.jupyter.widget-view+json": {
       "model_id": "f855d7e0d0574867a8c808ceb5a4372c",
       "version_major": 2,
       "version_minor": 0
      },
      "text/plain": [
       "66/100(t):   0%|          | 0/40 [00:00<?, ?it/s]"
      ]
     },
     "metadata": {},
     "output_type": "display_data"
    },
    {
     "data": {
      "application/vnd.jupyter.widget-view+json": {
       "model_id": "e66cafe0b10642e9917ff1f5dc8480f1",
       "version_major": 2,
       "version_minor": 0
      },
      "text/plain": [
       "66/100(v):   0%|          | 0/4 [00:00<?, ?it/s]"
      ]
     },
     "metadata": {},
     "output_type": "display_data"
    },
    {
     "data": {
      "application/vnd.jupyter.widget-view+json": {
       "model_id": "f64093bb17474669b1a2f0eaad085c28",
       "version_major": 2,
       "version_minor": 0
      },
      "text/plain": [
       "67/100(t):   0%|          | 0/40 [00:00<?, ?it/s]"
      ]
     },
     "metadata": {},
     "output_type": "display_data"
    },
    {
     "data": {
      "application/vnd.jupyter.widget-view+json": {
       "model_id": "29df32fec75d448ab3210ced236b1f94",
       "version_major": 2,
       "version_minor": 0
      },
      "text/plain": [
       "67/100(v):   0%|          | 0/4 [00:00<?, ?it/s]"
      ]
     },
     "metadata": {},
     "output_type": "display_data"
    },
    {
     "data": {
      "application/vnd.jupyter.widget-view+json": {
       "model_id": "b6e2487695214e81b9008e57c24d0570",
       "version_major": 2,
       "version_minor": 0
      },
      "text/plain": [
       "68/100(t):   0%|          | 0/40 [00:00<?, ?it/s]"
      ]
     },
     "metadata": {},
     "output_type": "display_data"
    },
    {
     "data": {
      "application/vnd.jupyter.widget-view+json": {
       "model_id": "b4a6a0e599bf4645b1cbd199fd9ea0ce",
       "version_major": 2,
       "version_minor": 0
      },
      "text/plain": [
       "68/100(v):   0%|          | 0/4 [00:00<?, ?it/s]"
      ]
     },
     "metadata": {},
     "output_type": "display_data"
    },
    {
     "data": {
      "application/vnd.jupyter.widget-view+json": {
       "model_id": "fbd628159dc643d1882babbda08f1931",
       "version_major": 2,
       "version_minor": 0
      },
      "text/plain": [
       "69/100(t):   0%|          | 0/40 [00:00<?, ?it/s]"
      ]
     },
     "metadata": {},
     "output_type": "display_data"
    },
    {
     "data": {
      "application/vnd.jupyter.widget-view+json": {
       "model_id": "33f3fca9c81440e98f431f13cf819c9c",
       "version_major": 2,
       "version_minor": 0
      },
      "text/plain": [
       "69/100(v):   0%|          | 0/4 [00:00<?, ?it/s]"
      ]
     },
     "metadata": {},
     "output_type": "display_data"
    },
    {
     "data": {
      "application/vnd.jupyter.widget-view+json": {
       "model_id": "71d427da29f548f5b9fd1f7443e584f8",
       "version_major": 2,
       "version_minor": 0
      },
      "text/plain": [
       "70/100(t):   0%|          | 0/40 [00:00<?, ?it/s]"
      ]
     },
     "metadata": {},
     "output_type": "display_data"
    },
    {
     "data": {
      "application/vnd.jupyter.widget-view+json": {
       "model_id": "1a538e2a94f8460790762cf16448c42a",
       "version_major": 2,
       "version_minor": 0
      },
      "text/plain": [
       "70/100(v):   0%|          | 0/4 [00:00<?, ?it/s]"
      ]
     },
     "metadata": {},
     "output_type": "display_data"
    },
    {
     "data": {
      "application/vnd.jupyter.widget-view+json": {
       "model_id": "a19b9cd8a2ae4b89a9493baf4f25198a",
       "version_major": 2,
       "version_minor": 0
      },
      "text/plain": [
       "71/100(t):   0%|          | 0/40 [00:00<?, ?it/s]"
      ]
     },
     "metadata": {},
     "output_type": "display_data"
    },
    {
     "data": {
      "application/vnd.jupyter.widget-view+json": {
       "model_id": "7cacd89294d448358ccdcbe338e84c5e",
       "version_major": 2,
       "version_minor": 0
      },
      "text/plain": [
       "71/100(v):   0%|          | 0/4 [00:00<?, ?it/s]"
      ]
     },
     "metadata": {},
     "output_type": "display_data"
    },
    {
     "data": {
      "application/vnd.jupyter.widget-view+json": {
       "model_id": "526cad489815468baed0a963f97776e8",
       "version_major": 2,
       "version_minor": 0
      },
      "text/plain": [
       "72/100(t):   0%|          | 0/40 [00:00<?, ?it/s]"
      ]
     },
     "metadata": {},
     "output_type": "display_data"
    },
    {
     "data": {
      "application/vnd.jupyter.widget-view+json": {
       "model_id": "9e5c64533850463290637c3803c33cba",
       "version_major": 2,
       "version_minor": 0
      },
      "text/plain": [
       "72/100(v):   0%|          | 0/4 [00:00<?, ?it/s]"
      ]
     },
     "metadata": {},
     "output_type": "display_data"
    },
    {
     "data": {
      "application/vnd.jupyter.widget-view+json": {
       "model_id": "2d4ca2bb114442669bb0f074e81c2609",
       "version_major": 2,
       "version_minor": 0
      },
      "text/plain": [
       "73/100(t):   0%|          | 0/40 [00:00<?, ?it/s]"
      ]
     },
     "metadata": {},
     "output_type": "display_data"
    },
    {
     "data": {
      "application/vnd.jupyter.widget-view+json": {
       "model_id": "e9f48085bd6a49a1a3fb965fbe4df9b8",
       "version_major": 2,
       "version_minor": 0
      },
      "text/plain": [
       "73/100(v):   0%|          | 0/4 [00:00<?, ?it/s]"
      ]
     },
     "metadata": {},
     "output_type": "display_data"
    },
    {
     "data": {
      "application/vnd.jupyter.widget-view+json": {
       "model_id": "2adddce025a94826847060f1e9a46f17",
       "version_major": 2,
       "version_minor": 0
      },
      "text/plain": [
       "74/100(t):   0%|          | 0/40 [00:00<?, ?it/s]"
      ]
     },
     "metadata": {},
     "output_type": "display_data"
    },
    {
     "data": {
      "application/vnd.jupyter.widget-view+json": {
       "model_id": "56fd574121cc408eb4ea1786d0b2c11a",
       "version_major": 2,
       "version_minor": 0
      },
      "text/plain": [
       "74/100(v):   0%|          | 0/4 [00:00<?, ?it/s]"
      ]
     },
     "metadata": {},
     "output_type": "display_data"
    },
    {
     "data": {
      "application/vnd.jupyter.widget-view+json": {
       "model_id": "476e50eebbd242ce871df71c277d0939",
       "version_major": 2,
       "version_minor": 0
      },
      "text/plain": [
       "75/100(t):   0%|          | 0/40 [00:00<?, ?it/s]"
      ]
     },
     "metadata": {},
     "output_type": "display_data"
    },
    {
     "data": {
      "application/vnd.jupyter.widget-view+json": {
       "model_id": "3d11d9b31f0f4670b31706d34e19ba30",
       "version_major": 2,
       "version_minor": 0
      },
      "text/plain": [
       "75/100(v):   0%|          | 0/4 [00:00<?, ?it/s]"
      ]
     },
     "metadata": {},
     "output_type": "display_data"
    },
    {
     "data": {
      "application/vnd.jupyter.widget-view+json": {
       "model_id": "38a915cab62b4e37be6fb723e0f6f24a",
       "version_major": 2,
       "version_minor": 0
      },
      "text/plain": [
       "76/100(t):   0%|          | 0/40 [00:00<?, ?it/s]"
      ]
     },
     "metadata": {},
     "output_type": "display_data"
    },
    {
     "data": {
      "application/vnd.jupyter.widget-view+json": {
       "model_id": "e4b601ca8e8d4523b79b57d52d770b20",
       "version_major": 2,
       "version_minor": 0
      },
      "text/plain": [
       "76/100(v):   0%|          | 0/4 [00:00<?, ?it/s]"
      ]
     },
     "metadata": {},
     "output_type": "display_data"
    },
    {
     "data": {
      "application/vnd.jupyter.widget-view+json": {
       "model_id": "4b7350c154594e3384d2c3ad89f5d79f",
       "version_major": 2,
       "version_minor": 0
      },
      "text/plain": [
       "77/100(t):   0%|          | 0/40 [00:00<?, ?it/s]"
      ]
     },
     "metadata": {},
     "output_type": "display_data"
    },
    {
     "data": {
      "application/vnd.jupyter.widget-view+json": {
       "model_id": "f97ec71aa004415799efb2c7c56139de",
       "version_major": 2,
       "version_minor": 0
      },
      "text/plain": [
       "77/100(v):   0%|          | 0/4 [00:00<?, ?it/s]"
      ]
     },
     "metadata": {},
     "output_type": "display_data"
    },
    {
     "data": {
      "application/vnd.jupyter.widget-view+json": {
       "model_id": "29af4927d26e4989b2213156f5f4f6e1",
       "version_major": 2,
       "version_minor": 0
      },
      "text/plain": [
       "78/100(t):   0%|          | 0/40 [00:00<?, ?it/s]"
      ]
     },
     "metadata": {},
     "output_type": "display_data"
    },
    {
     "data": {
      "application/vnd.jupyter.widget-view+json": {
       "model_id": "5395f9fbc87e407bb266363ce8ca0b66",
       "version_major": 2,
       "version_minor": 0
      },
      "text/plain": [
       "78/100(v):   0%|          | 0/4 [00:00<?, ?it/s]"
      ]
     },
     "metadata": {},
     "output_type": "display_data"
    },
    {
     "data": {
      "application/vnd.jupyter.widget-view+json": {
       "model_id": "465a5cf9cb084e94ae3c23876dfed277",
       "version_major": 2,
       "version_minor": 0
      },
      "text/plain": [
       "79/100(t):   0%|          | 0/40 [00:00<?, ?it/s]"
      ]
     },
     "metadata": {},
     "output_type": "display_data"
    },
    {
     "data": {
      "application/vnd.jupyter.widget-view+json": {
       "model_id": "a4329b4784124a8c9bd53aa6a81a8597",
       "version_major": 2,
       "version_minor": 0
      },
      "text/plain": [
       "79/100(v):   0%|          | 0/4 [00:00<?, ?it/s]"
      ]
     },
     "metadata": {},
     "output_type": "display_data"
    },
    {
     "data": {
      "application/vnd.jupyter.widget-view+json": {
       "model_id": "793985d642e04249a71dbf5102e46bd1",
       "version_major": 2,
       "version_minor": 0
      },
      "text/plain": [
       "80/100(t):   0%|          | 0/40 [00:00<?, ?it/s]"
      ]
     },
     "metadata": {},
     "output_type": "display_data"
    },
    {
     "data": {
      "application/vnd.jupyter.widget-view+json": {
       "model_id": "d14bc5c650c84be48c40a714d97df76a",
       "version_major": 2,
       "version_minor": 0
      },
      "text/plain": [
       "80/100(v):   0%|          | 0/4 [00:00<?, ?it/s]"
      ]
     },
     "metadata": {},
     "output_type": "display_data"
    },
    {
     "data": {
      "application/vnd.jupyter.widget-view+json": {
       "model_id": "185bbb1a69fc4ba79058157fb58c30cb",
       "version_major": 2,
       "version_minor": 0
      },
      "text/plain": [
       "81/100(t):   0%|          | 0/40 [00:00<?, ?it/s]"
      ]
     },
     "metadata": {},
     "output_type": "display_data"
    },
    {
     "data": {
      "application/vnd.jupyter.widget-view+json": {
       "model_id": "04f962c4575e46348e080291dd780fea",
       "version_major": 2,
       "version_minor": 0
      },
      "text/plain": [
       "81/100(v):   0%|          | 0/4 [00:00<?, ?it/s]"
      ]
     },
     "metadata": {},
     "output_type": "display_data"
    },
    {
     "data": {
      "application/vnd.jupyter.widget-view+json": {
       "model_id": "0feab076e44e41c2b8d5e1c50eecd244",
       "version_major": 2,
       "version_minor": 0
      },
      "text/plain": [
       "82/100(t):   0%|          | 0/40 [00:00<?, ?it/s]"
      ]
     },
     "metadata": {},
     "output_type": "display_data"
    },
    {
     "data": {
      "application/vnd.jupyter.widget-view+json": {
       "model_id": "a9fcd94e0b874b47bf6de1df070fd113",
       "version_major": 2,
       "version_minor": 0
      },
      "text/plain": [
       "82/100(v):   0%|          | 0/4 [00:00<?, ?it/s]"
      ]
     },
     "metadata": {},
     "output_type": "display_data"
    },
    {
     "data": {
      "application/vnd.jupyter.widget-view+json": {
       "model_id": "ff06cc92581742d2a0665801985104f3",
       "version_major": 2,
       "version_minor": 0
      },
      "text/plain": [
       "83/100(t):   0%|          | 0/40 [00:00<?, ?it/s]"
      ]
     },
     "metadata": {},
     "output_type": "display_data"
    },
    {
     "data": {
      "application/vnd.jupyter.widget-view+json": {
       "model_id": "3dfd7ff3dfb241fba220486d06a9269d",
       "version_major": 2,
       "version_minor": 0
      },
      "text/plain": [
       "83/100(v):   0%|          | 0/4 [00:00<?, ?it/s]"
      ]
     },
     "metadata": {},
     "output_type": "display_data"
    },
    {
     "data": {
      "application/vnd.jupyter.widget-view+json": {
       "model_id": "5d8ed6aefd27454ba77b346cd8fef281",
       "version_major": 2,
       "version_minor": 0
      },
      "text/plain": [
       "84/100(t):   0%|          | 0/40 [00:00<?, ?it/s]"
      ]
     },
     "metadata": {},
     "output_type": "display_data"
    },
    {
     "data": {
      "application/vnd.jupyter.widget-view+json": {
       "model_id": "5ef4c090619d453fb0041c324b558463",
       "version_major": 2,
       "version_minor": 0
      },
      "text/plain": [
       "84/100(v):   0%|          | 0/4 [00:00<?, ?it/s]"
      ]
     },
     "metadata": {},
     "output_type": "display_data"
    },
    {
     "data": {
      "application/vnd.jupyter.widget-view+json": {
       "model_id": "e6e720bb6c8344d997404304d7fbbbed",
       "version_major": 2,
       "version_minor": 0
      },
      "text/plain": [
       "85/100(t):   0%|          | 0/40 [00:00<?, ?it/s]"
      ]
     },
     "metadata": {},
     "output_type": "display_data"
    },
    {
     "data": {
      "application/vnd.jupyter.widget-view+json": {
       "model_id": "125ba926c3ef4971b4fb5ce12d9d64c8",
       "version_major": 2,
       "version_minor": 0
      },
      "text/plain": [
       "85/100(v):   0%|          | 0/4 [00:00<?, ?it/s]"
      ]
     },
     "metadata": {},
     "output_type": "display_data"
    },
    {
     "data": {
      "application/vnd.jupyter.widget-view+json": {
       "model_id": "63bd7e2c00ef4038b9dc707eeda31b59",
       "version_major": 2,
       "version_minor": 0
      },
      "text/plain": [
       "86/100(t):   0%|          | 0/40 [00:00<?, ?it/s]"
      ]
     },
     "metadata": {},
     "output_type": "display_data"
    },
    {
     "data": {
      "application/vnd.jupyter.widget-view+json": {
       "model_id": "cc8f79d1073e40a3a770b8ed23b2b087",
       "version_major": 2,
       "version_minor": 0
      },
      "text/plain": [
       "86/100(v):   0%|          | 0/4 [00:00<?, ?it/s]"
      ]
     },
     "metadata": {},
     "output_type": "display_data"
    },
    {
     "data": {
      "application/vnd.jupyter.widget-view+json": {
       "model_id": "2d4d9262b311445b84441e6f95901c29",
       "version_major": 2,
       "version_minor": 0
      },
      "text/plain": [
       "87/100(t):   0%|          | 0/40 [00:00<?, ?it/s]"
      ]
     },
     "metadata": {},
     "output_type": "display_data"
    },
    {
     "data": {
      "application/vnd.jupyter.widget-view+json": {
       "model_id": "99aba2a57fc442ffa8c87c6853a975d7",
       "version_major": 2,
       "version_minor": 0
      },
      "text/plain": [
       "87/100(v):   0%|          | 0/4 [00:00<?, ?it/s]"
      ]
     },
     "metadata": {},
     "output_type": "display_data"
    },
    {
     "data": {
      "application/vnd.jupyter.widget-view+json": {
       "model_id": "0bd2c58d9f0d4b25908e27f4b68b8347",
       "version_major": 2,
       "version_minor": 0
      },
      "text/plain": [
       "88/100(t):   0%|          | 0/40 [00:00<?, ?it/s]"
      ]
     },
     "metadata": {},
     "output_type": "display_data"
    },
    {
     "data": {
      "application/vnd.jupyter.widget-view+json": {
       "model_id": "0ab17ceb03f841d7960867af16562470",
       "version_major": 2,
       "version_minor": 0
      },
      "text/plain": [
       "88/100(v):   0%|          | 0/4 [00:00<?, ?it/s]"
      ]
     },
     "metadata": {},
     "output_type": "display_data"
    },
    {
     "data": {
      "application/vnd.jupyter.widget-view+json": {
       "model_id": "f86774bf35a8457d96345fed870e7c35",
       "version_major": 2,
       "version_minor": 0
      },
      "text/plain": [
       "89/100(t):   0%|          | 0/40 [00:00<?, ?it/s]"
      ]
     },
     "metadata": {},
     "output_type": "display_data"
    },
    {
     "data": {
      "application/vnd.jupyter.widget-view+json": {
       "model_id": "5eaff8d0fdd24a62a824dd5de12c4129",
       "version_major": 2,
       "version_minor": 0
      },
      "text/plain": [
       "89/100(v):   0%|          | 0/4 [00:00<?, ?it/s]"
      ]
     },
     "metadata": {},
     "output_type": "display_data"
    },
    {
     "data": {
      "application/vnd.jupyter.widget-view+json": {
       "model_id": "d286eac7991647b589455eec4364e7cf",
       "version_major": 2,
       "version_minor": 0
      },
      "text/plain": [
       "90/100(t):   0%|          | 0/40 [00:00<?, ?it/s]"
      ]
     },
     "metadata": {},
     "output_type": "display_data"
    },
    {
     "data": {
      "application/vnd.jupyter.widget-view+json": {
       "model_id": "019097a4d9914bd18c85faab8f627f79",
       "version_major": 2,
       "version_minor": 0
      },
      "text/plain": [
       "90/100(v):   0%|          | 0/4 [00:00<?, ?it/s]"
      ]
     },
     "metadata": {},
     "output_type": "display_data"
    },
    {
     "data": {
      "application/vnd.jupyter.widget-view+json": {
       "model_id": "d587d9f930c449c3a78df24660bdd4ad",
       "version_major": 2,
       "version_minor": 0
      },
      "text/plain": [
       "91/100(t):   0%|          | 0/40 [00:00<?, ?it/s]"
      ]
     },
     "metadata": {},
     "output_type": "display_data"
    },
    {
     "data": {
      "application/vnd.jupyter.widget-view+json": {
       "model_id": "2a39eb65967a40d3a5c322c3acd46ed5",
       "version_major": 2,
       "version_minor": 0
      },
      "text/plain": [
       "91/100(v):   0%|          | 0/4 [00:00<?, ?it/s]"
      ]
     },
     "metadata": {},
     "output_type": "display_data"
    },
    {
     "data": {
      "application/vnd.jupyter.widget-view+json": {
       "model_id": "d2cf06e9e8154b9ab0cafb5f6a67645d",
       "version_major": 2,
       "version_minor": 0
      },
      "text/plain": [
       "92/100(t):   0%|          | 0/40 [00:00<?, ?it/s]"
      ]
     },
     "metadata": {},
     "output_type": "display_data"
    },
    {
     "data": {
      "application/vnd.jupyter.widget-view+json": {
       "model_id": "1a18cd8264e44dcda953a3cba9adff2d",
       "version_major": 2,
       "version_minor": 0
      },
      "text/plain": [
       "92/100(v):   0%|          | 0/4 [00:00<?, ?it/s]"
      ]
     },
     "metadata": {},
     "output_type": "display_data"
    },
    {
     "data": {
      "application/vnd.jupyter.widget-view+json": {
       "model_id": "0cc45f3e2caf44c6b1067320340c52f6",
       "version_major": 2,
       "version_minor": 0
      },
      "text/plain": [
       "93/100(t):   0%|          | 0/40 [00:00<?, ?it/s]"
      ]
     },
     "metadata": {},
     "output_type": "display_data"
    },
    {
     "data": {
      "application/vnd.jupyter.widget-view+json": {
       "model_id": "70d52c9affbc4043847d55905889fd7c",
       "version_major": 2,
       "version_minor": 0
      },
      "text/plain": [
       "93/100(v):   0%|          | 0/4 [00:00<?, ?it/s]"
      ]
     },
     "metadata": {},
     "output_type": "display_data"
    },
    {
     "data": {
      "application/vnd.jupyter.widget-view+json": {
       "model_id": "2d01b446655c44218f79373f60af5ed2",
       "version_major": 2,
       "version_minor": 0
      },
      "text/plain": [
       "94/100(t):   0%|          | 0/40 [00:00<?, ?it/s]"
      ]
     },
     "metadata": {},
     "output_type": "display_data"
    },
    {
     "data": {
      "application/vnd.jupyter.widget-view+json": {
       "model_id": "5737b30e4a8f41a48431d89ef6966b1a",
       "version_major": 2,
       "version_minor": 0
      },
      "text/plain": [
       "94/100(v):   0%|          | 0/4 [00:00<?, ?it/s]"
      ]
     },
     "metadata": {},
     "output_type": "display_data"
    },
    {
     "data": {
      "application/vnd.jupyter.widget-view+json": {
       "model_id": "63d68db818d04a2294b54f8958d9b835",
       "version_major": 2,
       "version_minor": 0
      },
      "text/plain": [
       "95/100(t):   0%|          | 0/40 [00:00<?, ?it/s]"
      ]
     },
     "metadata": {},
     "output_type": "display_data"
    },
    {
     "data": {
      "application/vnd.jupyter.widget-view+json": {
       "model_id": "585c4e5552b74d06b41c78fddf8053e5",
       "version_major": 2,
       "version_minor": 0
      },
      "text/plain": [
       "95/100(v):   0%|          | 0/4 [00:00<?, ?it/s]"
      ]
     },
     "metadata": {},
     "output_type": "display_data"
    },
    {
     "data": {
      "application/vnd.jupyter.widget-view+json": {
       "model_id": "59719935b88943b1b69596e7a09a8088",
       "version_major": 2,
       "version_minor": 0
      },
      "text/plain": [
       "96/100(t):   0%|          | 0/40 [00:00<?, ?it/s]"
      ]
     },
     "metadata": {},
     "output_type": "display_data"
    },
    {
     "data": {
      "application/vnd.jupyter.widget-view+json": {
       "model_id": "265b600654554c16ac2dee9494ca4a94",
       "version_major": 2,
       "version_minor": 0
      },
      "text/plain": [
       "96/100(v):   0%|          | 0/4 [00:00<?, ?it/s]"
      ]
     },
     "metadata": {},
     "output_type": "display_data"
    },
    {
     "data": {
      "application/vnd.jupyter.widget-view+json": {
       "model_id": "2258f33f3f6c4313824ed321449074f7",
       "version_major": 2,
       "version_minor": 0
      },
      "text/plain": [
       "97/100(t):   0%|          | 0/40 [00:00<?, ?it/s]"
      ]
     },
     "metadata": {},
     "output_type": "display_data"
    },
    {
     "data": {
      "application/vnd.jupyter.widget-view+json": {
       "model_id": "4bb370e3d44a4c1bb9a137597dd8d37a",
       "version_major": 2,
       "version_minor": 0
      },
      "text/plain": [
       "97/100(v):   0%|          | 0/4 [00:00<?, ?it/s]"
      ]
     },
     "metadata": {},
     "output_type": "display_data"
    },
    {
     "data": {
      "application/vnd.jupyter.widget-view+json": {
       "model_id": "9035f461d9204147a04e61b29ca1efce",
       "version_major": 2,
       "version_minor": 0
      },
      "text/plain": [
       "98/100(t):   0%|          | 0/40 [00:00<?, ?it/s]"
      ]
     },
     "metadata": {},
     "output_type": "display_data"
    },
    {
     "data": {
      "application/vnd.jupyter.widget-view+json": {
       "model_id": "4fab4754a31c4ce3b8eb05f59b78afd0",
       "version_major": 2,
       "version_minor": 0
      },
      "text/plain": [
       "98/100(v):   0%|          | 0/4 [00:00<?, ?it/s]"
      ]
     },
     "metadata": {},
     "output_type": "display_data"
    },
    {
     "data": {
      "application/vnd.jupyter.widget-view+json": {
       "model_id": "808074e26afc4acfa2f93e15636072ef",
       "version_major": 2,
       "version_minor": 0
      },
      "text/plain": [
       "99/100(t):   0%|          | 0/40 [00:00<?, ?it/s]"
      ]
     },
     "metadata": {},
     "output_type": "display_data"
    },
    {
     "data": {
      "application/vnd.jupyter.widget-view+json": {
       "model_id": "fdd2bc264b2449a98125eb15b60376ad",
       "version_major": 2,
       "version_minor": 0
      },
      "text/plain": [
       "99/100(v):   0%|          | 0/4 [00:00<?, ?it/s]"
      ]
     },
     "metadata": {},
     "output_type": "display_data"
    },
    {
     "data": {
      "application/vnd.jupyter.widget-view+json": {
       "model_id": "fc575042a5384ff589d4ea2048db12cd",
       "version_major": 2,
       "version_minor": 0
      },
      "text/plain": [
       "0/1(e):   0%|          | 0/4 [00:00<?, ?it/s]"
      ]
     },
     "metadata": {},
     "output_type": "display_data"
    },
    {
     "name": "stdout",
     "output_type": "stream",
     "text": [
      "{'test_loss': 10.545927047729492}\n"
     ]
    }
   ],
   "source": [
    "# build the model\n",
    "model = SimpleCNN()\n",
    "\n",
    "# define the loss function and the optimiser\n",
    "loss_function = nn.MSELoss()\n",
    "optimiser = optim.Adam(model.parameters())\n",
    "\n",
    "device = \"cuda:0\" if torch.cuda.is_available() else \"cpu\"\n",
    "trial = Trial(model, optimiser, loss_function, metrics=['loss'])\n",
    "trial.with_generators(trainloader, val_generator=validloader,\n",
    "                      test_generator=testloader).to(device)\n",
    "trial.run(epochs=100)\n",
    "results = trial.evaluate(data_key=torchbearer.TEST_DATA)\n",
    "print(results)"
   ]
  },
  {
   "cell_type": "code",
   "execution_count": 154,
   "id": "625c9149",
   "metadata": {},
   "outputs": [
    {
     "name": "stdout",
     "output_type": "stream",
     "text": [
      "tensor([[[0., 0., 0.,  ..., 0., 0., 0.],\n",
      "         [0., 0., 0.,  ..., 0., 0., 0.],\n",
      "         [0., 0., 0.,  ..., 0., 0., 0.],\n",
      "         ...,\n",
      "         [0., 0., 0.,  ..., 0., 0., 0.],\n",
      "         [0., 0., 0.,  ..., 0., 0., 0.],\n",
      "         [0., 0., 0.,  ..., 0., 0., 0.]]])\n",
      "tensor(7.)\n",
      "tensor([ 1.3333, 13.0000])\n",
      "tensor([[[[0., 0., 0.,  ..., 0., 0., 0.],\n",
      "          [0., 0., 0.,  ..., 0., 0., 0.],\n",
      "          [0., 0., 0.,  ..., 0., 0., 0.],\n",
      "          ...,\n",
      "          [0., 0., 0.,  ..., 0., 0., 0.],\n",
      "          [0., 0., 0.,  ..., 0., 0., 0.],\n",
      "          [0., 0., 0.,  ..., 0., 0., 0.]]]])\n",
      "tensor([ 1.4013, 12.0582], device='cuda:0', grad_fn=<SelectBackward0>)\n"
     ]
    },
    {
     "data": {
      "image/png": "[encoded data removed]",
      "text/plain": [
       "<Figure size 360x360 with 1 Axes>"
      ]
     },
     "metadata": {
      "needs_background": "light"
     },
     "output_type": "display_data"
    }
   ],
   "source": [
    "im,params = test_data[80]\n",
    "print(im)\n",
    "print(im.sum())\n",
    "print(params)\n",
    "print(im.unsqueeze(0))\n",
    "est_params = model(im.unsqueeze(0))[0]\n",
    "print(est_params)\n",
    "x0, x1 = 0, 40\n",
    "y0, y1 = 0, 40\n",
    "# m,c = torch.tensor(params, device='cpu')\n",
    "m,c = params.clone().detach().to('cpu')\n",
    "m,c = -m, (-c+40)\n",
    "m_est, c_est = est_params.clone().detach().to('cpu')\n",
    "m_est, c_est = -m_est, (-c_est+40)\n",
    "px0, px1 = x0 - 5, x1 + 5\n",
    "x = torch.linspace(px0, px1, px1 - px0).detach()\n",
    "y = m * x + c\n",
    "y_est = m_est * x + c_est\n",
    "plt.subplots(figsize = (5, 5))\n",
    "plt.imshow(im.squeeze(),cmap=matplotlib.colors.ListedColormap(['royalblue', 'yellow']))\n",
    "plt.plot(x, y, c = 'orange')\n",
    "plt.plot(x, y_est, c = 'red')\n",
    "plt.xlim(0,39)\n",
    "plt.ylim(0,39)\n",
    "plt.savefig(\"SimpleCNN80.png\")"
   ]
  },
  {
   "cell_type": "code",
   "execution_count": 125,
   "id": "e75b8359",
   "metadata": {},
   "outputs": [
    {
     "name": "stdout",
     "output_type": "stream",
     "text": [
      "The autoreload extension is already loaded. To reload it, use:\n",
      "  %reload_ext autoreload\n"
     ]
    }
   ],
   "source": [
    "# automatically reload external modules if they change\n",
    "%load_ext autoreload\n",
    "%autoreload 2\n",
    "\n",
    "import torch\n",
    "import torch.nn.functional as F\n",
    "import torchvision.transforms as transforms\n",
    "import torchbearer\n",
    "from torch import nn\n",
    "from torch import optim\n",
    "from torch.utils.data import DataLoader\n",
    "from torchvision.datasets import MNIST\n",
    "from torchbearer import Trial\n",
    "\n",
    "# fix random seed for reproducibility\n",
    "seed = 7\n",
    "torch.manual_seed(seed)\n",
    "torch.backends.cudnn.deterministic = True\n",
    "\n",
    "class CNNPooling(nn.Module):\n",
    "    def __init__(self):\n",
    "        super(CNNPooling, self).__init__()\n",
    "        self.conv1 = nn.Conv2d(in_channels = 1, out_channels = 48, kernel_size = (3, 3), stride=1,padding=1)\n",
    "        self.conv2 = nn.Conv2d(in_channels = 48, out_channels = 48, kernel_size = (3, 3), stride=1,padding=1)\n",
    "        self.flatten = nn.Flatten()\n",
    "        self.fc1 = nn.Linear(48, 128)\n",
    "        self.fc2 = nn.Linear(128, 2)\n",
    "            \n",
    "    def forward(self, x):\n",
    "        x = x.to(device)\n",
    "        out = self.conv1(x)\n",
    "        out = F.relu(out)\n",
    "        out = self.conv2(out)\n",
    "        out = F.relu(out)\n",
    "        out = F.adaptive_max_pool2d(out,output_size=(1,1))\n",
    "        out = self.flatten(out)\n",
    "        out = self.fc1(out)\n",
    "        out = F.relu(out)\n",
    "        out = self.fc2(out)\n",
    "        return out"
   ]
  },
  {
   "cell_type": "code",
   "execution_count": 127,
   "id": "6323a4a5",
   "metadata": {
    "scrolled": true
   },
   "outputs": [
    {
     "data": {
      "application/vnd.jupyter.widget-view+json": {
       "model_id": "bbab16569744430297aa02308284bf68",
       "version_major": 2,
       "version_minor": 0
      },
      "text/plain": [
       "0/100(t):   0%|          | 0/40 [00:00<?, ?it/s]"
      ]
     },
     "metadata": {},
     "output_type": "display_data"
    },
    {
     "data": {
      "application/vnd.jupyter.widget-view+json": {
       "model_id": "93b0ed67e0524084a127ecfe0840ca54",
       "version_major": 2,
       "version_minor": 0
      },
      "text/plain": [
       "0/100(v):   0%|          | 0/4 [00:00<?, ?it/s]"
      ]
     },
     "metadata": {},
     "output_type": "display_data"
    },
    {
     "data": {
      "application/vnd.jupyter.widget-view+json": {
       "model_id": "d6fe7c18ea1b47d2a7b06d5ea2b2d995",
       "version_major": 2,
       "version_minor": 0
      },
      "text/plain": [
       "1/100(t):   0%|          | 0/40 [00:00<?, ?it/s]"
      ]
     },
     "metadata": {},
     "output_type": "display_data"
    },
    {
     "data": {
      "application/vnd.jupyter.widget-view+json": {
       "model_id": "1b7958a3819a484fa087761f75848656",
       "version_major": 2,
       "version_minor": 0
      },
      "text/plain": [
       "1/100(v):   0%|          | 0/4 [00:00<?, ?it/s]"
      ]
     },
     "metadata": {},
     "output_type": "display_data"
    },
    {
     "data": {
      "application/vnd.jupyter.widget-view+json": {
       "model_id": "80602f3bb6204f39a97636c30a3e1e68",
       "version_major": 2,
       "version_minor": 0
      },
      "text/plain": [
       "2/100(t):   0%|          | 0/40 [00:00<?, ?it/s]"
      ]
     },
     "metadata": {},
     "output_type": "display_data"
    },
    {
     "data": {
      "application/vnd.jupyter.widget-view+json": {
       "model_id": "f94de46e8fe547b58ecdda432f358c8f",
       "version_major": 2,
       "version_minor": 0
      },
      "text/plain": [
       "2/100(v):   0%|          | 0/4 [00:00<?, ?it/s]"
      ]
     },
     "metadata": {},
     "output_type": "display_data"
    },
    {
     "data": {
      "application/vnd.jupyter.widget-view+json": {
       "model_id": "9b2fdf4bd6a54c2eb714044ffd059e16",
       "version_major": 2,
       "version_minor": 0
      },
      "text/plain": [
       "3/100(t):   0%|          | 0/40 [00:00<?, ?it/s]"
      ]
     },
     "metadata": {},
     "output_type": "display_data"
    },
    {
     "data": {
      "application/vnd.jupyter.widget-view+json": {
       "model_id": "5df3ebb357e7464a9c41f4d08707dad7",
       "version_major": 2,
       "version_minor": 0
      },
      "text/plain": [
       "3/100(v):   0%|          | 0/4 [00:00<?, ?it/s]"
      ]
     },
     "metadata": {},
     "output_type": "display_data"
    },
    {
     "data": {
      "application/vnd.jupyter.widget-view+json": {
       "model_id": "35251e76ce1d4f4aae17c4c1f05e6b79",
       "version_major": 2,
       "version_minor": 0
      },
      "text/plain": [
       "4/100(t):   0%|          | 0/40 [00:00<?, ?it/s]"
      ]
     },
     "metadata": {},
     "output_type": "display_data"
    },
    {
     "data": {
      "application/vnd.jupyter.widget-view+json": {
       "model_id": "cc7682bd20814932b2dc79504c41068f",
       "version_major": 2,
       "version_minor": 0
      },
      "text/plain": [
       "4/100(v):   0%|          | 0/4 [00:00<?, ?it/s]"
      ]
     },
     "metadata": {},
     "output_type": "display_data"
    },
    {
     "data": {
      "application/vnd.jupyter.widget-view+json": {
       "model_id": "0d2f57370c6b4a158a849f21ba134764",
       "version_major": 2,
       "version_minor": 0
      },
      "text/plain": [
       "5/100(t):   0%|          | 0/40 [00:00<?, ?it/s]"
      ]
     },
     "metadata": {},
     "output_type": "display_data"
    },
    {
     "data": {
      "application/vnd.jupyter.widget-view+json": {
       "model_id": "dee0a462d3f14aee846d0340d988a549",
       "version_major": 2,
       "version_minor": 0
      },
      "text/plain": [
       "5/100(v):   0%|          | 0/4 [00:00<?, ?it/s]"
      ]
     },
     "metadata": {},
     "output_type": "display_data"
    },
    {
     "data": {
      "application/vnd.jupyter.widget-view+json": {
       "model_id": "fc8407c204bc4cea982dac713ceb9a2f",
       "version_major": 2,
       "version_minor": 0
      },
      "text/plain": [
       "6/100(t):   0%|          | 0/40 [00:00<?, ?it/s]"
      ]
     },
     "metadata": {},
     "output_type": "display_data"
    },
    {
     "data": {
      "application/vnd.jupyter.widget-view+json": {
       "model_id": "74e027d318564d5990bc8b28e304b0ac",
       "version_major": 2,
       "version_minor": 0
      },
      "text/plain": [
       "6/100(v):   0%|          | 0/4 [00:00<?, ?it/s]"
      ]
     },
     "metadata": {},
     "output_type": "display_data"
    },
    {
     "data": {
      "application/vnd.jupyter.widget-view+json": {
       "model_id": "1c07d87491784d7db4fc808dacb93f60",
       "version_major": 2,
       "version_minor": 0
      },
      "text/plain": [
       "7/100(t):   0%|          | 0/40 [00:00<?, ?it/s]"
      ]
     },
     "metadata": {},
     "output_type": "display_data"
    },
    {
     "data": {
      "application/vnd.jupyter.widget-view+json": {
       "model_id": "6baffbf7af5949bc947583c0569f5a79",
       "version_major": 2,
       "version_minor": 0
      },
      "text/plain": [
       "7/100(v):   0%|          | 0/4 [00:00<?, ?it/s]"
      ]
     },
     "metadata": {},
     "output_type": "display_data"
    },
    {
     "data": {
      "application/vnd.jupyter.widget-view+json": {
       "model_id": "04fb4db30fd64602aee0e068c3385326",
       "version_major": 2,
       "version_minor": 0
      },
      "text/plain": [
       "8/100(t):   0%|          | 0/40 [00:00<?, ?it/s]"
      ]
     },
     "metadata": {},
     "output_type": "display_data"
    },
    {
     "data": {
      "application/vnd.jupyter.widget-view+json": {
       "model_id": "6d4893aca6884029b544662c8fc7d503",
       "version_major": 2,
       "version_minor": 0
      },
      "text/plain": [
       "8/100(v):   0%|          | 0/4 [00:00<?, ?it/s]"
      ]
     },
     "metadata": {},
     "output_type": "display_data"
    },
    {
     "data": {
      "application/vnd.jupyter.widget-view+json": {
       "model_id": "32f11a45466c49e08e651657cab47045",
       "version_major": 2,
       "version_minor": 0
      },
      "text/plain": [
       "9/100(t):   0%|          | 0/40 [00:00<?, ?it/s]"
      ]
     },
     "metadata": {},
     "output_type": "display_data"
    },
    {
     "data": {
      "application/vnd.jupyter.widget-view+json": {
       "model_id": "5202def92f1d4b9e9730e84b5644666b",
       "version_major": 2,
       "version_minor": 0
      },
      "text/plain": [
       "9/100(v):   0%|          | 0/4 [00:00<?, ?it/s]"
      ]
     },
     "metadata": {},
     "output_type": "display_data"
    },
    {
     "data": {
      "application/vnd.jupyter.widget-view+json": {
       "model_id": "d8b6ea60257042a3b5c00b177054092f",
       "version_major": 2,
       "version_minor": 0
      },
      "text/plain": [
       "10/100(t):   0%|          | 0/40 [00:00<?, ?it/s]"
      ]
     },
     "metadata": {},
     "output_type": "display_data"
    },
    {
     "data": {
      "application/vnd.jupyter.widget-view+json": {
       "model_id": "28684fae3b1c40e2b30f43252a42f826",
       "version_major": 2,
       "version_minor": 0
      },
      "text/plain": [
       "10/100(v):   0%|          | 0/4 [00:00<?, ?it/s]"
      ]
     },
     "metadata": {},
     "output_type": "display_data"
    },
    {
     "data": {
      "application/vnd.jupyter.widget-view+json": {
       "model_id": "6c30ef636c714c429dccbe36703b7bbe",
       "version_major": 2,
       "version_minor": 0
      },
      "text/plain": [
       "11/100(t):   0%|          | 0/40 [00:00<?, ?it/s]"
      ]
     },
     "metadata": {},
     "output_type": "display_data"
    },
    {
     "data": {
      "application/vnd.jupyter.widget-view+json": {
       "model_id": "5b3c5d1a3f7d43df89356d44ede8fc8f",
       "version_major": 2,
       "version_minor": 0
      },
      "text/plain": [
       "11/100(v):   0%|          | 0/4 [00:00<?, ?it/s]"
      ]
     },
     "metadata": {},
     "output_type": "display_data"
    },
    {
     "data": {
      "application/vnd.jupyter.widget-view+json": {
       "model_id": "474d2b7177004ff08257b63b070a188c",
       "version_major": 2,
       "version_minor": 0
      },
      "text/plain": [
       "12/100(t):   0%|          | 0/40 [00:00<?, ?it/s]"
      ]
     },
     "metadata": {},
     "output_type": "display_data"
    },
    {
     "data": {
      "application/vnd.jupyter.widget-view+json": {
       "model_id": "b93a2f461a09445289783cf9d78dec25",
       "version_major": 2,
       "version_minor": 0
      },
      "text/plain": [
       "12/100(v):   0%|          | 0/4 [00:00<?, ?it/s]"
      ]
     },
     "metadata": {},
     "output_type": "display_data"
    },
    {
     "data": {
      "application/vnd.jupyter.widget-view+json": {
       "model_id": "575fe67d634d44af836899b1b76660bd",
       "version_major": 2,
       "version_minor": 0
      },
      "text/plain": [
       "13/100(t):   0%|          | 0/40 [00:00<?, ?it/s]"
      ]
     },
     "metadata": {},
     "output_type": "display_data"
    },
    {
     "data": {
      "application/vnd.jupyter.widget-view+json": {
       "model_id": "ae2f159115c9449bbbe48442206b6e36",
       "version_major": 2,
       "version_minor": 0
      },
      "text/plain": [
       "13/100(v):   0%|          | 0/4 [00:00<?, ?it/s]"
      ]
     },
     "metadata": {},
     "output_type": "display_data"
    },
    {
     "data": {
      "application/vnd.jupyter.widget-view+json": {
       "model_id": "1f4e3fd04cf547ecb76886f846857615",
       "version_major": 2,
       "version_minor": 0
      },
      "text/plain": [
       "14/100(t):   0%|          | 0/40 [00:00<?, ?it/s]"
      ]
     },
     "metadata": {},
     "output_type": "display_data"
    },
    {
     "data": {
      "application/vnd.jupyter.widget-view+json": {
       "model_id": "64dadf263b114336a6a91cbcc064c19d",
       "version_major": 2,
       "version_minor": 0
      },
      "text/plain": [
       "14/100(v):   0%|          | 0/4 [00:00<?, ?it/s]"
      ]
     },
     "metadata": {},
     "output_type": "display_data"
    },
    {
     "data": {
      "application/vnd.jupyter.widget-view+json": {
       "model_id": "3745d584003f4b3bacd7602718ec4554",
       "version_major": 2,
       "version_minor": 0
      },
      "text/plain": [
       "15/100(t):   0%|          | 0/40 [00:00<?, ?it/s]"
      ]
     },
     "metadata": {},
     "output_type": "display_data"
    },
    {
     "data": {
      "application/vnd.jupyter.widget-view+json": {
       "model_id": "f0c45f8bb4a34e46a578d12e529f199e",
       "version_major": 2,
       "version_minor": 0
      },
      "text/plain": [
       "15/100(v):   0%|          | 0/4 [00:00<?, ?it/s]"
      ]
     },
     "metadata": {},
     "output_type": "display_data"
    },
    {
     "data": {
      "application/vnd.jupyter.widget-view+json": {
       "model_id": "7c62d917e87d4f308f9a966ccea568cb",
       "version_major": 2,
       "version_minor": 0
      },
      "text/plain": [
       "16/100(t):   0%|          | 0/40 [00:00<?, ?it/s]"
      ]
     },
     "metadata": {},
     "output_type": "display_data"
    },
    {
     "data": {
      "application/vnd.jupyter.widget-view+json": {
       "model_id": "0e22d01a8d994384b87a75612f1e4969",
       "version_major": 2,
       "version_minor": 0
      },
      "text/plain": [
       "16/100(v):   0%|          | 0/4 [00:00<?, ?it/s]"
      ]
     },
     "metadata": {},
     "output_type": "display_data"
    },
    {
     "data": {
      "application/vnd.jupyter.widget-view+json": {
       "model_id": "9e2e00b74c744907bb248ac63e773cdc",
       "version_major": 2,
       "version_minor": 0
      },
      "text/plain": [
       "17/100(t):   0%|          | 0/40 [00:00<?, ?it/s]"
      ]
     },
     "metadata": {},
     "output_type": "display_data"
    },
    {
     "data": {
      "application/vnd.jupyter.widget-view+json": {
       "model_id": "efa7efe0f0bd475ebcf9127f714fbdaa",
       "version_major": 2,
       "version_minor": 0
      },
      "text/plain": [
       "17/100(v):   0%|          | 0/4 [00:00<?, ?it/s]"
      ]
     },
     "metadata": {},
     "output_type": "display_data"
    },
    {
     "data": {
      "application/vnd.jupyter.widget-view+json": {
       "model_id": "4f4eaab1810d4129a7f671edeb83b05c",
       "version_major": 2,
       "version_minor": 0
      },
      "text/plain": [
       "18/100(t):   0%|          | 0/40 [00:00<?, ?it/s]"
      ]
     },
     "metadata": {},
     "output_type": "display_data"
    },
    {
     "data": {
      "application/vnd.jupyter.widget-view+json": {
       "model_id": "2c15fa1449ce4d2cbd7f4986c1d8c8a1",
       "version_major": 2,
       "version_minor": 0
      },
      "text/plain": [
       "18/100(v):   0%|          | 0/4 [00:00<?, ?it/s]"
      ]
     },
     "metadata": {},
     "output_type": "display_data"
    },
    {
     "data": {
      "application/vnd.jupyter.widget-view+json": {
       "model_id": "5196af958455480383cd6a0b5d61a5a0",
       "version_major": 2,
       "version_minor": 0
      },
      "text/plain": [
       "19/100(t):   0%|          | 0/40 [00:00<?, ?it/s]"
      ]
     },
     "metadata": {},
     "output_type": "display_data"
    },
    {
     "data": {
      "application/vnd.jupyter.widget-view+json": {
       "model_id": "d86a2a8749644775b7b85eb3fca3d38b",
       "version_major": 2,
       "version_minor": 0
      },
      "text/plain": [
       "19/100(v):   0%|          | 0/4 [00:00<?, ?it/s]"
      ]
     },
     "metadata": {},
     "output_type": "display_data"
    },
    {
     "data": {
      "application/vnd.jupyter.widget-view+json": {
       "model_id": "1221eecd818543219c0e5d3ce0739d16",
       "version_major": 2,
       "version_minor": 0
      },
      "text/plain": [
       "20/100(t):   0%|          | 0/40 [00:00<?, ?it/s]"
      ]
     },
     "metadata": {},
     "output_type": "display_data"
    },
    {
     "data": {
      "application/vnd.jupyter.widget-view+json": {
       "model_id": "85c8501d5c6d4fc69b0a7153a20bdd17",
       "version_major": 2,
       "version_minor": 0
      },
      "text/plain": [
       "20/100(v):   0%|          | 0/4 [00:00<?, ?it/s]"
      ]
     },
     "metadata": {},
     "output_type": "display_data"
    },
    {
     "data": {
      "application/vnd.jupyter.widget-view+json": {
       "model_id": "e2af582e8aad42c7a187c00ccf42977c",
       "version_major": 2,
       "version_minor": 0
      },
      "text/plain": [
       "21/100(t):   0%|          | 0/40 [00:00<?, ?it/s]"
      ]
     },
     "metadata": {},
     "output_type": "display_data"
    },
    {
     "data": {
      "application/vnd.jupyter.widget-view+json": {
       "model_id": "b3a5d81848154978805f9a596708217e",
       "version_major": 2,
       "version_minor": 0
      },
      "text/plain": [
       "21/100(v):   0%|          | 0/4 [00:00<?, ?it/s]"
      ]
     },
     "metadata": {},
     "output_type": "display_data"
    },
    {
     "data": {
      "application/vnd.jupyter.widget-view+json": {
       "model_id": "fe0c449d188e4f4281f4d849b40c5b61",
       "version_major": 2,
       "version_minor": 0
      },
      "text/plain": [
       "22/100(t):   0%|          | 0/40 [00:00<?, ?it/s]"
      ]
     },
     "metadata": {},
     "output_type": "display_data"
    },
    {
     "data": {
      "application/vnd.jupyter.widget-view+json": {
       "model_id": "e84c60ad2a8146bbbd6a1e164ee64032",
       "version_major": 2,
       "version_minor": 0
      },
      "text/plain": [
       "22/100(v):   0%|          | 0/4 [00:00<?, ?it/s]"
      ]
     },
     "metadata": {},
     "output_type": "display_data"
    },
    {
     "data": {
      "application/vnd.jupyter.widget-view+json": {
       "model_id": "9af17aceef0b446597f15ac14ae8c0d8",
       "version_major": 2,
       "version_minor": 0
      },
      "text/plain": [
       "23/100(t):   0%|          | 0/40 [00:00<?, ?it/s]"
      ]
     },
     "metadata": {},
     "output_type": "display_data"
    },
    {
     "data": {
      "application/vnd.jupyter.widget-view+json": {
       "model_id": "fa1cd2deeb7942f7b9e7a62a30889f04",
       "version_major": 2,
       "version_minor": 0
      },
      "text/plain": [
       "23/100(v):   0%|          | 0/4 [00:00<?, ?it/s]"
      ]
     },
     "metadata": {},
     "output_type": "display_data"
    },
    {
     "data": {
      "application/vnd.jupyter.widget-view+json": {
       "model_id": "82fc849750b84783ab717e10756dcf4e",
       "version_major": 2,
       "version_minor": 0
      },
      "text/plain": [
       "24/100(t):   0%|          | 0/40 [00:00<?, ?it/s]"
      ]
     },
     "metadata": {},
     "output_type": "display_data"
    },
    {
     "data": {
      "application/vnd.jupyter.widget-view+json": {
       "model_id": "d2206366671b40948c9ea4e009c28bb2",
       "version_major": 2,
       "version_minor": 0
      },
      "text/plain": [
       "24/100(v):   0%|          | 0/4 [00:00<?, ?it/s]"
      ]
     },
     "metadata": {},
     "output_type": "display_data"
    },
    {
     "data": {
      "application/vnd.jupyter.widget-view+json": {
       "model_id": "2ffb96fba1ec414684073ac7077c5f3d",
       "version_major": 2,
       "version_minor": 0
      },
      "text/plain": [
       "25/100(t):   0%|          | 0/40 [00:00<?, ?it/s]"
      ]
     },
     "metadata": {},
     "output_type": "display_data"
    },
    {
     "data": {
      "application/vnd.jupyter.widget-view+json": {
       "model_id": "9c9e2b5325d54395bdee2823b94da3e3",
       "version_major": 2,
       "version_minor": 0
      },
      "text/plain": [
       "25/100(v):   0%|          | 0/4 [00:00<?, ?it/s]"
      ]
     },
     "metadata": {},
     "output_type": "display_data"
    },
    {
     "data": {
      "application/vnd.jupyter.widget-view+json": {
       "model_id": "490acf48539748e3a1eb4308fd1f9f30",
       "version_major": 2,
       "version_minor": 0
      },
      "text/plain": [
       "26/100(t):   0%|          | 0/40 [00:00<?, ?it/s]"
      ]
     },
     "metadata": {},
     "output_type": "display_data"
    },
    {
     "data": {
      "application/vnd.jupyter.widget-view+json": {
       "model_id": "3c81d519654b4ac98c7a88b418c3d6f4",
       "version_major": 2,
       "version_minor": 0
      },
      "text/plain": [
       "26/100(v):   0%|          | 0/4 [00:00<?, ?it/s]"
      ]
     },
     "metadata": {},
     "output_type": "display_data"
    },
    {
     "data": {
      "application/vnd.jupyter.widget-view+json": {
       "model_id": "b3d651885dfa4b42a813e3d839e6c2a3",
       "version_major": 2,
       "version_minor": 0
      },
      "text/plain": [
       "27/100(t):   0%|          | 0/40 [00:00<?, ?it/s]"
      ]
     },
     "metadata": {},
     "output_type": "display_data"
    },
    {
     "data": {
      "application/vnd.jupyter.widget-view+json": {
       "model_id": "2425114f4df9461db14fa7264b0a02d8",
       "version_major": 2,
       "version_minor": 0
      },
      "text/plain": [
       "27/100(v):   0%|          | 0/4 [00:00<?, ?it/s]"
      ]
     },
     "metadata": {},
     "output_type": "display_data"
    },
    {
     "data": {
      "application/vnd.jupyter.widget-view+json": {
       "model_id": "0c67e027e7d94cf884bb049bf22baa2f",
       "version_major": 2,
       "version_minor": 0
      },
      "text/plain": [
       "28/100(t):   0%|          | 0/40 [00:00<?, ?it/s]"
      ]
     },
     "metadata": {},
     "output_type": "display_data"
    },
    {
     "data": {
      "application/vnd.jupyter.widget-view+json": {
       "model_id": "9e8c1ee8200548b4a334a496f9c341b1",
       "version_major": 2,
       "version_minor": 0
      },
      "text/plain": [
       "28/100(v):   0%|          | 0/4 [00:00<?, ?it/s]"
      ]
     },
     "metadata": {},
     "output_type": "display_data"
    },
    {
     "data": {
      "application/vnd.jupyter.widget-view+json": {
       "model_id": "567146afe3d04b9a88c84cc994574871",
       "version_major": 2,
       "version_minor": 0
      },
      "text/plain": [
       "29/100(t):   0%|          | 0/40 [00:00<?, ?it/s]"
      ]
     },
     "metadata": {},
     "output_type": "display_data"
    },
    {
     "data": {
      "application/vnd.jupyter.widget-view+json": {
       "model_id": "940ed9da1211482091b15748017aff56",
       "version_major": 2,
       "version_minor": 0
      },
      "text/plain": [
       "29/100(v):   0%|          | 0/4 [00:00<?, ?it/s]"
      ]
     },
     "metadata": {},
     "output_type": "display_data"
    },
    {
     "data": {
      "application/vnd.jupyter.widget-view+json": {
       "model_id": "547494d15bd540e5bf8661717b336ef8",
       "version_major": 2,
       "version_minor": 0
      },
      "text/plain": [
       "30/100(t):   0%|          | 0/40 [00:00<?, ?it/s]"
      ]
     },
     "metadata": {},
     "output_type": "display_data"
    },
    {
     "data": {
      "application/vnd.jupyter.widget-view+json": {
       "model_id": "f5c25090c59a40b287ea2f26f58345c7",
       "version_major": 2,
       "version_minor": 0
      },
      "text/plain": [
       "30/100(v):   0%|          | 0/4 [00:00<?, ?it/s]"
      ]
     },
     "metadata": {},
     "output_type": "display_data"
    },
    {
     "data": {
      "application/vnd.jupyter.widget-view+json": {
       "model_id": "9e3a3831cf2d4298912326b84a4997c3",
       "version_major": 2,
       "version_minor": 0
      },
      "text/plain": [
       "31/100(t):   0%|          | 0/40 [00:00<?, ?it/s]"
      ]
     },
     "metadata": {},
     "output_type": "display_data"
    },
    {
     "data": {
      "application/vnd.jupyter.widget-view+json": {
       "model_id": "013d3868c2074a7fb9675da95186967b",
       "version_major": 2,
       "version_minor": 0
      },
      "text/plain": [
       "31/100(v):   0%|          | 0/4 [00:00<?, ?it/s]"
      ]
     },
     "metadata": {},
     "output_type": "display_data"
    },
    {
     "data": {
      "application/vnd.jupyter.widget-view+json": {
       "model_id": "159519a2babd4c1a8f67bc6032480996",
       "version_major": 2,
       "version_minor": 0
      },
      "text/plain": [
       "32/100(t):   0%|          | 0/40 [00:00<?, ?it/s]"
      ]
     },
     "metadata": {},
     "output_type": "display_data"
    },
    {
     "data": {
      "application/vnd.jupyter.widget-view+json": {
       "model_id": "b66bbfa5fe19469d964bff31a0822fb8",
       "version_major": 2,
       "version_minor": 0
      },
      "text/plain": [
       "32/100(v):   0%|          | 0/4 [00:00<?, ?it/s]"
      ]
     },
     "metadata": {},
     "output_type": "display_data"
    },
    {
     "data": {
      "application/vnd.jupyter.widget-view+json": {
       "model_id": "dde6d186ac3346e1a8984426ade7c661",
       "version_major": 2,
       "version_minor": 0
      },
      "text/plain": [
       "33/100(t):   0%|          | 0/40 [00:00<?, ?it/s]"
      ]
     },
     "metadata": {},
     "output_type": "display_data"
    },
    {
     "data": {
      "application/vnd.jupyter.widget-view+json": {
       "model_id": "8b3a59f8706c4df7bbaf776817c7229c",
       "version_major": 2,
       "version_minor": 0
      },
      "text/plain": [
       "33/100(v):   0%|          | 0/4 [00:00<?, ?it/s]"
      ]
     },
     "metadata": {},
     "output_type": "display_data"
    },
    {
     "data": {
      "application/vnd.jupyter.widget-view+json": {
       "model_id": "ad59c472aca14a61963d5c00ee46526a",
       "version_major": 2,
       "version_minor": 0
      },
      "text/plain": [
       "34/100(t):   0%|          | 0/40 [00:00<?, ?it/s]"
      ]
     },
     "metadata": {},
     "output_type": "display_data"
    },
    {
     "data": {
      "application/vnd.jupyter.widget-view+json": {
       "model_id": "273d6da4917a49c3baea54e1a241892c",
       "version_major": 2,
       "version_minor": 0
      },
      "text/plain": [
       "34/100(v):   0%|          | 0/4 [00:00<?, ?it/s]"
      ]
     },
     "metadata": {},
     "output_type": "display_data"
    },
    {
     "data": {
      "application/vnd.jupyter.widget-view+json": {
       "model_id": "90fddb6db28c4384922e2bf5df9b8905",
       "version_major": 2,
       "version_minor": 0
      },
      "text/plain": [
       "35/100(t):   0%|          | 0/40 [00:00<?, ?it/s]"
      ]
     },
     "metadata": {},
     "output_type": "display_data"
    },
    {
     "data": {
      "application/vnd.jupyter.widget-view+json": {
       "model_id": "8837114e48f34805b393ff7487912858",
       "version_major": 2,
       "version_minor": 0
      },
      "text/plain": [
       "35/100(v):   0%|          | 0/4 [00:00<?, ?it/s]"
      ]
     },
     "metadata": {},
     "output_type": "display_data"
    },
    {
     "data": {
      "application/vnd.jupyter.widget-view+json": {
       "model_id": "5cc27a2acf804b3c8012206773075608",
       "version_major": 2,
       "version_minor": 0
      },
      "text/plain": [
       "36/100(t):   0%|          | 0/40 [00:00<?, ?it/s]"
      ]
     },
     "metadata": {},
     "output_type": "display_data"
    },
    {
     "data": {
      "application/vnd.jupyter.widget-view+json": {
       "model_id": "6c14e8468f9f416dba98d8eabf76db48",
       "version_major": 2,
       "version_minor": 0
      },
      "text/plain": [
       "36/100(v):   0%|          | 0/4 [00:00<?, ?it/s]"
      ]
     },
     "metadata": {},
     "output_type": "display_data"
    },
    {
     "data": {
      "application/vnd.jupyter.widget-view+json": {
       "model_id": "0687e5f8e58e4690890f4eabdc60c680",
       "version_major": 2,
       "version_minor": 0
      },
      "text/plain": [
       "37/100(t):   0%|          | 0/40 [00:00<?, ?it/s]"
      ]
     },
     "metadata": {},
     "output_type": "display_data"
    },
    {
     "data": {
      "application/vnd.jupyter.widget-view+json": {
       "model_id": "ae02e7f826ac46b8aee60e2d2cda25fa",
       "version_major": 2,
       "version_minor": 0
      },
      "text/plain": [
       "37/100(v):   0%|          | 0/4 [00:00<?, ?it/s]"
      ]
     },
     "metadata": {},
     "output_type": "display_data"
    },
    {
     "data": {
      "application/vnd.jupyter.widget-view+json": {
       "model_id": "6a61a28807234bb397f2286e0b6831a0",
       "version_major": 2,
       "version_minor": 0
      },
      "text/plain": [
       "38/100(t):   0%|          | 0/40 [00:00<?, ?it/s]"
      ]
     },
     "metadata": {},
     "output_type": "display_data"
    },
    {
     "data": {
      "application/vnd.jupyter.widget-view+json": {
       "model_id": "04436e878236465c87f80bf5ba7c05bd",
       "version_major": 2,
       "version_minor": 0
      },
      "text/plain": [
       "38/100(v):   0%|          | 0/4 [00:00<?, ?it/s]"
      ]
     },
     "metadata": {},
     "output_type": "display_data"
    },
    {
     "data": {
      "application/vnd.jupyter.widget-view+json": {
       "model_id": "2a8292ff20984c01af7ef230c8596a93",
       "version_major": 2,
       "version_minor": 0
      },
      "text/plain": [
       "39/100(t):   0%|          | 0/40 [00:00<?, ?it/s]"
      ]
     },
     "metadata": {},
     "output_type": "display_data"
    },
    {
     "data": {
      "application/vnd.jupyter.widget-view+json": {
       "model_id": "60e072199d114651a527570ca7437f28",
       "version_major": 2,
       "version_minor": 0
      },
      "text/plain": [
       "39/100(v):   0%|          | 0/4 [00:00<?, ?it/s]"
      ]
     },
     "metadata": {},
     "output_type": "display_data"
    },
    {
     "data": {
      "application/vnd.jupyter.widget-view+json": {
       "model_id": "5ad7df3940af42fb8e7649b539b56522",
       "version_major": 2,
       "version_minor": 0
      },
      "text/plain": [
       "40/100(t):   0%|          | 0/40 [00:00<?, ?it/s]"
      ]
     },
     "metadata": {},
     "output_type": "display_data"
    },
    {
     "data": {
      "application/vnd.jupyter.widget-view+json": {
       "model_id": "edcab60cb5a840c98dce70e2f7463116",
       "version_major": 2,
       "version_minor": 0
      },
      "text/plain": [
       "40/100(v):   0%|          | 0/4 [00:00<?, ?it/s]"
      ]
     },
     "metadata": {},
     "output_type": "display_data"
    },
    {
     "data": {
      "application/vnd.jupyter.widget-view+json": {
       "model_id": "0e2dca65a37d4f3897b7e6897554f118",
       "version_major": 2,
       "version_minor": 0
      },
      "text/plain": [
       "41/100(t):   0%|          | 0/40 [00:00<?, ?it/s]"
      ]
     },
     "metadata": {},
     "output_type": "display_data"
    },
    {
     "data": {
      "application/vnd.jupyter.widget-view+json": {
       "model_id": "38fa3effc4e9434095eedaf1905d7ea0",
       "version_major": 2,
       "version_minor": 0
      },
      "text/plain": [
       "41/100(v):   0%|          | 0/4 [00:00<?, ?it/s]"
      ]
     },
     "metadata": {},
     "output_type": "display_data"
    },
    {
     "data": {
      "application/vnd.jupyter.widget-view+json": {
       "model_id": "b072d31d51684b12847e715905299b8e",
       "version_major": 2,
       "version_minor": 0
      },
      "text/plain": [
       "42/100(t):   0%|          | 0/40 [00:00<?, ?it/s]"
      ]
     },
     "metadata": {},
     "output_type": "display_data"
    },
    {
     "data": {
      "application/vnd.jupyter.widget-view+json": {
       "model_id": "a74cfbc754554a208f6e3c487d060fb4",
       "version_major": 2,
       "version_minor": 0
      },
      "text/plain": [
       "42/100(v):   0%|          | 0/4 [00:00<?, ?it/s]"
      ]
     },
     "metadata": {},
     "output_type": "display_data"
    },
    {
     "data": {
      "application/vnd.jupyter.widget-view+json": {
       "model_id": "4554584059a140e6b724d1158e1ef87c",
       "version_major": 2,
       "version_minor": 0
      },
      "text/plain": [
       "43/100(t):   0%|          | 0/40 [00:00<?, ?it/s]"
      ]
     },
     "metadata": {},
     "output_type": "display_data"
    },
    {
     "data": {
      "application/vnd.jupyter.widget-view+json": {
       "model_id": "2b2cc0687df34ac8aebf69bb2c834839",
       "version_major": 2,
       "version_minor": 0
      },
      "text/plain": [
       "43/100(v):   0%|          | 0/4 [00:00<?, ?it/s]"
      ]
     },
     "metadata": {},
     "output_type": "display_data"
    },
    {
     "data": {
      "application/vnd.jupyter.widget-view+json": {
       "model_id": "0512d86631d04eab841eb1279be98d45",
       "version_major": 2,
       "version_minor": 0
      },
      "text/plain": [
       "44/100(t):   0%|          | 0/40 [00:00<?, ?it/s]"
      ]
     },
     "metadata": {},
     "output_type": "display_data"
    },
    {
     "data": {
      "application/vnd.jupyter.widget-view+json": {
       "model_id": "9026e7c92c0746e0b2051cb5d6e862ab",
       "version_major": 2,
       "version_minor": 0
      },
      "text/plain": [
       "44/100(v):   0%|          | 0/4 [00:00<?, ?it/s]"
      ]
     },
     "metadata": {},
     "output_type": "display_data"
    },
    {
     "data": {
      "application/vnd.jupyter.widget-view+json": {
       "model_id": "95bc81841a6e43d6ba969ddd683378a2",
       "version_major": 2,
       "version_minor": 0
      },
      "text/plain": [
       "45/100(t):   0%|          | 0/40 [00:00<?, ?it/s]"
      ]
     },
     "metadata": {},
     "output_type": "display_data"
    },
    {
     "data": {
      "application/vnd.jupyter.widget-view+json": {
       "model_id": "b3ce88f2a8d545d196b75555661936d8",
       "version_major": 2,
       "version_minor": 0
      },
      "text/plain": [
       "45/100(v):   0%|          | 0/4 [00:00<?, ?it/s]"
      ]
     },
     "metadata": {},
     "output_type": "display_data"
    },
    {
     "data": {
      "application/vnd.jupyter.widget-view+json": {
       "model_id": "d958b44e584a496594371253a25d9557",
       "version_major": 2,
       "version_minor": 0
      },
      "text/plain": [
       "46/100(t):   0%|          | 0/40 [00:00<?, ?it/s]"
      ]
     },
     "metadata": {},
     "output_type": "display_data"
    },
    {
     "data": {
      "application/vnd.jupyter.widget-view+json": {
       "model_id": "ad988b49a1364aee9a6c9640823808de",
       "version_major": 2,
       "version_minor": 0
      },
      "text/plain": [
       "46/100(v):   0%|          | 0/4 [00:00<?, ?it/s]"
      ]
     },
     "metadata": {},
     "output_type": "display_data"
    },
    {
     "data": {
      "application/vnd.jupyter.widget-view+json": {
       "model_id": "917c284fba4e4ea795fbbf3d13df09ee",
       "version_major": 2,
       "version_minor": 0
      },
      "text/plain": [
       "47/100(t):   0%|          | 0/40 [00:00<?, ?it/s]"
      ]
     },
     "metadata": {},
     "output_type": "display_data"
    },
    {
     "data": {
      "application/vnd.jupyter.widget-view+json": {
       "model_id": "3e7d0b26ed4042c2a60d0728d08fba63",
       "version_major": 2,
       "version_minor": 0
      },
      "text/plain": [
       "47/100(v):   0%|          | 0/4 [00:00<?, ?it/s]"
      ]
     },
     "metadata": {},
     "output_type": "display_data"
    },
    {
     "data": {
      "application/vnd.jupyter.widget-view+json": {
       "model_id": "362600936c6644e0acef87680fdd2691",
       "version_major": 2,
       "version_minor": 0
      },
      "text/plain": [
       "48/100(t):   0%|          | 0/40 [00:00<?, ?it/s]"
      ]
     },
     "metadata": {},
     "output_type": "display_data"
    },
    {
     "data": {
      "application/vnd.jupyter.widget-view+json": {
       "model_id": "5b0a9d85d2d24a9d8cd16a3aec178f01",
       "version_major": 2,
       "version_minor": 0
      },
      "text/plain": [
       "48/100(v):   0%|          | 0/4 [00:00<?, ?it/s]"
      ]
     },
     "metadata": {},
     "output_type": "display_data"
    },
    {
     "data": {
      "application/vnd.jupyter.widget-view+json": {
       "model_id": "41a8ad5d2d4a4ac4844e9603d29fd886",
       "version_major": 2,
       "version_minor": 0
      },
      "text/plain": [
       "49/100(t):   0%|          | 0/40 [00:00<?, ?it/s]"
      ]
     },
     "metadata": {},
     "output_type": "display_data"
    },
    {
     "data": {
      "application/vnd.jupyter.widget-view+json": {
       "model_id": "f2a879d6ec4a4ec9a8253b07d0eb3e65",
       "version_major": 2,
       "version_minor": 0
      },
      "text/plain": [
       "49/100(v):   0%|          | 0/4 [00:00<?, ?it/s]"
      ]
     },
     "metadata": {},
     "output_type": "display_data"
    },
    {
     "data": {
      "application/vnd.jupyter.widget-view+json": {
       "model_id": "01096e2031874788b0a11dc2aa6d8af2",
       "version_major": 2,
       "version_minor": 0
      },
      "text/plain": [
       "50/100(t):   0%|          | 0/40 [00:00<?, ?it/s]"
      ]
     },
     "metadata": {},
     "output_type": "display_data"
    },
    {
     "data": {
      "application/vnd.jupyter.widget-view+json": {
       "model_id": "0bf3a54e3be74d168ff75617c7367f1d",
       "version_major": 2,
       "version_minor": 0
      },
      "text/plain": [
       "50/100(v):   0%|          | 0/4 [00:00<?, ?it/s]"
      ]
     },
     "metadata": {},
     "output_type": "display_data"
    },
    {
     "data": {
      "application/vnd.jupyter.widget-view+json": {
       "model_id": "2a7eaabca1f949168c05a5d1f6f217b4",
       "version_major": 2,
       "version_minor": 0
      },
      "text/plain": [
       "51/100(t):   0%|          | 0/40 [00:00<?, ?it/s]"
      ]
     },
     "metadata": {},
     "output_type": "display_data"
    },
    {
     "data": {
      "application/vnd.jupyter.widget-view+json": {
       "model_id": "979805c3a570452e8d4f52de4056d718",
       "version_major": 2,
       "version_minor": 0
      },
      "text/plain": [
       "51/100(v):   0%|          | 0/4 [00:00<?, ?it/s]"
      ]
     },
     "metadata": {},
     "output_type": "display_data"
    },
    {
     "data": {
      "application/vnd.jupyter.widget-view+json": {
       "model_id": "601eccc63cbe4c79b7dfec2d09b04886",
       "version_major": 2,
       "version_minor": 0
      },
      "text/plain": [
       "52/100(t):   0%|          | 0/40 [00:00<?, ?it/s]"
      ]
     },
     "metadata": {},
     "output_type": "display_data"
    },
    {
     "data": {
      "application/vnd.jupyter.widget-view+json": {
       "model_id": "a35473d1aff944cf91ef1d1c2081250e",
       "version_major": 2,
       "version_minor": 0
      },
      "text/plain": [
       "52/100(v):   0%|          | 0/4 [00:00<?, ?it/s]"
      ]
     },
     "metadata": {},
     "output_type": "display_data"
    },
    {
     "data": {
      "application/vnd.jupyter.widget-view+json": {
       "model_id": "e71c05f363bc4e0ea07180461295a2b2",
       "version_major": 2,
       "version_minor": 0
      },
      "text/plain": [
       "53/100(t):   0%|          | 0/40 [00:00<?, ?it/s]"
      ]
     },
     "metadata": {},
     "output_type": "display_data"
    },
    {
     "data": {
      "application/vnd.jupyter.widget-view+json": {
       "model_id": "34f1ba761c9b4fb1b5e99f34505b4772",
       "version_major": 2,
       "version_minor": 0
      },
      "text/plain": [
       "53/100(v):   0%|          | 0/4 [00:00<?, ?it/s]"
      ]
     },
     "metadata": {},
     "output_type": "display_data"
    },
    {
     "data": {
      "application/vnd.jupyter.widget-view+json": {
       "model_id": "dc468b9415bb46988380e8ace828a61f",
       "version_major": 2,
       "version_minor": 0
      },
      "text/plain": [
       "54/100(t):   0%|          | 0/40 [00:00<?, ?it/s]"
      ]
     },
     "metadata": {},
     "output_type": "display_data"
    },
    {
     "data": {
      "application/vnd.jupyter.widget-view+json": {
       "model_id": "69e6cdd85b0b48ffbade5e7a05044682",
       "version_major": 2,
       "version_minor": 0
      },
      "text/plain": [
       "54/100(v):   0%|          | 0/4 [00:00<?, ?it/s]"
      ]
     },
     "metadata": {},
     "output_type": "display_data"
    },
    {
     "data": {
      "application/vnd.jupyter.widget-view+json": {
       "model_id": "a1d18f36e3c641f08f1b92d5b4a7e925",
       "version_major": 2,
       "version_minor": 0
      },
      "text/plain": [
       "55/100(t):   0%|          | 0/40 [00:00<?, ?it/s]"
      ]
     },
     "metadata": {},
     "output_type": "display_data"
    },
    {
     "data": {
      "application/vnd.jupyter.widget-view+json": {
       "model_id": "f69505fc32874a9197098e64127e6379",
       "version_major": 2,
       "version_minor": 0
      },
      "text/plain": [
       "55/100(v):   0%|          | 0/4 [00:00<?, ?it/s]"
      ]
     },
     "metadata": {},
     "output_type": "display_data"
    },
    {
     "data": {
      "application/vnd.jupyter.widget-view+json": {
       "model_id": "f5e50ea329b14258bcecfd84ba530f48",
       "version_major": 2,
       "version_minor": 0
      },
      "text/plain": [
       "56/100(t):   0%|          | 0/40 [00:00<?, ?it/s]"
      ]
     },
     "metadata": {},
     "output_type": "display_data"
    },
    {
     "data": {
      "application/vnd.jupyter.widget-view+json": {
       "model_id": "397b34ca63d24ff1b04646d01242aa25",
       "version_major": 2,
       "version_minor": 0
      },
      "text/plain": [
       "56/100(v):   0%|          | 0/4 [00:00<?, ?it/s]"
      ]
     },
     "metadata": {},
     "output_type": "display_data"
    },
    {
     "data": {
      "application/vnd.jupyter.widget-view+json": {
       "model_id": "4fae5f55174c4dc78fb8f510eb8edb4c",
       "version_major": 2,
       "version_minor": 0
      },
      "text/plain": [
       "57/100(t):   0%|          | 0/40 [00:00<?, ?it/s]"
      ]
     },
     "metadata": {},
     "output_type": "display_data"
    },
    {
     "data": {
      "application/vnd.jupyter.widget-view+json": {
       "model_id": "a29a45f4b0c1496bb4eb8bf351fe4b43",
       "version_major": 2,
       "version_minor": 0
      },
      "text/plain": [
       "57/100(v):   0%|          | 0/4 [00:00<?, ?it/s]"
      ]
     },
     "metadata": {},
     "output_type": "display_data"
    },
    {
     "data": {
      "application/vnd.jupyter.widget-view+json": {
       "model_id": "f16da6c7f8134842955533068a460dae",
       "version_major": 2,
       "version_minor": 0
      },
      "text/plain": [
       "58/100(t):   0%|          | 0/40 [00:00<?, ?it/s]"
      ]
     },
     "metadata": {},
     "output_type": "display_data"
    },
    {
     "data": {
      "application/vnd.jupyter.widget-view+json": {
       "model_id": "d082ea0ba2e04a8f92b5a69bbac5bf41",
       "version_major": 2,
       "version_minor": 0
      },
      "text/plain": [
       "58/100(v):   0%|          | 0/4 [00:00<?, ?it/s]"
      ]
     },
     "metadata": {},
     "output_type": "display_data"
    },
    {
     "data": {
      "application/vnd.jupyter.widget-view+json": {
       "model_id": "c65e3483bc7a40b6a8fe8b6e15fdc835",
       "version_major": 2,
       "version_minor": 0
      },
      "text/plain": [
       "59/100(t):   0%|          | 0/40 [00:00<?, ?it/s]"
      ]
     },
     "metadata": {},
     "output_type": "display_data"
    },
    {
     "data": {
      "application/vnd.jupyter.widget-view+json": {
       "model_id": "f08fbc6dad37445aabf937a43ff2f451",
       "version_major": 2,
       "version_minor": 0
      },
      "text/plain": [
       "59/100(v):   0%|          | 0/4 [00:00<?, ?it/s]"
      ]
     },
     "metadata": {},
     "output_type": "display_data"
    },
    {
     "data": {
      "application/vnd.jupyter.widget-view+json": {
       "model_id": "857cd45d049342e493bb6ddb7fe05575",
       "version_major": 2,
       "version_minor": 0
      },
      "text/plain": [
       "60/100(t):   0%|          | 0/40 [00:00<?, ?it/s]"
      ]
     },
     "metadata": {},
     "output_type": "display_data"
    },
    {
     "data": {
      "application/vnd.jupyter.widget-view+json": {
       "model_id": "d75606d29b4d4e2cb75ea7ce943d1faf",
       "version_major": 2,
       "version_minor": 0
      },
      "text/plain": [
       "60/100(v):   0%|          | 0/4 [00:00<?, ?it/s]"
      ]
     },
     "metadata": {},
     "output_type": "display_data"
    },
    {
     "data": {
      "application/vnd.jupyter.widget-view+json": {
       "model_id": "6f969eb305e54bd2ab1c1fb57cafc594",
       "version_major": 2,
       "version_minor": 0
      },
      "text/plain": [
       "61/100(t):   0%|          | 0/40 [00:00<?, ?it/s]"
      ]
     },
     "metadata": {},
     "output_type": "display_data"
    },
    {
     "data": {
      "application/vnd.jupyter.widget-view+json": {
       "model_id": "8503d25056a445cdaee7c22a381ed9d8",
       "version_major": 2,
       "version_minor": 0
      },
      "text/plain": [
       "61/100(v):   0%|          | 0/4 [00:00<?, ?it/s]"
      ]
     },
     "metadata": {},
     "output_type": "display_data"
    },
    {
     "data": {
      "application/vnd.jupyter.widget-view+json": {
       "model_id": "7b38fce0380b4ae49419fd8b664f18b8",
       "version_major": 2,
       "version_minor": 0
      },
      "text/plain": [
       "62/100(t):   0%|          | 0/40 [00:00<?, ?it/s]"
      ]
     },
     "metadata": {},
     "output_type": "display_data"
    },
    {
     "data": {
      "application/vnd.jupyter.widget-view+json": {
       "model_id": "321eaef43b6c474f8bb444b057e94a90",
       "version_major": 2,
       "version_minor": 0
      },
      "text/plain": [
       "62/100(v):   0%|          | 0/4 [00:00<?, ?it/s]"
      ]
     },
     "metadata": {},
     "output_type": "display_data"
    },
    {
     "data": {
      "application/vnd.jupyter.widget-view+json": {
       "model_id": "533007042375410eaa146b1e80852bf4",
       "version_major": 2,
       "version_minor": 0
      },
      "text/plain": [
       "63/100(t):   0%|          | 0/40 [00:00<?, ?it/s]"
      ]
     },
     "metadata": {},
     "output_type": "display_data"
    },
    {
     "data": {
      "application/vnd.jupyter.widget-view+json": {
       "model_id": "378bcb342dc048f4872814d57d179223",
       "version_major": 2,
       "version_minor": 0
      },
      "text/plain": [
       "63/100(v):   0%|          | 0/4 [00:00<?, ?it/s]"
      ]
     },
     "metadata": {},
     "output_type": "display_data"
    },
    {
     "data": {
      "application/vnd.jupyter.widget-view+json": {
       "model_id": "54e7d769696d4969a2e9f1c6f790dfb6",
       "version_major": 2,
       "version_minor": 0
      },
      "text/plain": [
       "64/100(t):   0%|          | 0/40 [00:00<?, ?it/s]"
      ]
     },
     "metadata": {},
     "output_type": "display_data"
    },
    {
     "data": {
      "application/vnd.jupyter.widget-view+json": {
       "model_id": "7e3195c23adf4c1d8df5da04d4d3f193",
       "version_major": 2,
       "version_minor": 0
      },
      "text/plain": [
       "64/100(v):   0%|          | 0/4 [00:00<?, ?it/s]"
      ]
     },
     "metadata": {},
     "output_type": "display_data"
    },
    {
     "data": {
      "application/vnd.jupyter.widget-view+json": {
       "model_id": "796d5e913bd94b9891951f999f18f6d8",
       "version_major": 2,
       "version_minor": 0
      },
      "text/plain": [
       "65/100(t):   0%|          | 0/40 [00:00<?, ?it/s]"
      ]
     },
     "metadata": {},
     "output_type": "display_data"
    },
    {
     "data": {
      "application/vnd.jupyter.widget-view+json": {
       "model_id": "0aa67bf21675414cb50c75b40abb0f52",
       "version_major": 2,
       "version_minor": 0
      },
      "text/plain": [
       "65/100(v):   0%|          | 0/4 [00:00<?, ?it/s]"
      ]
     },
     "metadata": {},
     "output_type": "display_data"
    },
    {
     "data": {
      "application/vnd.jupyter.widget-view+json": {
       "model_id": "0a1f2d7b131d4146a0649ddeb183e065",
       "version_major": 2,
       "version_minor": 0
      },
      "text/plain": [
       "66/100(t):   0%|          | 0/40 [00:00<?, ?it/s]"
      ]
     },
     "metadata": {},
     "output_type": "display_data"
    },
    {
     "data": {
      "application/vnd.jupyter.widget-view+json": {
       "model_id": "fed3241a015b4e289e175c295644102c",
       "version_major": 2,
       "version_minor": 0
      },
      "text/plain": [
       "66/100(v):   0%|          | 0/4 [00:00<?, ?it/s]"
      ]
     },
     "metadata": {},
     "output_type": "display_data"
    },
    {
     "data": {
      "application/vnd.jupyter.widget-view+json": {
       "model_id": "b48fd479835e4f1fa54cea7df830e8bc",
       "version_major": 2,
       "version_minor": 0
      },
      "text/plain": [
       "67/100(t):   0%|          | 0/40 [00:00<?, ?it/s]"
      ]
     },
     "metadata": {},
     "output_type": "display_data"
    },
    {
     "data": {
      "application/vnd.jupyter.widget-view+json": {
       "model_id": "39eeab713a004b4a90845cca0dcab9cb",
       "version_major": 2,
       "version_minor": 0
      },
      "text/plain": [
       "67/100(v):   0%|          | 0/4 [00:00<?, ?it/s]"
      ]
     },
     "metadata": {},
     "output_type": "display_data"
    },
    {
     "data": {
      "application/vnd.jupyter.widget-view+json": {
       "model_id": "d6959b82a6c14d40a0660813e9544e2c",
       "version_major": 2,
       "version_minor": 0
      },
      "text/plain": [
       "68/100(t):   0%|          | 0/40 [00:00<?, ?it/s]"
      ]
     },
     "metadata": {},
     "output_type": "display_data"
    },
    {
     "data": {
      "application/vnd.jupyter.widget-view+json": {
       "model_id": "050055b652a744a788c1baabc48b38ea",
       "version_major": 2,
       "version_minor": 0
      },
      "text/plain": [
       "68/100(v):   0%|          | 0/4 [00:00<?, ?it/s]"
      ]
     },
     "metadata": {},
     "output_type": "display_data"
    },
    {
     "data": {
      "application/vnd.jupyter.widget-view+json": {
       "model_id": "95c17589e99c491d9306ae59279f07ce",
       "version_major": 2,
       "version_minor": 0
      },
      "text/plain": [
       "69/100(t):   0%|          | 0/40 [00:00<?, ?it/s]"
      ]
     },
     "metadata": {},
     "output_type": "display_data"
    },
    {
     "data": {
      "application/vnd.jupyter.widget-view+json": {
       "model_id": "48b2265d871f4fb9a1105d1a3b1dc867",
       "version_major": 2,
       "version_minor": 0
      },
      "text/plain": [
       "69/100(v):   0%|          | 0/4 [00:00<?, ?it/s]"
      ]
     },
     "metadata": {},
     "output_type": "display_data"
    },
    {
     "data": {
      "application/vnd.jupyter.widget-view+json": {
       "model_id": "4de51d39bd244531af2d204347668252",
       "version_major": 2,
       "version_minor": 0
      },
      "text/plain": [
       "70/100(t):   0%|          | 0/40 [00:00<?, ?it/s]"
      ]
     },
     "metadata": {},
     "output_type": "display_data"
    },
    {
     "data": {
      "application/vnd.jupyter.widget-view+json": {
       "model_id": "c57550391051487e8b03dc47116def21",
       "version_major": 2,
       "version_minor": 0
      },
      "text/plain": [
       "70/100(v):   0%|          | 0/4 [00:00<?, ?it/s]"
      ]
     },
     "metadata": {},
     "output_type": "display_data"
    },
    {
     "data": {
      "application/vnd.jupyter.widget-view+json": {
       "model_id": "bf39185ba5b8470c94f7927d247507d3",
       "version_major": 2,
       "version_minor": 0
      },
      "text/plain": [
       "71/100(t):   0%|          | 0/40 [00:00<?, ?it/s]"
      ]
     },
     "metadata": {},
     "output_type": "display_data"
    },
    {
     "data": {
      "application/vnd.jupyter.widget-view+json": {
       "model_id": "5235e40d65174bae9b24215f746019a4",
       "version_major": 2,
       "version_minor": 0
      },
      "text/plain": [
       "71/100(v):   0%|          | 0/4 [00:00<?, ?it/s]"
      ]
     },
     "metadata": {},
     "output_type": "display_data"
    },
    {
     "data": {
      "application/vnd.jupyter.widget-view+json": {
       "model_id": "07475e5380b94aa0bee57355d9804001",
       "version_major": 2,
       "version_minor": 0
      },
      "text/plain": [
       "72/100(t):   0%|          | 0/40 [00:00<?, ?it/s]"
      ]
     },
     "metadata": {},
     "output_type": "display_data"
    },
    {
     "data": {
      "application/vnd.jupyter.widget-view+json": {
       "model_id": "2fe69a867013486995a3e0d845d0d8d8",
       "version_major": 2,
       "version_minor": 0
      },
      "text/plain": [
       "72/100(v):   0%|          | 0/4 [00:00<?, ?it/s]"
      ]
     },
     "metadata": {},
     "output_type": "display_data"
    },
    {
     "data": {
      "application/vnd.jupyter.widget-view+json": {
       "model_id": "d2276cb64dc245ff9c7d374a90a73883",
       "version_major": 2,
       "version_minor": 0
      },
      "text/plain": [
       "73/100(t):   0%|          | 0/40 [00:00<?, ?it/s]"
      ]
     },
     "metadata": {},
     "output_type": "display_data"
    },
    {
     "data": {
      "application/vnd.jupyter.widget-view+json": {
       "model_id": "566c812a8c8148d6808016c14ebf6d56",
       "version_major": 2,
       "version_minor": 0
      },
      "text/plain": [
       "73/100(v):   0%|          | 0/4 [00:00<?, ?it/s]"
      ]
     },
     "metadata": {},
     "output_type": "display_data"
    },
    {
     "data": {
      "application/vnd.jupyter.widget-view+json": {
       "model_id": "d47150f604b34b81919e7e55a7c52c85",
       "version_major": 2,
       "version_minor": 0
      },
      "text/plain": [
       "74/100(t):   0%|          | 0/40 [00:00<?, ?it/s]"
      ]
     },
     "metadata": {},
     "output_type": "display_data"
    },
    {
     "data": {
      "application/vnd.jupyter.widget-view+json": {
       "model_id": "c64441a8f27440baae956465c3c4c6ee",
       "version_major": 2,
       "version_minor": 0
      },
      "text/plain": [
       "74/100(v):   0%|          | 0/4 [00:00<?, ?it/s]"
      ]
     },
     "metadata": {},
     "output_type": "display_data"
    },
    {
     "data": {
      "application/vnd.jupyter.widget-view+json": {
       "model_id": "7724c89c72a64b3bbee52f43a6fa60ff",
       "version_major": 2,
       "version_minor": 0
      },
      "text/plain": [
       "75/100(t):   0%|          | 0/40 [00:00<?, ?it/s]"
      ]
     },
     "metadata": {},
     "output_type": "display_data"
    },
    {
     "data": {
      "application/vnd.jupyter.widget-view+json": {
       "model_id": "35bf5895876b45e0ba1b195699cf7d69",
       "version_major": 2,
       "version_minor": 0
      },
      "text/plain": [
       "75/100(v):   0%|          | 0/4 [00:00<?, ?it/s]"
      ]
     },
     "metadata": {},
     "output_type": "display_data"
    },
    {
     "data": {
      "application/vnd.jupyter.widget-view+json": {
       "model_id": "418050810323467db8daab6768762f6b",
       "version_major": 2,
       "version_minor": 0
      },
      "text/plain": [
       "76/100(t):   0%|          | 0/40 [00:00<?, ?it/s]"
      ]
     },
     "metadata": {},
     "output_type": "display_data"
    },
    {
     "data": {
      "application/vnd.jupyter.widget-view+json": {
       "model_id": "89d9994b3e52482d9dca9e69e06f44bd",
       "version_major": 2,
       "version_minor": 0
      },
      "text/plain": [
       "76/100(v):   0%|          | 0/4 [00:00<?, ?it/s]"
      ]
     },
     "metadata": {},
     "output_type": "display_data"
    },
    {
     "data": {
      "application/vnd.jupyter.widget-view+json": {
       "model_id": "d68a98c6cc5e4c5dade700779de31f8d",
       "version_major": 2,
       "version_minor": 0
      },
      "text/plain": [
       "77/100(t):   0%|          | 0/40 [00:00<?, ?it/s]"
      ]
     },
     "metadata": {},
     "output_type": "display_data"
    },
    {
     "data": {
      "application/vnd.jupyter.widget-view+json": {
       "model_id": "eeb2e99fd04c411184a6172a3e9b5670",
       "version_major": 2,
       "version_minor": 0
      },
      "text/plain": [
       "77/100(v):   0%|          | 0/4 [00:00<?, ?it/s]"
      ]
     },
     "metadata": {},
     "output_type": "display_data"
    },
    {
     "data": {
      "application/vnd.jupyter.widget-view+json": {
       "model_id": "7ae90ae43a39457794321963fbd86197",
       "version_major": 2,
       "version_minor": 0
      },
      "text/plain": [
       "78/100(t):   0%|          | 0/40 [00:00<?, ?it/s]"
      ]
     },
     "metadata": {},
     "output_type": "display_data"
    },
    {
     "data": {
      "application/vnd.jupyter.widget-view+json": {
       "model_id": "90fbedaa7f9a49ba9c29df9d3fc75a61",
       "version_major": 2,
       "version_minor": 0
      },
      "text/plain": [
       "78/100(v):   0%|          | 0/4 [00:00<?, ?it/s]"
      ]
     },
     "metadata": {},
     "output_type": "display_data"
    },
    {
     "data": {
      "application/vnd.jupyter.widget-view+json": {
       "model_id": "5a0b61dfa9cf454a86f6a474ec639440",
       "version_major": 2,
       "version_minor": 0
      },
      "text/plain": [
       "79/100(t):   0%|          | 0/40 [00:00<?, ?it/s]"
      ]
     },
     "metadata": {},
     "output_type": "display_data"
    },
    {
     "data": {
      "application/vnd.jupyter.widget-view+json": {
       "model_id": "e69f5b63f200450c967cf82d419d8fb4",
       "version_major": 2,
       "version_minor": 0
      },
      "text/plain": [
       "79/100(v):   0%|          | 0/4 [00:00<?, ?it/s]"
      ]
     },
     "metadata": {},
     "output_type": "display_data"
    },
    {
     "data": {
      "application/vnd.jupyter.widget-view+json": {
       "model_id": "6dc7df0b16dc4962ada4a01cb2c4b280",
       "version_major": 2,
       "version_minor": 0
      },
      "text/plain": [
       "80/100(t):   0%|          | 0/40 [00:00<?, ?it/s]"
      ]
     },
     "metadata": {},
     "output_type": "display_data"
    },
    {
     "data": {
      "application/vnd.jupyter.widget-view+json": {
       "model_id": "c87a536ec54a4fc3a4601c3245e339af",
       "version_major": 2,
       "version_minor": 0
      },
      "text/plain": [
       "80/100(v):   0%|          | 0/4 [00:00<?, ?it/s]"
      ]
     },
     "metadata": {},
     "output_type": "display_data"
    },
    {
     "data": {
      "application/vnd.jupyter.widget-view+json": {
       "model_id": "685f0ac9b12a4b7eb78049d886505bbb",
       "version_major": 2,
       "version_minor": 0
      },
      "text/plain": [
       "81/100(t):   0%|          | 0/40 [00:00<?, ?it/s]"
      ]
     },
     "metadata": {},
     "output_type": "display_data"
    },
    {
     "data": {
      "application/vnd.jupyter.widget-view+json": {
       "model_id": "4ff4889a6c1147c896f1b81c5ce439b2",
       "version_major": 2,
       "version_minor": 0
      },
      "text/plain": [
       "81/100(v):   0%|          | 0/4 [00:00<?, ?it/s]"
      ]
     },
     "metadata": {},
     "output_type": "display_data"
    },
    {
     "data": {
      "application/vnd.jupyter.widget-view+json": {
       "model_id": "0678c3fec60e40aeb052f6067cb181ba",
       "version_major": 2,
       "version_minor": 0
      },
      "text/plain": [
       "82/100(t):   0%|          | 0/40 [00:00<?, ?it/s]"
      ]
     },
     "metadata": {},
     "output_type": "display_data"
    },
    {
     "data": {
      "application/vnd.jupyter.widget-view+json": {
       "model_id": "5ac5fffcd8574200892fd1b9ec546e9a",
       "version_major": 2,
       "version_minor": 0
      },
      "text/plain": [
       "82/100(v):   0%|          | 0/4 [00:00<?, ?it/s]"
      ]
     },
     "metadata": {},
     "output_type": "display_data"
    },
    {
     "data": {
      "application/vnd.jupyter.widget-view+json": {
       "model_id": "4491b4d04ffc42b6a793a8fb7225ed03",
       "version_major": 2,
       "version_minor": 0
      },
      "text/plain": [
       "83/100(t):   0%|          | 0/40 [00:00<?, ?it/s]"
      ]
     },
     "metadata": {},
     "output_type": "display_data"
    },
    {
     "data": {
      "application/vnd.jupyter.widget-view+json": {
       "model_id": "61bc8bbe4ee447b38763c431980a9507",
       "version_major": 2,
       "version_minor": 0
      },
      "text/plain": [
       "83/100(v):   0%|          | 0/4 [00:00<?, ?it/s]"
      ]
     },
     "metadata": {},
     "output_type": "display_data"
    },
    {
     "data": {
      "application/vnd.jupyter.widget-view+json": {
       "model_id": "4c099caa63634a8eac32f613feeb7e97",
       "version_major": 2,
       "version_minor": 0
      },
      "text/plain": [
       "84/100(t):   0%|          | 0/40 [00:00<?, ?it/s]"
      ]
     },
     "metadata": {},
     "output_type": "display_data"
    },
    {
     "data": {
      "application/vnd.jupyter.widget-view+json": {
       "model_id": "f9b0c143b7ea4b8591c0433523bffe1e",
       "version_major": 2,
       "version_minor": 0
      },
      "text/plain": [
       "84/100(v):   0%|          | 0/4 [00:00<?, ?it/s]"
      ]
     },
     "metadata": {},
     "output_type": "display_data"
    },
    {
     "data": {
      "application/vnd.jupyter.widget-view+json": {
       "model_id": "e8202811a67246dd99ac633ec3e53b0d",
       "version_major": 2,
       "version_minor": 0
      },
      "text/plain": [
       "85/100(t):   0%|          | 0/40 [00:00<?, ?it/s]"
      ]
     },
     "metadata": {},
     "output_type": "display_data"
    },
    {
     "data": {
      "application/vnd.jupyter.widget-view+json": {
       "model_id": "e36bc7e421af4961a5517898ed51912f",
       "version_major": 2,
       "version_minor": 0
      },
      "text/plain": [
       "85/100(v):   0%|          | 0/4 [00:00<?, ?it/s]"
      ]
     },
     "metadata": {},
     "output_type": "display_data"
    },
    {
     "data": {
      "application/vnd.jupyter.widget-view+json": {
       "model_id": "2dc45b7ffd7444938d6c4005772e0132",
       "version_major": 2,
       "version_minor": 0
      },
      "text/plain": [
       "86/100(t):   0%|          | 0/40 [00:00<?, ?it/s]"
      ]
     },
     "metadata": {},
     "output_type": "display_data"
    },
    {
     "data": {
      "application/vnd.jupyter.widget-view+json": {
       "model_id": "7092bd1b14c347bf9ba8c0ebda8015aa",
       "version_major": 2,
       "version_minor": 0
      },
      "text/plain": [
       "86/100(v):   0%|          | 0/4 [00:00<?, ?it/s]"
      ]
     },
     "metadata": {},
     "output_type": "display_data"
    },
    {
     "data": {
      "application/vnd.jupyter.widget-view+json": {
       "model_id": "ace64065ace7483eba8b5595e0467427",
       "version_major": 2,
       "version_minor": 0
      },
      "text/plain": [
       "87/100(t):   0%|          | 0/40 [00:00<?, ?it/s]"
      ]
     },
     "metadata": {},
     "output_type": "display_data"
    },
    {
     "data": {
      "application/vnd.jupyter.widget-view+json": {
       "model_id": "eac05db96ec94f2b973c8871e8288098",
       "version_major": 2,
       "version_minor": 0
      },
      "text/plain": [
       "87/100(v):   0%|          | 0/4 [00:00<?, ?it/s]"
      ]
     },
     "metadata": {},
     "output_type": "display_data"
    },
    {
     "data": {
      "application/vnd.jupyter.widget-view+json": {
       "model_id": "7f1dcb7363534ee3bf7947fe54fef8fa",
       "version_major": 2,
       "version_minor": 0
      },
      "text/plain": [
       "88/100(t):   0%|          | 0/40 [00:00<?, ?it/s]"
      ]
     },
     "metadata": {},
     "output_type": "display_data"
    },
    {
     "data": {
      "application/vnd.jupyter.widget-view+json": {
       "model_id": "af990ae6bfed4830bbfecc62b41c2dd0",
       "version_major": 2,
       "version_minor": 0
      },
      "text/plain": [
       "88/100(v):   0%|          | 0/4 [00:00<?, ?it/s]"
      ]
     },
     "metadata": {},
     "output_type": "display_data"
    },
    {
     "data": {
      "application/vnd.jupyter.widget-view+json": {
       "model_id": "e91862a3c735478c9a82aefce95adb18",
       "version_major": 2,
       "version_minor": 0
      },
      "text/plain": [
       "89/100(t):   0%|          | 0/40 [00:00<?, ?it/s]"
      ]
     },
     "metadata": {},
     "output_type": "display_data"
    },
    {
     "data": {
      "application/vnd.jupyter.widget-view+json": {
       "model_id": "6fe5372931564657b98c9b4f05fffbf0",
       "version_major": 2,
       "version_minor": 0
      },
      "text/plain": [
       "89/100(v):   0%|          | 0/4 [00:00<?, ?it/s]"
      ]
     },
     "metadata": {},
     "output_type": "display_data"
    },
    {
     "data": {
      "application/vnd.jupyter.widget-view+json": {
       "model_id": "df27817161844aacb4a3534b882b5fe3",
       "version_major": 2,
       "version_minor": 0
      },
      "text/plain": [
       "90/100(t):   0%|          | 0/40 [00:00<?, ?it/s]"
      ]
     },
     "metadata": {},
     "output_type": "display_data"
    },
    {
     "data": {
      "application/vnd.jupyter.widget-view+json": {
       "model_id": "db5f4eb3d3ad42fea60308dbbf9c599a",
       "version_major": 2,
       "version_minor": 0
      },
      "text/plain": [
       "90/100(v):   0%|          | 0/4 [00:00<?, ?it/s]"
      ]
     },
     "metadata": {},
     "output_type": "display_data"
    },
    {
     "data": {
      "application/vnd.jupyter.widget-view+json": {
       "model_id": "cf700f83881748a18adad4d97f03eb08",
       "version_major": 2,
       "version_minor": 0
      },
      "text/plain": [
       "91/100(t):   0%|          | 0/40 [00:00<?, ?it/s]"
      ]
     },
     "metadata": {},
     "output_type": "display_data"
    },
    {
     "data": {
      "application/vnd.jupyter.widget-view+json": {
       "model_id": "6e77c88e39214d4e9f2348d976886509",
       "version_major": 2,
       "version_minor": 0
      },
      "text/plain": [
       "91/100(v):   0%|          | 0/4 [00:00<?, ?it/s]"
      ]
     },
     "metadata": {},
     "output_type": "display_data"
    },
    {
     "data": {
      "application/vnd.jupyter.widget-view+json": {
       "model_id": "adac63c00cdb4ac488a0e7402aa3de05",
       "version_major": 2,
       "version_minor": 0
      },
      "text/plain": [
       "92/100(t):   0%|          | 0/40 [00:00<?, ?it/s]"
      ]
     },
     "metadata": {},
     "output_type": "display_data"
    },
    {
     "data": {
      "application/vnd.jupyter.widget-view+json": {
       "model_id": "08a713061a534e1f9232b65c90c2cabd",
       "version_major": 2,
       "version_minor": 0
      },
      "text/plain": [
       "92/100(v):   0%|          | 0/4 [00:00<?, ?it/s]"
      ]
     },
     "metadata": {},
     "output_type": "display_data"
    },
    {
     "data": {
      "application/vnd.jupyter.widget-view+json": {
       "model_id": "9c640b5ce7434f53a386d606a19edac4",
       "version_major": 2,
       "version_minor": 0
      },
      "text/plain": [
       "93/100(t):   0%|          | 0/40 [00:00<?, ?it/s]"
      ]
     },
     "metadata": {},
     "output_type": "display_data"
    },
    {
     "data": {
      "application/vnd.jupyter.widget-view+json": {
       "model_id": "52e15b1712064480b6fd762fa328d2e1",
       "version_major": 2,
       "version_minor": 0
      },
      "text/plain": [
       "93/100(v):   0%|          | 0/4 [00:00<?, ?it/s]"
      ]
     },
     "metadata": {},
     "output_type": "display_data"
    },
    {
     "data": {
      "application/vnd.jupyter.widget-view+json": {
       "model_id": "ed70d76cd5224e3bb8016eab0b97ea15",
       "version_major": 2,
       "version_minor": 0
      },
      "text/plain": [
       "94/100(t):   0%|          | 0/40 [00:00<?, ?it/s]"
      ]
     },
     "metadata": {},
     "output_type": "display_data"
    },
    {
     "data": {
      "application/vnd.jupyter.widget-view+json": {
       "model_id": "efe15e6396424075a7e9ad2791ed0ea3",
       "version_major": 2,
       "version_minor": 0
      },
      "text/plain": [
       "94/100(v):   0%|          | 0/4 [00:00<?, ?it/s]"
      ]
     },
     "metadata": {},
     "output_type": "display_data"
    },
    {
     "data": {
      "application/vnd.jupyter.widget-view+json": {
       "model_id": "9b63e3bb13824a3ca4bc8a4c62baf23e",
       "version_major": 2,
       "version_minor": 0
      },
      "text/plain": [
       "95/100(t):   0%|          | 0/40 [00:00<?, ?it/s]"
      ]
     },
     "metadata": {},
     "output_type": "display_data"
    },
    {
     "data": {
      "application/vnd.jupyter.widget-view+json": {
       "model_id": "abda25528cf742c99db04ec42d9c2eda",
       "version_major": 2,
       "version_minor": 0
      },
      "text/plain": [
       "95/100(v):   0%|          | 0/4 [00:00<?, ?it/s]"
      ]
     },
     "metadata": {},
     "output_type": "display_data"
    },
    {
     "data": {
      "application/vnd.jupyter.widget-view+json": {
       "model_id": "a45201da2d4a4af69c85785fa59b907b",
       "version_major": 2,
       "version_minor": 0
      },
      "text/plain": [
       "96/100(t):   0%|          | 0/40 [00:00<?, ?it/s]"
      ]
     },
     "metadata": {},
     "output_type": "display_data"
    },
    {
     "data": {
      "application/vnd.jupyter.widget-view+json": {
       "model_id": "3bf8cbee24c5431ba11c337f2ac2ddd3",
       "version_major": 2,
       "version_minor": 0
      },
      "text/plain": [
       "96/100(v):   0%|          | 0/4 [00:00<?, ?it/s]"
      ]
     },
     "metadata": {},
     "output_type": "display_data"
    },
    {
     "data": {
      "application/vnd.jupyter.widget-view+json": {
       "model_id": "0d60265682e44774a61696d69f449730",
       "version_major": 2,
       "version_minor": 0
      },
      "text/plain": [
       "97/100(t):   0%|          | 0/40 [00:00<?, ?it/s]"
      ]
     },
     "metadata": {},
     "output_type": "display_data"
    },
    {
     "data": {
      "application/vnd.jupyter.widget-view+json": {
       "model_id": "672eca54365e4e24a89870cb974041e6",
       "version_major": 2,
       "version_minor": 0
      },
      "text/plain": [
       "97/100(v):   0%|          | 0/4 [00:00<?, ?it/s]"
      ]
     },
     "metadata": {},
     "output_type": "display_data"
    },
    {
     "data": {
      "application/vnd.jupyter.widget-view+json": {
       "model_id": "0d5439d99fe945aa936930a559cd05b4",
       "version_major": 2,
       "version_minor": 0
      },
      "text/plain": [
       "98/100(t):   0%|          | 0/40 [00:00<?, ?it/s]"
      ]
     },
     "metadata": {},
     "output_type": "display_data"
    },
    {
     "data": {
      "application/vnd.jupyter.widget-view+json": {
       "model_id": "60e266226a8544d592179f7e727f5b37",
       "version_major": 2,
       "version_minor": 0
      },
      "text/plain": [
       "98/100(v):   0%|          | 0/4 [00:00<?, ?it/s]"
      ]
     },
     "metadata": {},
     "output_type": "display_data"
    },
    {
     "data": {
      "application/vnd.jupyter.widget-view+json": {
       "model_id": "de611d6aee58435681e426738c26233a",
       "version_major": 2,
       "version_minor": 0
      },
      "text/plain": [
       "99/100(t):   0%|          | 0/40 [00:00<?, ?it/s]"
      ]
     },
     "metadata": {},
     "output_type": "display_data"
    },
    {
     "data": {
      "application/vnd.jupyter.widget-view+json": {
       "model_id": "609a5160fd794af7891902643dddaf17",
       "version_major": 2,
       "version_minor": 0
      },
      "text/plain": [
       "99/100(v):   0%|          | 0/4 [00:00<?, ?it/s]"
      ]
     },
     "metadata": {},
     "output_type": "display_data"
    },
    {
     "data": {
      "application/vnd.jupyter.widget-view+json": {
       "model_id": "524edd01a6ae487e890892afc3d9dd49",
       "version_major": 2,
       "version_minor": 0
      },
      "text/plain": [
       "0/1(e):   0%|          | 0/4 [00:00<?, ?it/s]"
      ]
     },
     "metadata": {},
     "output_type": "display_data"
    },
    {
     "name": "stdout",
     "output_type": "stream",
     "text": [
      "{'test_loss': 16.564319610595703, 'test_mse': 16.64059829711914}\n"
     ]
    }
   ],
   "source": [
    "# build the model\n",
    "model2 = CNNPooling()\n",
    "\n",
    "# define the loss function and the optimiser\n",
    "loss_function = nn.MSELoss()\n",
    "optimiser = optim.Adam(model2.parameters())\n",
    "\n",
    "device = \"cuda:0\" if torch.cuda.is_available() else \"cpu\"\n",
    "trial = Trial(model2, optimiser, loss_function, metrics=['loss', 'accuracy']).to(device)\n",
    "trial.with_generators(trainloader, val_generator=validloader,test_generator=testloader)\n",
    "trial.run(epochs=100)\n",
    "results = trial.evaluate(data_key=torchbearer.TEST_DATA)\n",
    "print(results)"
   ]
  },
  {
   "cell_type": "code",
   "execution_count": 162,
   "id": "26e521f9",
   "metadata": {},
   "outputs": [
    {
     "data": {
      "image/png": "[encoded data removed]",
      "text/plain": [
       "<Figure size 360x360 with 1 Axes>"
      ]
     },
     "metadata": {
      "needs_background": "light"
     },
     "output_type": "display_data"
    }
   ],
   "source": [
    "im,params = test_data[80]\n",
    "est_params = model2(im.unsqueeze(0))[0]\n",
    "x0, x1 = 0, 40\n",
    "y0, y1 = 0, 40\n",
    "# m,c = torch.tensor(params, device='cpu')\n",
    "m,c = params.clone().detach().to('cpu')\n",
    "m,c = -m, (-c+40)\n",
    "m_est, c_est = est_params.clone().detach().to('cpu')\n",
    "m_est, c_est = -m_est, (-c_est+40)\n",
    "px0, px1 = x0 - 5, x1 + 5\n",
    "x = torch.linspace(px0, px1, px1 - px0).detach()\n",
    "y = m * x + c\n",
    "y_est = m_est * x + c_est\n",
    "plt.subplots(figsize = (5, 5))\n",
    "plt.imshow(im.squeeze(),cmap=matplotlib.colors.ListedColormap(['royalblue', 'yellow']))\n",
    "plt.plot(x, y, c = 'orange')\n",
    "plt.plot(x, y_est, c = 'red')\n",
    "plt.xlim(0,39)\n",
    "plt.ylim(0,39)\n",
    "plt.savefig(\"CNNPooling80.png\")"
   ]
  },
  {
   "cell_type": "code",
   "execution_count": 133,
   "id": "48e52714",
   "metadata": {},
   "outputs": [
    {
     "name": "stdout",
     "output_type": "stream",
     "text": [
      "The autoreload extension is already loaded. To reload it, use:\n",
      "  %reload_ext autoreload\n"
     ]
    }
   ],
   "source": [
    "# automatically reload external modules if they change\n",
    "%load_ext autoreload\n",
    "%autoreload 2\n",
    "\n",
    "import torch\n",
    "import torch.nn.functional as F\n",
    "import torchvision.transforms as transforms\n",
    "import torchbearer\n",
    "from torch import nn\n",
    "from torch import optim\n",
    "from torch.utils.data import DataLoader\n",
    "from torchvision.datasets import MNIST\n",
    "from torchbearer import Trial\n",
    "\n",
    "# fix random seed for reproducibility\n",
    "seed = 7\n",
    "torch.manual_seed(seed)\n",
    "torch.backends.cudnn.deterministic = True\n",
    "\n",
    "class CNN3(nn.Module):\n",
    "    def __init__(self):\n",
    "        super(CNN3, self).__init__()\n",
    "        self.conv1 = nn.Conv2d(in_channels = 3, out_channels = 48, kernel_size = (3, 3), stride=1,padding=1)\n",
    "        self.conv2 = nn.Conv2d(in_channels = 48, out_channels = 48, kernel_size = (3, 3), stride=1,padding=1)\n",
    "        self.flatten = nn.Flatten()\n",
    "        self.fc1 = nn.Linear(48, 128)\n",
    "        self.fc2 = nn.Linear(128, 2)\n",
    "            \n",
    "    def forward(self, x):\n",
    "        x = x.to(device)\n",
    "        idxx = torch.repeat_interleave(\n",
    "            torch.arange(-20,20,dtype=torch.float).unsqueeze(0)/40.0,\n",
    "            repeats = 40,dim = 0).to(x.device) # random 1*40 in[-0.5,0.5] #repeats 40 to 40*40\n",
    "        idxy = idxx.clone().t()                #transpose\n",
    "        idx = torch.stack([idxx,idxy]).unsqueeze(0) #integration to [1,2,40,40]\n",
    "        idx = torch.repeat_interleave(\n",
    "            idx,repeats=x.shape[0],dim=0)     #repeats 40 to [40,2,40,40]\n",
    "        x = torch.cat([x,idx],dim=1)          #[40, 1, 40, 40] cat [40,2,40,40] to [40,3,40,40]\n",
    "        out = self.conv1(x)\n",
    "        out = F.relu(out)\n",
    "        out = self.conv2(out)\n",
    "        out = F.relu(out)\n",
    "        out = F.adaptive_max_pool2d(out,output_size=(1,1))\n",
    "        out = self.flatten(out)\n",
    "        out = self.fc1(out)\n",
    "        out = F.relu(out)\n",
    "        out = self.fc2(out)\n",
    "        return out"
   ]
  },
  {
   "cell_type": "code",
   "execution_count": 134,
   "id": "bb60c6bf",
   "metadata": {
    "scrolled": true
   },
   "outputs": [
    {
     "data": {
      "application/vnd.jupyter.widget-view+json": {
       "model_id": "60060cda20d748cfb6e60cf9a5a73583",
       "version_major": 2,
       "version_minor": 0
      },
      "text/plain": [
       "0/100(t):   0%|          | 0/40 [00:00<?, ?it/s]"
      ]
     },
     "metadata": {},
     "output_type": "display_data"
    },
    {
     "data": {
      "application/vnd.jupyter.widget-view+json": {
       "model_id": "6028802a972f49279a61e7edfbe884c0",
       "version_major": 2,
       "version_minor": 0
      },
      "text/plain": [
       "0/100(v):   0%|          | 0/4 [00:00<?, ?it/s]"
      ]
     },
     "metadata": {},
     "output_type": "display_data"
    },
    {
     "data": {
      "application/vnd.jupyter.widget-view+json": {
       "model_id": "c7f448b36ba74ae59ef999adf13dd5a8",
       "version_major": 2,
       "version_minor": 0
      },
      "text/plain": [
       "1/100(t):   0%|          | 0/40 [00:00<?, ?it/s]"
      ]
     },
     "metadata": {},
     "output_type": "display_data"
    },
    {
     "data": {
      "application/vnd.jupyter.widget-view+json": {
       "model_id": "bd8d8ff2d88c46f3bccdeaddb1f33d9f",
       "version_major": 2,
       "version_minor": 0
      },
      "text/plain": [
       "1/100(v):   0%|          | 0/4 [00:00<?, ?it/s]"
      ]
     },
     "metadata": {},
     "output_type": "display_data"
    },
    {
     "data": {
      "application/vnd.jupyter.widget-view+json": {
       "model_id": "71427b4ef3884af890422450229b7748",
       "version_major": 2,
       "version_minor": 0
      },
      "text/plain": [
       "2/100(t):   0%|          | 0/40 [00:00<?, ?it/s]"
      ]
     },
     "metadata": {},
     "output_type": "display_data"
    },
    {
     "data": {
      "application/vnd.jupyter.widget-view+json": {
       "model_id": "dc67e5ed55254b1891ace533d886ee6b",
       "version_major": 2,
       "version_minor": 0
      },
      "text/plain": [
       "2/100(v):   0%|          | 0/4 [00:00<?, ?it/s]"
      ]
     },
     "metadata": {},
     "output_type": "display_data"
    },
    {
     "data": {
      "application/vnd.jupyter.widget-view+json": {
       "model_id": "5b67a2f8976c4406b7f8252f60df899c",
       "version_major": 2,
       "version_minor": 0
      },
      "text/plain": [
       "3/100(t):   0%|          | 0/40 [00:00<?, ?it/s]"
      ]
     },
     "metadata": {},
     "output_type": "display_data"
    },
    {
     "data": {
      "application/vnd.jupyter.widget-view+json": {
       "model_id": "ce1f3242aec74ca8b520afdb7256f473",
       "version_major": 2,
       "version_minor": 0
      },
      "text/plain": [
       "3/100(v):   0%|          | 0/4 [00:00<?, ?it/s]"
      ]
     },
     "metadata": {},
     "output_type": "display_data"
    },
    {
     "data": {
      "application/vnd.jupyter.widget-view+json": {
       "model_id": "f3d9085ba41a47aba01150556627d805",
       "version_major": 2,
       "version_minor": 0
      },
      "text/plain": [
       "4/100(t):   0%|          | 0/40 [00:00<?, ?it/s]"
      ]
     },
     "metadata": {},
     "output_type": "display_data"
    },
    {
     "data": {
      "application/vnd.jupyter.widget-view+json": {
       "model_id": "86ee225cf0274d4796f3ff7b2a8d9615",
       "version_major": 2,
       "version_minor": 0
      },
      "text/plain": [
       "4/100(v):   0%|          | 0/4 [00:00<?, ?it/s]"
      ]
     },
     "metadata": {},
     "output_type": "display_data"
    },
    {
     "data": {
      "application/vnd.jupyter.widget-view+json": {
       "model_id": "d6e07c2551084efb8a421dae4cf3f063",
       "version_major": 2,
       "version_minor": 0
      },
      "text/plain": [
       "5/100(t):   0%|          | 0/40 [00:00<?, ?it/s]"
      ]
     },
     "metadata": {},
     "output_type": "display_data"
    },
    {
     "data": {
      "application/vnd.jupyter.widget-view+json": {
       "model_id": "d834e8d00d28457ca4d17205e0f3aeb7",
       "version_major": 2,
       "version_minor": 0
      },
      "text/plain": [
       "5/100(v):   0%|          | 0/4 [00:00<?, ?it/s]"
      ]
     },
     "metadata": {},
     "output_type": "display_data"
    },
    {
     "data": {
      "application/vnd.jupyter.widget-view+json": {
       "model_id": "073c7ae6d9e44cceb72e9acc5119ee54",
       "version_major": 2,
       "version_minor": 0
      },
      "text/plain": [
       "6/100(t):   0%|          | 0/40 [00:00<?, ?it/s]"
      ]
     },
     "metadata": {},
     "output_type": "display_data"
    },
    {
     "data": {
      "application/vnd.jupyter.widget-view+json": {
       "model_id": "29692d5f66874087bd6071ed2b45cd67",
       "version_major": 2,
       "version_minor": 0
      },
      "text/plain": [
       "6/100(v):   0%|          | 0/4 [00:00<?, ?it/s]"
      ]
     },
     "metadata": {},
     "output_type": "display_data"
    },
    {
     "data": {
      "application/vnd.jupyter.widget-view+json": {
       "model_id": "91447bfab44a45e7ace3e73cafa5bba3",
       "version_major": 2,
       "version_minor": 0
      },
      "text/plain": [
       "7/100(t):   0%|          | 0/40 [00:00<?, ?it/s]"
      ]
     },
     "metadata": {},
     "output_type": "display_data"
    },
    {
     "data": {
      "application/vnd.jupyter.widget-view+json": {
       "model_id": "607f82cd517d4477bc187d1f3c9fdfe7",
       "version_major": 2,
       "version_minor": 0
      },
      "text/plain": [
       "7/100(v):   0%|          | 0/4 [00:00<?, ?it/s]"
      ]
     },
     "metadata": {},
     "output_type": "display_data"
    },
    {
     "data": {
      "application/vnd.jupyter.widget-view+json": {
       "model_id": "1a7c4a0e1bff4afd961503de98b9b521",
       "version_major": 2,
       "version_minor": 0
      },
      "text/plain": [
       "8/100(t):   0%|          | 0/40 [00:00<?, ?it/s]"
      ]
     },
     "metadata": {},
     "output_type": "display_data"
    },
    {
     "data": {
      "application/vnd.jupyter.widget-view+json": {
       "model_id": "770248e516694c07bdca6e536379ab6d",
       "version_major": 2,
       "version_minor": 0
      },
      "text/plain": [
       "8/100(v):   0%|          | 0/4 [00:00<?, ?it/s]"
      ]
     },
     "metadata": {},
     "output_type": "display_data"
    },
    {
     "data": {
      "application/vnd.jupyter.widget-view+json": {
       "model_id": "81eaf0543c774d2080cddb622c143950",
       "version_major": 2,
       "version_minor": 0
      },
      "text/plain": [
       "9/100(t):   0%|          | 0/40 [00:00<?, ?it/s]"
      ]
     },
     "metadata": {},
     "output_type": "display_data"
    },
    {
     "data": {
      "application/vnd.jupyter.widget-view+json": {
       "model_id": "61c94393c48e4c4f81442c00e9964c63",
       "version_major": 2,
       "version_minor": 0
      },
      "text/plain": [
       "9/100(v):   0%|          | 0/4 [00:00<?, ?it/s]"
      ]
     },
     "metadata": {},
     "output_type": "display_data"
    },
    {
     "data": {
      "application/vnd.jupyter.widget-view+json": {
       "model_id": "edd137295e954deea0cd80092d0517b2",
       "version_major": 2,
       "version_minor": 0
      },
      "text/plain": [
       "10/100(t):   0%|          | 0/40 [00:00<?, ?it/s]"
      ]
     },
     "metadata": {},
     "output_type": "display_data"
    },
    {
     "data": {
      "application/vnd.jupyter.widget-view+json": {
       "model_id": "e5c4c7ccafa7421782ebb5faa9978fe1",
       "version_major": 2,
       "version_minor": 0
      },
      "text/plain": [
       "10/100(v):   0%|          | 0/4 [00:00<?, ?it/s]"
      ]
     },
     "metadata": {},
     "output_type": "display_data"
    },
    {
     "data": {
      "application/vnd.jupyter.widget-view+json": {
       "model_id": "0d3bb0291d334c92b4882b9f9a468c8b",
       "version_major": 2,
       "version_minor": 0
      },
      "text/plain": [
       "11/100(t):   0%|          | 0/40 [00:00<?, ?it/s]"
      ]
     },
     "metadata": {},
     "output_type": "display_data"
    },
    {
     "data": {
      "application/vnd.jupyter.widget-view+json": {
       "model_id": "55206da497774a9b9ec6c515f1cc9f83",
       "version_major": 2,
       "version_minor": 0
      },
      "text/plain": [
       "11/100(v):   0%|          | 0/4 [00:00<?, ?it/s]"
      ]
     },
     "metadata": {},
     "output_type": "display_data"
    },
    {
     "data": {
      "application/vnd.jupyter.widget-view+json": {
       "model_id": "a1f0469afbfa40458053a8ba32a41b7b",
       "version_major": 2,
       "version_minor": 0
      },
      "text/plain": [
       "12/100(t):   0%|          | 0/40 [00:00<?, ?it/s]"
      ]
     },
     "metadata": {},
     "output_type": "display_data"
    },
    {
     "data": {
      "application/vnd.jupyter.widget-view+json": {
       "model_id": "567bc1f3cb66421fbd813a923d3a129f",
       "version_major": 2,
       "version_minor": 0
      },
      "text/plain": [
       "12/100(v):   0%|          | 0/4 [00:00<?, ?it/s]"
      ]
     },
     "metadata": {},
     "output_type": "display_data"
    },
    {
     "data": {
      "application/vnd.jupyter.widget-view+json": {
       "model_id": "d582388ca13d4b85b0e4d517251a973b",
       "version_major": 2,
       "version_minor": 0
      },
      "text/plain": [
       "13/100(t):   0%|          | 0/40 [00:00<?, ?it/s]"
      ]
     },
     "metadata": {},
     "output_type": "display_data"
    },
    {
     "data": {
      "application/vnd.jupyter.widget-view+json": {
       "model_id": "36d8704345b34ea89598b4aee4cc9016",
       "version_major": 2,
       "version_minor": 0
      },
      "text/plain": [
       "13/100(v):   0%|          | 0/4 [00:00<?, ?it/s]"
      ]
     },
     "metadata": {},
     "output_type": "display_data"
    },
    {
     "data": {
      "application/vnd.jupyter.widget-view+json": {
       "model_id": "b7ae32bc255a431a9fdccbf520271d59",
       "version_major": 2,
       "version_minor": 0
      },
      "text/plain": [
       "14/100(t):   0%|          | 0/40 [00:00<?, ?it/s]"
      ]
     },
     "metadata": {},
     "output_type": "display_data"
    },
    {
     "data": {
      "application/vnd.jupyter.widget-view+json": {
       "model_id": "2cc6cf6d6d6f4be5bbaba7743e264df0",
       "version_major": 2,
       "version_minor": 0
      },
      "text/plain": [
       "14/100(v):   0%|          | 0/4 [00:00<?, ?it/s]"
      ]
     },
     "metadata": {},
     "output_type": "display_data"
    },
    {
     "data": {
      "application/vnd.jupyter.widget-view+json": {
       "model_id": "b7b1a3550d9b4506bc4962e248717464",
       "version_major": 2,
       "version_minor": 0
      },
      "text/plain": [
       "15/100(t):   0%|          | 0/40 [00:00<?, ?it/s]"
      ]
     },
     "metadata": {},
     "output_type": "display_data"
    },
    {
     "data": {
      "application/vnd.jupyter.widget-view+json": {
       "model_id": "e348a0fd26164640aff154be6e106ba3",
       "version_major": 2,
       "version_minor": 0
      },
      "text/plain": [
       "15/100(v):   0%|          | 0/4 [00:00<?, ?it/s]"
      ]
     },
     "metadata": {},
     "output_type": "display_data"
    },
    {
     "data": {
      "application/vnd.jupyter.widget-view+json": {
       "model_id": "b0c16112e75d42f7991014a5c591aef3",
       "version_major": 2,
       "version_minor": 0
      },
      "text/plain": [
       "16/100(t):   0%|          | 0/40 [00:00<?, ?it/s]"
      ]
     },
     "metadata": {},
     "output_type": "display_data"
    },
    {
     "data": {
      "application/vnd.jupyter.widget-view+json": {
       "model_id": "7751c27007ac4995a5be21a1a20f67fb",
       "version_major": 2,
       "version_minor": 0
      },
      "text/plain": [
       "16/100(v):   0%|          | 0/4 [00:00<?, ?it/s]"
      ]
     },
     "metadata": {},
     "output_type": "display_data"
    },
    {
     "data": {
      "application/vnd.jupyter.widget-view+json": {
       "model_id": "5215fdd030334f0997599e6368731425",
       "version_major": 2,
       "version_minor": 0
      },
      "text/plain": [
       "17/100(t):   0%|          | 0/40 [00:00<?, ?it/s]"
      ]
     },
     "metadata": {},
     "output_type": "display_data"
    },
    {
     "data": {
      "application/vnd.jupyter.widget-view+json": {
       "model_id": "2271463cc984450890a3004260031917",
       "version_major": 2,
       "version_minor": 0
      },
      "text/plain": [
       "17/100(v):   0%|          | 0/4 [00:00<?, ?it/s]"
      ]
     },
     "metadata": {},
     "output_type": "display_data"
    },
    {
     "data": {
      "application/vnd.jupyter.widget-view+json": {
       "model_id": "d61f68762c2a4858a6c224438b3b1094",
       "version_major": 2,
       "version_minor": 0
      },
      "text/plain": [
       "18/100(t):   0%|          | 0/40 [00:00<?, ?it/s]"
      ]
     },
     "metadata": {},
     "output_type": "display_data"
    },
    {
     "data": {
      "application/vnd.jupyter.widget-view+json": {
       "model_id": "9bf66176c39f4b2cb446925252ea91d8",
       "version_major": 2,
       "version_minor": 0
      },
      "text/plain": [
       "18/100(v):   0%|          | 0/4 [00:00<?, ?it/s]"
      ]
     },
     "metadata": {},
     "output_type": "display_data"
    },
    {
     "data": {
      "application/vnd.jupyter.widget-view+json": {
       "model_id": "9d76179691374273a9e86f61034a8324",
       "version_major": 2,
       "version_minor": 0
      },
      "text/plain": [
       "19/100(t):   0%|          | 0/40 [00:00<?, ?it/s]"
      ]
     },
     "metadata": {},
     "output_type": "display_data"
    },
    {
     "data": {
      "application/vnd.jupyter.widget-view+json": {
       "model_id": "61d38073115b4c5c86cdb2fdb9de0779",
       "version_major": 2,
       "version_minor": 0
      },
      "text/plain": [
       "19/100(v):   0%|          | 0/4 [00:00<?, ?it/s]"
      ]
     },
     "metadata": {},
     "output_type": "display_data"
    },
    {
     "data": {
      "application/vnd.jupyter.widget-view+json": {
       "model_id": "2577a31ee5534d4cad27d6963626e3f6",
       "version_major": 2,
       "version_minor": 0
      },
      "text/plain": [
       "20/100(t):   0%|          | 0/40 [00:00<?, ?it/s]"
      ]
     },
     "metadata": {},
     "output_type": "display_data"
    },
    {
     "data": {
      "application/vnd.jupyter.widget-view+json": {
       "model_id": "e8e933d74ae84e6bb2b15bd430427dc6",
       "version_major": 2,
       "version_minor": 0
      },
      "text/plain": [
       "20/100(v):   0%|          | 0/4 [00:00<?, ?it/s]"
      ]
     },
     "metadata": {},
     "output_type": "display_data"
    },
    {
     "data": {
      "application/vnd.jupyter.widget-view+json": {
       "model_id": "a6a05f4ac2a4451b8c06403722a95766",
       "version_major": 2,
       "version_minor": 0
      },
      "text/plain": [
       "21/100(t):   0%|          | 0/40 [00:00<?, ?it/s]"
      ]
     },
     "metadata": {},
     "output_type": "display_data"
    },
    {
     "data": {
      "application/vnd.jupyter.widget-view+json": {
       "model_id": "8f0a704674504570a6adea617f87e51c",
       "version_major": 2,
       "version_minor": 0
      },
      "text/plain": [
       "21/100(v):   0%|          | 0/4 [00:00<?, ?it/s]"
      ]
     },
     "metadata": {},
     "output_type": "display_data"
    },
    {
     "data": {
      "application/vnd.jupyter.widget-view+json": {
       "model_id": "b0412e482aa9408d98c0d827701e9af8",
       "version_major": 2,
       "version_minor": 0
      },
      "text/plain": [
       "22/100(t):   0%|          | 0/40 [00:00<?, ?it/s]"
      ]
     },
     "metadata": {},
     "output_type": "display_data"
    },
    {
     "data": {
      "application/vnd.jupyter.widget-view+json": {
       "model_id": "9220f9a8e54d45bcbea223d1d46748d3",
       "version_major": 2,
       "version_minor": 0
      },
      "text/plain": [
       "22/100(v):   0%|          | 0/4 [00:00<?, ?it/s]"
      ]
     },
     "metadata": {},
     "output_type": "display_data"
    },
    {
     "data": {
      "application/vnd.jupyter.widget-view+json": {
       "model_id": "610d049c80004788a4a89737e6a23f15",
       "version_major": 2,
       "version_minor": 0
      },
      "text/plain": [
       "23/100(t):   0%|          | 0/40 [00:00<?, ?it/s]"
      ]
     },
     "metadata": {},
     "output_type": "display_data"
    },
    {
     "data": {
      "application/vnd.jupyter.widget-view+json": {
       "model_id": "eaca781237ee4e88a95de52435b3bdf2",
       "version_major": 2,
       "version_minor": 0
      },
      "text/plain": [
       "23/100(v):   0%|          | 0/4 [00:00<?, ?it/s]"
      ]
     },
     "metadata": {},
     "output_type": "display_data"
    },
    {
     "data": {
      "application/vnd.jupyter.widget-view+json": {
       "model_id": "c384e83066db448d9076e1a661d46cc0",
       "version_major": 2,
       "version_minor": 0
      },
      "text/plain": [
       "24/100(t):   0%|          | 0/40 [00:00<?, ?it/s]"
      ]
     },
     "metadata": {},
     "output_type": "display_data"
    },
    {
     "data": {
      "application/vnd.jupyter.widget-view+json": {
       "model_id": "ee36305823f646ff9f765a09f620875f",
       "version_major": 2,
       "version_minor": 0
      },
      "text/plain": [
       "24/100(v):   0%|          | 0/4 [00:00<?, ?it/s]"
      ]
     },
     "metadata": {},
     "output_type": "display_data"
    },
    {
     "data": {
      "application/vnd.jupyter.widget-view+json": {
       "model_id": "ab17de68d19f46d69db4f56b86ee2cf2",
       "version_major": 2,
       "version_minor": 0
      },
      "text/plain": [
       "25/100(t):   0%|          | 0/40 [00:00<?, ?it/s]"
      ]
     },
     "metadata": {},
     "output_type": "display_data"
    },
    {
     "data": {
      "application/vnd.jupyter.widget-view+json": {
       "model_id": "8e115479b78746dcb91bb8e2a7fc1395",
       "version_major": 2,
       "version_minor": 0
      },
      "text/plain": [
       "25/100(v):   0%|          | 0/4 [00:00<?, ?it/s]"
      ]
     },
     "metadata": {},
     "output_type": "display_data"
    },
    {
     "data": {
      "application/vnd.jupyter.widget-view+json": {
       "model_id": "cb94904cfe434c479da014dfe527a757",
       "version_major": 2,
       "version_minor": 0
      },
      "text/plain": [
       "26/100(t):   0%|          | 0/40 [00:00<?, ?it/s]"
      ]
     },
     "metadata": {},
     "output_type": "display_data"
    },
    {
     "data": {
      "application/vnd.jupyter.widget-view+json": {
       "model_id": "87fca88d821849e88f6fc652db09f41d",
       "version_major": 2,
       "version_minor": 0
      },
      "text/plain": [
       "26/100(v):   0%|          | 0/4 [00:00<?, ?it/s]"
      ]
     },
     "metadata": {},
     "output_type": "display_data"
    },
    {
     "data": {
      "application/vnd.jupyter.widget-view+json": {
       "model_id": "3d708dcb421945648762b664de9dd180",
       "version_major": 2,
       "version_minor": 0
      },
      "text/plain": [
       "27/100(t):   0%|          | 0/40 [00:00<?, ?it/s]"
      ]
     },
     "metadata": {},
     "output_type": "display_data"
    },
    {
     "data": {
      "application/vnd.jupyter.widget-view+json": {
       "model_id": "a71b8634dc64403fad71efdd39bd967c",
       "version_major": 2,
       "version_minor": 0
      },
      "text/plain": [
       "27/100(v):   0%|          | 0/4 [00:00<?, ?it/s]"
      ]
     },
     "metadata": {},
     "output_type": "display_data"
    },
    {
     "data": {
      "application/vnd.jupyter.widget-view+json": {
       "model_id": "f9bc817f06fe426d921b840badbf4cb4",
       "version_major": 2,
       "version_minor": 0
      },
      "text/plain": [
       "28/100(t):   0%|          | 0/40 [00:00<?, ?it/s]"
      ]
     },
     "metadata": {},
     "output_type": "display_data"
    },
    {
     "data": {
      "application/vnd.jupyter.widget-view+json": {
       "model_id": "cab35cd9ef5f493ebc2d7a980cb2398d",
       "version_major": 2,
       "version_minor": 0
      },
      "text/plain": [
       "28/100(v):   0%|          | 0/4 [00:00<?, ?it/s]"
      ]
     },
     "metadata": {},
     "output_type": "display_data"
    },
    {
     "data": {
      "application/vnd.jupyter.widget-view+json": {
       "model_id": "96bd253ae6c442198a9c2791e6cc6b62",
       "version_major": 2,
       "version_minor": 0
      },
      "text/plain": [
       "29/100(t):   0%|          | 0/40 [00:00<?, ?it/s]"
      ]
     },
     "metadata": {},
     "output_type": "display_data"
    },
    {
     "data": {
      "application/vnd.jupyter.widget-view+json": {
       "model_id": "c1cb1901258647a3a2d0889bb4022a70",
       "version_major": 2,
       "version_minor": 0
      },
      "text/plain": [
       "29/100(v):   0%|          | 0/4 [00:00<?, ?it/s]"
      ]
     },
     "metadata": {},
     "output_type": "display_data"
    },
    {
     "data": {
      "application/vnd.jupyter.widget-view+json": {
       "model_id": "f09594ca24554ebb9ce356116349d4b1",
       "version_major": 2,
       "version_minor": 0
      },
      "text/plain": [
       "30/100(t):   0%|          | 0/40 [00:00<?, ?it/s]"
      ]
     },
     "metadata": {},
     "output_type": "display_data"
    },
    {
     "data": {
      "application/vnd.jupyter.widget-view+json": {
       "model_id": "7358099ddf134b70adafde802dc6b02d",
       "version_major": 2,
       "version_minor": 0
      },
      "text/plain": [
       "30/100(v):   0%|          | 0/4 [00:00<?, ?it/s]"
      ]
     },
     "metadata": {},
     "output_type": "display_data"
    },
    {
     "data": {
      "application/vnd.jupyter.widget-view+json": {
       "model_id": "fcc63d6202404198bca081e320b66aa8",
       "version_major": 2,
       "version_minor": 0
      },
      "text/plain": [
       "31/100(t):   0%|          | 0/40 [00:00<?, ?it/s]"
      ]
     },
     "metadata": {},
     "output_type": "display_data"
    },
    {
     "data": {
      "application/vnd.jupyter.widget-view+json": {
       "model_id": "3501dbea9261469a8d1c18548c3b3b0d",
       "version_major": 2,
       "version_minor": 0
      },
      "text/plain": [
       "31/100(v):   0%|          | 0/4 [00:00<?, ?it/s]"
      ]
     },
     "metadata": {},
     "output_type": "display_data"
    },
    {
     "data": {
      "application/vnd.jupyter.widget-view+json": {
       "model_id": "478facc2260946a9ba66f379cd26d70d",
       "version_major": 2,
       "version_minor": 0
      },
      "text/plain": [
       "32/100(t):   0%|          | 0/40 [00:00<?, ?it/s]"
      ]
     },
     "metadata": {},
     "output_type": "display_data"
    },
    {
     "data": {
      "application/vnd.jupyter.widget-view+json": {
       "model_id": "be9be938f47d432184816e6eb927afd2",
       "version_major": 2,
       "version_minor": 0
      },
      "text/plain": [
       "32/100(v):   0%|          | 0/4 [00:00<?, ?it/s]"
      ]
     },
     "metadata": {},
     "output_type": "display_data"
    },
    {
     "data": {
      "application/vnd.jupyter.widget-view+json": {
       "model_id": "01037c2fa0884a6c89b071b3b546097b",
       "version_major": 2,
       "version_minor": 0
      },
      "text/plain": [
       "33/100(t):   0%|          | 0/40 [00:00<?, ?it/s]"
      ]
     },
     "metadata": {},
     "output_type": "display_data"
    },
    {
     "data": {
      "application/vnd.jupyter.widget-view+json": {
       "model_id": "677d28ae41ec44a1916fcf7305dd0aef",
       "version_major": 2,
       "version_minor": 0
      },
      "text/plain": [
       "33/100(v):   0%|          | 0/4 [00:00<?, ?it/s]"
      ]
     },
     "metadata": {},
     "output_type": "display_data"
    },
    {
     "data": {
      "application/vnd.jupyter.widget-view+json": {
       "model_id": "79520145a78143e9b7a59c4c6c3c9e79",
       "version_major": 2,
       "version_minor": 0
      },
      "text/plain": [
       "34/100(t):   0%|          | 0/40 [00:00<?, ?it/s]"
      ]
     },
     "metadata": {},
     "output_type": "display_data"
    },
    {
     "data": {
      "application/vnd.jupyter.widget-view+json": {
       "model_id": "f6878ab9ecd84315826e8aace0dfcc23",
       "version_major": 2,
       "version_minor": 0
      },
      "text/plain": [
       "34/100(v):   0%|          | 0/4 [00:00<?, ?it/s]"
      ]
     },
     "metadata": {},
     "output_type": "display_data"
    },
    {
     "data": {
      "application/vnd.jupyter.widget-view+json": {
       "model_id": "3e9c4df0c92d405bbcbc6ec175c5991b",
       "version_major": 2,
       "version_minor": 0
      },
      "text/plain": [
       "35/100(t):   0%|          | 0/40 [00:00<?, ?it/s]"
      ]
     },
     "metadata": {},
     "output_type": "display_data"
    },
    {
     "data": {
      "application/vnd.jupyter.widget-view+json": {
       "model_id": "0f240e11bab04ebaa70aec371de815fe",
       "version_major": 2,
       "version_minor": 0
      },
      "text/plain": [
       "35/100(v):   0%|          | 0/4 [00:00<?, ?it/s]"
      ]
     },
     "metadata": {},
     "output_type": "display_data"
    },
    {
     "data": {
      "application/vnd.jupyter.widget-view+json": {
       "model_id": "6a579285d6fe4c65803526a9819c5f75",
       "version_major": 2,
       "version_minor": 0
      },
      "text/plain": [
       "36/100(t):   0%|          | 0/40 [00:00<?, ?it/s]"
      ]
     },
     "metadata": {},
     "output_type": "display_data"
    },
    {
     "data": {
      "application/vnd.jupyter.widget-view+json": {
       "model_id": "f90bdc26fac04cc48baca2d6603ca7f1",
       "version_major": 2,
       "version_minor": 0
      },
      "text/plain": [
       "36/100(v):   0%|          | 0/4 [00:00<?, ?it/s]"
      ]
     },
     "metadata": {},
     "output_type": "display_data"
    },
    {
     "data": {
      "application/vnd.jupyter.widget-view+json": {
       "model_id": "016b3ce4c96647ebb88bfed7ff62b9cf",
       "version_major": 2,
       "version_minor": 0
      },
      "text/plain": [
       "37/100(t):   0%|          | 0/40 [00:00<?, ?it/s]"
      ]
     },
     "metadata": {},
     "output_type": "display_data"
    },
    {
     "data": {
      "application/vnd.jupyter.widget-view+json": {
       "model_id": "e386e30c503e4178a370523419329131",
       "version_major": 2,
       "version_minor": 0
      },
      "text/plain": [
       "37/100(v):   0%|          | 0/4 [00:00<?, ?it/s]"
      ]
     },
     "metadata": {},
     "output_type": "display_data"
    },
    {
     "data": {
      "application/vnd.jupyter.widget-view+json": {
       "model_id": "0583e5d5abc2467b8184a9c6b73be8bb",
       "version_major": 2,
       "version_minor": 0
      },
      "text/plain": [
       "38/100(t):   0%|          | 0/40 [00:00<?, ?it/s]"
      ]
     },
     "metadata": {},
     "output_type": "display_data"
    },
    {
     "data": {
      "application/vnd.jupyter.widget-view+json": {
       "model_id": "005da4f9014d4848bd9b683b7a2da264",
       "version_major": 2,
       "version_minor": 0
      },
      "text/plain": [
       "38/100(v):   0%|          | 0/4 [00:00<?, ?it/s]"
      ]
     },
     "metadata": {},
     "output_type": "display_data"
    },
    {
     "data": {
      "application/vnd.jupyter.widget-view+json": {
       "model_id": "cf15d97d88df495c8153e3dc3247ce62",
       "version_major": 2,
       "version_minor": 0
      },
      "text/plain": [
       "39/100(t):   0%|          | 0/40 [00:00<?, ?it/s]"
      ]
     },
     "metadata": {},
     "output_type": "display_data"
    },
    {
     "data": {
      "application/vnd.jupyter.widget-view+json": {
       "model_id": "7dd78f3e095d49508bbd562b498c39b2",
       "version_major": 2,
       "version_minor": 0
      },
      "text/plain": [
       "39/100(v):   0%|          | 0/4 [00:00<?, ?it/s]"
      ]
     },
     "metadata": {},
     "output_type": "display_data"
    },
    {
     "data": {
      "application/vnd.jupyter.widget-view+json": {
       "model_id": "963fce290e574762a82b977de648b35b",
       "version_major": 2,
       "version_minor": 0
      },
      "text/plain": [
       "40/100(t):   0%|          | 0/40 [00:00<?, ?it/s]"
      ]
     },
     "metadata": {},
     "output_type": "display_data"
    },
    {
     "data": {
      "application/vnd.jupyter.widget-view+json": {
       "model_id": "3b61281d284d48cdbcbf06c383ab7e9d",
       "version_major": 2,
       "version_minor": 0
      },
      "text/plain": [
       "40/100(v):   0%|          | 0/4 [00:00<?, ?it/s]"
      ]
     },
     "metadata": {},
     "output_type": "display_data"
    },
    {
     "data": {
      "application/vnd.jupyter.widget-view+json": {
       "model_id": "9fac6977540f49c7a633d01714ccc0ba",
       "version_major": 2,
       "version_minor": 0
      },
      "text/plain": [
       "41/100(t):   0%|          | 0/40 [00:00<?, ?it/s]"
      ]
     },
     "metadata": {},
     "output_type": "display_data"
    },
    {
     "data": {
      "application/vnd.jupyter.widget-view+json": {
       "model_id": "ccb5dbeece2048fb8b02cb3bbc0bc4a6",
       "version_major": 2,
       "version_minor": 0
      },
      "text/plain": [
       "41/100(v):   0%|          | 0/4 [00:00<?, ?it/s]"
      ]
     },
     "metadata": {},
     "output_type": "display_data"
    },
    {
     "data": {
      "application/vnd.jupyter.widget-view+json": {
       "model_id": "22c54d5a3a634ef8b133dc843e241316",
       "version_major": 2,
       "version_minor": 0
      },
      "text/plain": [
       "42/100(t):   0%|          | 0/40 [00:00<?, ?it/s]"
      ]
     },
     "metadata": {},
     "output_type": "display_data"
    },
    {
     "data": {
      "application/vnd.jupyter.widget-view+json": {
       "model_id": "b675f594a5dc47edae73163121465f6a",
       "version_major": 2,
       "version_minor": 0
      },
      "text/plain": [
       "42/100(v):   0%|          | 0/4 [00:00<?, ?it/s]"
      ]
     },
     "metadata": {},
     "output_type": "display_data"
    },
    {
     "data": {
      "application/vnd.jupyter.widget-view+json": {
       "model_id": "d13c0ace6c7f4d04863e8e163da2d6ba",
       "version_major": 2,
       "version_minor": 0
      },
      "text/plain": [
       "43/100(t):   0%|          | 0/40 [00:00<?, ?it/s]"
      ]
     },
     "metadata": {},
     "output_type": "display_data"
    },
    {
     "data": {
      "application/vnd.jupyter.widget-view+json": {
       "model_id": "e2455d4bb6db4f57bfc8b1ed8b5709a4",
       "version_major": 2,
       "version_minor": 0
      },
      "text/plain": [
       "43/100(v):   0%|          | 0/4 [00:00<?, ?it/s]"
      ]
     },
     "metadata": {},
     "output_type": "display_data"
    },
    {
     "data": {
      "application/vnd.jupyter.widget-view+json": {
       "model_id": "25ef234ce0dd4103aebaf55dfab8d9d0",
       "version_major": 2,
       "version_minor": 0
      },
      "text/plain": [
       "44/100(t):   0%|          | 0/40 [00:00<?, ?it/s]"
      ]
     },
     "metadata": {},
     "output_type": "display_data"
    },
    {
     "data": {
      "application/vnd.jupyter.widget-view+json": {
       "model_id": "78f0922254b44b0789326d1534ce8efa",
       "version_major": 2,
       "version_minor": 0
      },
      "text/plain": [
       "44/100(v):   0%|          | 0/4 [00:00<?, ?it/s]"
      ]
     },
     "metadata": {},
     "output_type": "display_data"
    },
    {
     "data": {
      "application/vnd.jupyter.widget-view+json": {
       "model_id": "f6663f329bb04be784aa1fa1261cfd9a",
       "version_major": 2,
       "version_minor": 0
      },
      "text/plain": [
       "45/100(t):   0%|          | 0/40 [00:00<?, ?it/s]"
      ]
     },
     "metadata": {},
     "output_type": "display_data"
    },
    {
     "data": {
      "application/vnd.jupyter.widget-view+json": {
       "model_id": "2a1349e148704b87967ce71a52d004c9",
       "version_major": 2,
       "version_minor": 0
      },
      "text/plain": [
       "45/100(v):   0%|          | 0/4 [00:00<?, ?it/s]"
      ]
     },
     "metadata": {},
     "output_type": "display_data"
    },
    {
     "data": {
      "application/vnd.jupyter.widget-view+json": {
       "model_id": "f1b433ca643a4c7bad3d66dfe3850690",
       "version_major": 2,
       "version_minor": 0
      },
      "text/plain": [
       "46/100(t):   0%|          | 0/40 [00:00<?, ?it/s]"
      ]
     },
     "metadata": {},
     "output_type": "display_data"
    },
    {
     "data": {
      "application/vnd.jupyter.widget-view+json": {
       "model_id": "ce2e3f5b913744178bae8029d6887227",
       "version_major": 2,
       "version_minor": 0
      },
      "text/plain": [
       "46/100(v):   0%|          | 0/4 [00:00<?, ?it/s]"
      ]
     },
     "metadata": {},
     "output_type": "display_data"
    },
    {
     "data": {
      "application/vnd.jupyter.widget-view+json": {
       "model_id": "8a7ad7946fa9446db13577cc38a8c459",
       "version_major": 2,
       "version_minor": 0
      },
      "text/plain": [
       "47/100(t):   0%|          | 0/40 [00:00<?, ?it/s]"
      ]
     },
     "metadata": {},
     "output_type": "display_data"
    },
    {
     "data": {
      "application/vnd.jupyter.widget-view+json": {
       "model_id": "6d744037da844c4182fea2a9513c6f56",
       "version_major": 2,
       "version_minor": 0
      },
      "text/plain": [
       "47/100(v):   0%|          | 0/4 [00:00<?, ?it/s]"
      ]
     },
     "metadata": {},
     "output_type": "display_data"
    },
    {
     "data": {
      "application/vnd.jupyter.widget-view+json": {
       "model_id": "028de26dfdb84637bbcad97dc718018a",
       "version_major": 2,
       "version_minor": 0
      },
      "text/plain": [
       "48/100(t):   0%|          | 0/40 [00:00<?, ?it/s]"
      ]
     },
     "metadata": {},
     "output_type": "display_data"
    },
    {
     "data": {
      "application/vnd.jupyter.widget-view+json": {
       "model_id": "1bfe180785a742e287624d9f1b3c7037",
       "version_major": 2,
       "version_minor": 0
      },
      "text/plain": [
       "48/100(v):   0%|          | 0/4 [00:00<?, ?it/s]"
      ]
     },
     "metadata": {},
     "output_type": "display_data"
    },
    {
     "data": {
      "application/vnd.jupyter.widget-view+json": {
       "model_id": "bc32f752175449bc92c9c05cb18ed834",
       "version_major": 2,
       "version_minor": 0
      },
      "text/plain": [
       "49/100(t):   0%|          | 0/40 [00:00<?, ?it/s]"
      ]
     },
     "metadata": {},
     "output_type": "display_data"
    },
    {
     "data": {
      "application/vnd.jupyter.widget-view+json": {
       "model_id": "b51135d8367c4a98bd7db3b811d9cea2",
       "version_major": 2,
       "version_minor": 0
      },
      "text/plain": [
       "49/100(v):   0%|          | 0/4 [00:00<?, ?it/s]"
      ]
     },
     "metadata": {},
     "output_type": "display_data"
    },
    {
     "data": {
      "application/vnd.jupyter.widget-view+json": {
       "model_id": "20fca3fd95b243158bec21acb3b9d20f",
       "version_major": 2,
       "version_minor": 0
      },
      "text/plain": [
       "50/100(t):   0%|          | 0/40 [00:00<?, ?it/s]"
      ]
     },
     "metadata": {},
     "output_type": "display_data"
    },
    {
     "data": {
      "application/vnd.jupyter.widget-view+json": {
       "model_id": "59e3c7d514c64e0bb1bcbb7eddb71bf5",
       "version_major": 2,
       "version_minor": 0
      },
      "text/plain": [
       "50/100(v):   0%|          | 0/4 [00:00<?, ?it/s]"
      ]
     },
     "metadata": {},
     "output_type": "display_data"
    },
    {
     "data": {
      "application/vnd.jupyter.widget-view+json": {
       "model_id": "5d82c4c5a2d94a2985a168a4bb63b1bf",
       "version_major": 2,
       "version_minor": 0
      },
      "text/plain": [
       "51/100(t):   0%|          | 0/40 [00:00<?, ?it/s]"
      ]
     },
     "metadata": {},
     "output_type": "display_data"
    },
    {
     "data": {
      "application/vnd.jupyter.widget-view+json": {
       "model_id": "6e77754dd61240d4a422e74d6cd51134",
       "version_major": 2,
       "version_minor": 0
      },
      "text/plain": [
       "51/100(v):   0%|          | 0/4 [00:00<?, ?it/s]"
      ]
     },
     "metadata": {},
     "output_type": "display_data"
    },
    {
     "data": {
      "application/vnd.jupyter.widget-view+json": {
       "model_id": "d417a54a865645908e38ee37261c51e4",
       "version_major": 2,
       "version_minor": 0
      },
      "text/plain": [
       "52/100(t):   0%|          | 0/40 [00:00<?, ?it/s]"
      ]
     },
     "metadata": {},
     "output_type": "display_data"
    },
    {
     "data": {
      "application/vnd.jupyter.widget-view+json": {
       "model_id": "cfd86d551cb04185ad22a02ec8990850",
       "version_major": 2,
       "version_minor": 0
      },
      "text/plain": [
       "52/100(v):   0%|          | 0/4 [00:00<?, ?it/s]"
      ]
     },
     "metadata": {},
     "output_type": "display_data"
    },
    {
     "data": {
      "application/vnd.jupyter.widget-view+json": {
       "model_id": "81290f3e778a4df1a3cd889f28c48b27",
       "version_major": 2,
       "version_minor": 0
      },
      "text/plain": [
       "53/100(t):   0%|          | 0/40 [00:00<?, ?it/s]"
      ]
     },
     "metadata": {},
     "output_type": "display_data"
    },
    {
     "data": {
      "application/vnd.jupyter.widget-view+json": {
       "model_id": "508d9967d5844929a5b43ec31911f631",
       "version_major": 2,
       "version_minor": 0
      },
      "text/plain": [
       "53/100(v):   0%|          | 0/4 [00:00<?, ?it/s]"
      ]
     },
     "metadata": {},
     "output_type": "display_data"
    },
    {
     "data": {
      "application/vnd.jupyter.widget-view+json": {
       "model_id": "d9887fc9e5754ef8bebe37c6cc8232d3",
       "version_major": 2,
       "version_minor": 0
      },
      "text/plain": [
       "54/100(t):   0%|          | 0/40 [00:00<?, ?it/s]"
      ]
     },
     "metadata": {},
     "output_type": "display_data"
    },
    {
     "data": {
      "application/vnd.jupyter.widget-view+json": {
       "model_id": "68d62a2a03804b739093ce003ca62728",
       "version_major": 2,
       "version_minor": 0
      },
      "text/plain": [
       "54/100(v):   0%|          | 0/4 [00:00<?, ?it/s]"
      ]
     },
     "metadata": {},
     "output_type": "display_data"
    },
    {
     "data": {
      "application/vnd.jupyter.widget-view+json": {
       "model_id": "54a2c96bf9044255bb3efa870cf667b2",
       "version_major": 2,
       "version_minor": 0
      },
      "text/plain": [
       "55/100(t):   0%|          | 0/40 [00:00<?, ?it/s]"
      ]
     },
     "metadata": {},
     "output_type": "display_data"
    },
    {
     "data": {
      "application/vnd.jupyter.widget-view+json": {
       "model_id": "4fe9e8bb2767423da060d57a836ad3a6",
       "version_major": 2,
       "version_minor": 0
      },
      "text/plain": [
       "55/100(v):   0%|          | 0/4 [00:00<?, ?it/s]"
      ]
     },
     "metadata": {},
     "output_type": "display_data"
    },
    {
     "data": {
      "application/vnd.jupyter.widget-view+json": {
       "model_id": "9c056b7960ba4e25af02588713991fc3",
       "version_major": 2,
       "version_minor": 0
      },
      "text/plain": [
       "56/100(t):   0%|          | 0/40 [00:00<?, ?it/s]"
      ]
     },
     "metadata": {},
     "output_type": "display_data"
    },
    {
     "data": {
      "application/vnd.jupyter.widget-view+json": {
       "model_id": "a52ba79f5bcc428c893bdc352df8997d",
       "version_major": 2,
       "version_minor": 0
      },
      "text/plain": [
       "56/100(v):   0%|          | 0/4 [00:00<?, ?it/s]"
      ]
     },
     "metadata": {},
     "output_type": "display_data"
    },
    {
     "data": {
      "application/vnd.jupyter.widget-view+json": {
       "model_id": "83ce8abe4a964e858aa446ea3b9c558d",
       "version_major": 2,
       "version_minor": 0
      },
      "text/plain": [
       "57/100(t):   0%|          | 0/40 [00:00<?, ?it/s]"
      ]
     },
     "metadata": {},
     "output_type": "display_data"
    },
    {
     "data": {
      "application/vnd.jupyter.widget-view+json": {
       "model_id": "78942c38520b42bdb3c249f77b1c996b",
       "version_major": 2,
       "version_minor": 0
      },
      "text/plain": [
       "57/100(v):   0%|          | 0/4 [00:00<?, ?it/s]"
      ]
     },
     "metadata": {},
     "output_type": "display_data"
    },
    {
     "data": {
      "application/vnd.jupyter.widget-view+json": {
       "model_id": "7135c15ddd6f4999996fbfbd07a1ece4",
       "version_major": 2,
       "version_minor": 0
      },
      "text/plain": [
       "58/100(t):   0%|          | 0/40 [00:00<?, ?it/s]"
      ]
     },
     "metadata": {},
     "output_type": "display_data"
    },
    {
     "data": {
      "application/vnd.jupyter.widget-view+json": {
       "model_id": "b44f6852c9a145dd9be96ce80dfb2f98",
       "version_major": 2,
       "version_minor": 0
      },
      "text/plain": [
       "58/100(v):   0%|          | 0/4 [00:00<?, ?it/s]"
      ]
     },
     "metadata": {},
     "output_type": "display_data"
    },
    {
     "data": {
      "application/vnd.jupyter.widget-view+json": {
       "model_id": "1ba0fe5319274c8fbf6c7c76be838e03",
       "version_major": 2,
       "version_minor": 0
      },
      "text/plain": [
       "59/100(t):   0%|          | 0/40 [00:00<?, ?it/s]"
      ]
     },
     "metadata": {},
     "output_type": "display_data"
    },
    {
     "data": {
      "application/vnd.jupyter.widget-view+json": {
       "model_id": "f77f6e5c1fe046c5b06b8df360599313",
       "version_major": 2,
       "version_minor": 0
      },
      "text/plain": [
       "59/100(v):   0%|          | 0/4 [00:00<?, ?it/s]"
      ]
     },
     "metadata": {},
     "output_type": "display_data"
    },
    {
     "data": {
      "application/vnd.jupyter.widget-view+json": {
       "model_id": "f2f4e1fff26e47a9999204d64844c8d7",
       "version_major": 2,
       "version_minor": 0
      },
      "text/plain": [
       "60/100(t):   0%|          | 0/40 [00:00<?, ?it/s]"
      ]
     },
     "metadata": {},
     "output_type": "display_data"
    },
    {
     "data": {
      "application/vnd.jupyter.widget-view+json": {
       "model_id": "17d6ec63f1a8407b922a28e7177e7d27",
       "version_major": 2,
       "version_minor": 0
      },
      "text/plain": [
       "60/100(v):   0%|          | 0/4 [00:00<?, ?it/s]"
      ]
     },
     "metadata": {},
     "output_type": "display_data"
    },
    {
     "data": {
      "application/vnd.jupyter.widget-view+json": {
       "model_id": "6d4535ad1d91492f80b45ef86c7e508e",
       "version_major": 2,
       "version_minor": 0
      },
      "text/plain": [
       "61/100(t):   0%|          | 0/40 [00:00<?, ?it/s]"
      ]
     },
     "metadata": {},
     "output_type": "display_data"
    },
    {
     "data": {
      "application/vnd.jupyter.widget-view+json": {
       "model_id": "294bc6ebbff643e298e70618cd8ded58",
       "version_major": 2,
       "version_minor": 0
      },
      "text/plain": [
       "61/100(v):   0%|          | 0/4 [00:00<?, ?it/s]"
      ]
     },
     "metadata": {},
     "output_type": "display_data"
    },
    {
     "data": {
      "application/vnd.jupyter.widget-view+json": {
       "model_id": "38cdd460371c4f9699b935dbfcd73b87",
       "version_major": 2,
       "version_minor": 0
      },
      "text/plain": [
       "62/100(t):   0%|          | 0/40 [00:00<?, ?it/s]"
      ]
     },
     "metadata": {},
     "output_type": "display_data"
    },
    {
     "data": {
      "application/vnd.jupyter.widget-view+json": {
       "model_id": "05ff794caeca43da8c482dcda1a40b77",
       "version_major": 2,
       "version_minor": 0
      },
      "text/plain": [
       "62/100(v):   0%|          | 0/4 [00:00<?, ?it/s]"
      ]
     },
     "metadata": {},
     "output_type": "display_data"
    },
    {
     "data": {
      "application/vnd.jupyter.widget-view+json": {
       "model_id": "2edff91abc7443e4b4081e58d05266be",
       "version_major": 2,
       "version_minor": 0
      },
      "text/plain": [
       "63/100(t):   0%|          | 0/40 [00:00<?, ?it/s]"
      ]
     },
     "metadata": {},
     "output_type": "display_data"
    },
    {
     "data": {
      "application/vnd.jupyter.widget-view+json": {
       "model_id": "ff43601dda2944e181216029742f4537",
       "version_major": 2,
       "version_minor": 0
      },
      "text/plain": [
       "63/100(v):   0%|          | 0/4 [00:00<?, ?it/s]"
      ]
     },
     "metadata": {},
     "output_type": "display_data"
    },
    {
     "data": {
      "application/vnd.jupyter.widget-view+json": {
       "model_id": "156edb18408c49c19fa2bdf402d0df73",
       "version_major": 2,
       "version_minor": 0
      },
      "text/plain": [
       "64/100(t):   0%|          | 0/40 [00:00<?, ?it/s]"
      ]
     },
     "metadata": {},
     "output_type": "display_data"
    },
    {
     "data": {
      "application/vnd.jupyter.widget-view+json": {
       "model_id": "4014107a6f03438884d6b4a8a5d5abb1",
       "version_major": 2,
       "version_minor": 0
      },
      "text/plain": [
       "64/100(v):   0%|          | 0/4 [00:00<?, ?it/s]"
      ]
     },
     "metadata": {},
     "output_type": "display_data"
    },
    {
     "data": {
      "application/vnd.jupyter.widget-view+json": {
       "model_id": "63e0e6fc329148b9bcb9e4d39d46c978",
       "version_major": 2,
       "version_minor": 0
      },
      "text/plain": [
       "65/100(t):   0%|          | 0/40 [00:00<?, ?it/s]"
      ]
     },
     "metadata": {},
     "output_type": "display_data"
    },
    {
     "data": {
      "application/vnd.jupyter.widget-view+json": {
       "model_id": "395d091e104e4e99ab7791bd2b127bcc",
       "version_major": 2,
       "version_minor": 0
      },
      "text/plain": [
       "65/100(v):   0%|          | 0/4 [00:00<?, ?it/s]"
      ]
     },
     "metadata": {},
     "output_type": "display_data"
    },
    {
     "data": {
      "application/vnd.jupyter.widget-view+json": {
       "model_id": "8b1c6795044a46e3b9364f1d0aa82694",
       "version_major": 2,
       "version_minor": 0
      },
      "text/plain": [
       "66/100(t):   0%|          | 0/40 [00:00<?, ?it/s]"
      ]
     },
     "metadata": {},
     "output_type": "display_data"
    },
    {
     "data": {
      "application/vnd.jupyter.widget-view+json": {
       "model_id": "6123b6e6ebd340bf879621a620c2cc70",
       "version_major": 2,
       "version_minor": 0
      },
      "text/plain": [
       "66/100(v):   0%|          | 0/4 [00:00<?, ?it/s]"
      ]
     },
     "metadata": {},
     "output_type": "display_data"
    },
    {
     "data": {
      "application/vnd.jupyter.widget-view+json": {
       "model_id": "b895955eed1341eea2aad59e47f1532e",
       "version_major": 2,
       "version_minor": 0
      },
      "text/plain": [
       "67/100(t):   0%|          | 0/40 [00:00<?, ?it/s]"
      ]
     },
     "metadata": {},
     "output_type": "display_data"
    },
    {
     "data": {
      "application/vnd.jupyter.widget-view+json": {
       "model_id": "0f820a30e105495cb74cdb52d8831b7e",
       "version_major": 2,
       "version_minor": 0
      },
      "text/plain": [
       "67/100(v):   0%|          | 0/4 [00:00<?, ?it/s]"
      ]
     },
     "metadata": {},
     "output_type": "display_data"
    },
    {
     "data": {
      "application/vnd.jupyter.widget-view+json": {
       "model_id": "55fa4928793f40c09a06abd0395a73b7",
       "version_major": 2,
       "version_minor": 0
      },
      "text/plain": [
       "68/100(t):   0%|          | 0/40 [00:00<?, ?it/s]"
      ]
     },
     "metadata": {},
     "output_type": "display_data"
    },
    {
     "data": {
      "application/vnd.jupyter.widget-view+json": {
       "model_id": "e258753c8c7b4e7c8320b96b079e1824",
       "version_major": 2,
       "version_minor": 0
      },
      "text/plain": [
       "68/100(v):   0%|          | 0/4 [00:00<?, ?it/s]"
      ]
     },
     "metadata": {},
     "output_type": "display_data"
    },
    {
     "data": {
      "application/vnd.jupyter.widget-view+json": {
       "model_id": "6023411ac94e440eab97eb4340cc34b9",
       "version_major": 2,
       "version_minor": 0
      },
      "text/plain": [
       "69/100(t):   0%|          | 0/40 [00:00<?, ?it/s]"
      ]
     },
     "metadata": {},
     "output_type": "display_data"
    },
    {
     "data": {
      "application/vnd.jupyter.widget-view+json": {
       "model_id": "cbca596cc4e740108c22f1ce0b805008",
       "version_major": 2,
       "version_minor": 0
      },
      "text/plain": [
       "69/100(v):   0%|          | 0/4 [00:00<?, ?it/s]"
      ]
     },
     "metadata": {},
     "output_type": "display_data"
    },
    {
     "data": {
      "application/vnd.jupyter.widget-view+json": {
       "model_id": "df318c70b9bd4b01bcd623af55d633bd",
       "version_major": 2,
       "version_minor": 0
      },
      "text/plain": [
       "70/100(t):   0%|          | 0/40 [00:00<?, ?it/s]"
      ]
     },
     "metadata": {},
     "output_type": "display_data"
    },
    {
     "data": {
      "application/vnd.jupyter.widget-view+json": {
       "model_id": "99b246131d0e4ccf8a962dd85443d3cc",
       "version_major": 2,
       "version_minor": 0
      },
      "text/plain": [
       "70/100(v):   0%|          | 0/4 [00:00<?, ?it/s]"
      ]
     },
     "metadata": {},
     "output_type": "display_data"
    },
    {
     "data": {
      "application/vnd.jupyter.widget-view+json": {
       "model_id": "e9060d414578485f9d893492f0d97155",
       "version_major": 2,
       "version_minor": 0
      },
      "text/plain": [
       "71/100(t):   0%|          | 0/40 [00:00<?, ?it/s]"
      ]
     },
     "metadata": {},
     "output_type": "display_data"
    },
    {
     "data": {
      "application/vnd.jupyter.widget-view+json": {
       "model_id": "f7c772fcba164dd6997aea4f2924c5dc",
       "version_major": 2,
       "version_minor": 0
      },
      "text/plain": [
       "71/100(v):   0%|          | 0/4 [00:00<?, ?it/s]"
      ]
     },
     "metadata": {},
     "output_type": "display_data"
    },
    {
     "data": {
      "application/vnd.jupyter.widget-view+json": {
       "model_id": "88cb52afc94c4b819cc23d91de61659c",
       "version_major": 2,
       "version_minor": 0
      },
      "text/plain": [
       "72/100(t):   0%|          | 0/40 [00:00<?, ?it/s]"
      ]
     },
     "metadata": {},
     "output_type": "display_data"
    },
    {
     "data": {
      "application/vnd.jupyter.widget-view+json": {
       "model_id": "95a5d08e9cc047abba583fa2a7541051",
       "version_major": 2,
       "version_minor": 0
      },
      "text/plain": [
       "72/100(v):   0%|          | 0/4 [00:00<?, ?it/s]"
      ]
     },
     "metadata": {},
     "output_type": "display_data"
    },
    {
     "data": {
      "application/vnd.jupyter.widget-view+json": {
       "model_id": "6c8e5d19c247496d8ab0859a7cc1f83f",
       "version_major": 2,
       "version_minor": 0
      },
      "text/plain": [
       "73/100(t):   0%|          | 0/40 [00:00<?, ?it/s]"
      ]
     },
     "metadata": {},
     "output_type": "display_data"
    },
    {
     "data": {
      "application/vnd.jupyter.widget-view+json": {
       "model_id": "147e162dfb194bacb516b37139419d16",
       "version_major": 2,
       "version_minor": 0
      },
      "text/plain": [
       "73/100(v):   0%|          | 0/4 [00:00<?, ?it/s]"
      ]
     },
     "metadata": {},
     "output_type": "display_data"
    },
    {
     "data": {
      "application/vnd.jupyter.widget-view+json": {
       "model_id": "ed6b067454d14e69b95de66fc6212f5a",
       "version_major": 2,
       "version_minor": 0
      },
      "text/plain": [
       "74/100(t):   0%|          | 0/40 [00:00<?, ?it/s]"
      ]
     },
     "metadata": {},
     "output_type": "display_data"
    },
    {
     "data": {
      "application/vnd.jupyter.widget-view+json": {
       "model_id": "2bd402a3067245f48d491a95d0d4a7ef",
       "version_major": 2,
       "version_minor": 0
      },
      "text/plain": [
       "74/100(v):   0%|          | 0/4 [00:00<?, ?it/s]"
      ]
     },
     "metadata": {},
     "output_type": "display_data"
    },
    {
     "data": {
      "application/vnd.jupyter.widget-view+json": {
       "model_id": "000f9de82e12405dba3f3ac00c97ebb0",
       "version_major": 2,
       "version_minor": 0
      },
      "text/plain": [
       "75/100(t):   0%|          | 0/40 [00:00<?, ?it/s]"
      ]
     },
     "metadata": {},
     "output_type": "display_data"
    },
    {
     "data": {
      "application/vnd.jupyter.widget-view+json": {
       "model_id": "2d5cd0c7894348799165b6474b78a430",
       "version_major": 2,
       "version_minor": 0
      },
      "text/plain": [
       "75/100(v):   0%|          | 0/4 [00:00<?, ?it/s]"
      ]
     },
     "metadata": {},
     "output_type": "display_data"
    },
    {
     "data": {
      "application/vnd.jupyter.widget-view+json": {
       "model_id": "8442071a22be4caf9c5c48bb109081f8",
       "version_major": 2,
       "version_minor": 0
      },
      "text/plain": [
       "76/100(t):   0%|          | 0/40 [00:00<?, ?it/s]"
      ]
     },
     "metadata": {},
     "output_type": "display_data"
    },
    {
     "data": {
      "application/vnd.jupyter.widget-view+json": {
       "model_id": "f3f2f3da0e9f48bc91c87ccb6dd82bfd",
       "version_major": 2,
       "version_minor": 0
      },
      "text/plain": [
       "76/100(v):   0%|          | 0/4 [00:00<?, ?it/s]"
      ]
     },
     "metadata": {},
     "output_type": "display_data"
    },
    {
     "data": {
      "application/vnd.jupyter.widget-view+json": {
       "model_id": "49a0bd02ee8042fd8771f52411462d9e",
       "version_major": 2,
       "version_minor": 0
      },
      "text/plain": [
       "77/100(t):   0%|          | 0/40 [00:00<?, ?it/s]"
      ]
     },
     "metadata": {},
     "output_type": "display_data"
    },
    {
     "data": {
      "application/vnd.jupyter.widget-view+json": {
       "model_id": "fc1d7fe8ae784558b61a8d0c9704a153",
       "version_major": 2,
       "version_minor": 0
      },
      "text/plain": [
       "77/100(v):   0%|          | 0/4 [00:00<?, ?it/s]"
      ]
     },
     "metadata": {},
     "output_type": "display_data"
    },
    {
     "data": {
      "application/vnd.jupyter.widget-view+json": {
       "model_id": "3fab6977226d4ab4887edb8e720c4498",
       "version_major": 2,
       "version_minor": 0
      },
      "text/plain": [
       "78/100(t):   0%|          | 0/40 [00:00<?, ?it/s]"
      ]
     },
     "metadata": {},
     "output_type": "display_data"
    },
    {
     "data": {
      "application/vnd.jupyter.widget-view+json": {
       "model_id": "5e3786c2f0334665bd99835294fd6c1c",
       "version_major": 2,
       "version_minor": 0
      },
      "text/plain": [
       "78/100(v):   0%|          | 0/4 [00:00<?, ?it/s]"
      ]
     },
     "metadata": {},
     "output_type": "display_data"
    },
    {
     "data": {
      "application/vnd.jupyter.widget-view+json": {
       "model_id": "f0cecafdac4e4c0995d68d9bdec700c0",
       "version_major": 2,
       "version_minor": 0
      },
      "text/plain": [
       "79/100(t):   0%|          | 0/40 [00:00<?, ?it/s]"
      ]
     },
     "metadata": {},
     "output_type": "display_data"
    },
    {
     "data": {
      "application/vnd.jupyter.widget-view+json": {
       "model_id": "02d3780fa3e1447a8412ec9413c93720",
       "version_major": 2,
       "version_minor": 0
      },
      "text/plain": [
       "79/100(v):   0%|          | 0/4 [00:00<?, ?it/s]"
      ]
     },
     "metadata": {},
     "output_type": "display_data"
    },
    {
     "data": {
      "application/vnd.jupyter.widget-view+json": {
       "model_id": "5a244c62de9f4cfd870e57389fd85c3e",
       "version_major": 2,
       "version_minor": 0
      },
      "text/plain": [
       "80/100(t):   0%|          | 0/40 [00:00<?, ?it/s]"
      ]
     },
     "metadata": {},
     "output_type": "display_data"
    },
    {
     "data": {
      "application/vnd.jupyter.widget-view+json": {
       "model_id": "5ce0d02a9565423692744a7e58cf235f",
       "version_major": 2,
       "version_minor": 0
      },
      "text/plain": [
       "80/100(v):   0%|          | 0/4 [00:00<?, ?it/s]"
      ]
     },
     "metadata": {},
     "output_type": "display_data"
    },
    {
     "data": {
      "application/vnd.jupyter.widget-view+json": {
       "model_id": "d7b10faa09354a7ca19d31c1e16b7409",
       "version_major": 2,
       "version_minor": 0
      },
      "text/plain": [
       "81/100(t):   0%|          | 0/40 [00:00<?, ?it/s]"
      ]
     },
     "metadata": {},
     "output_type": "display_data"
    },
    {
     "data": {
      "application/vnd.jupyter.widget-view+json": {
       "model_id": "272bb54d96404614ac9e2f82e92190af",
       "version_major": 2,
       "version_minor": 0
      },
      "text/plain": [
       "81/100(v):   0%|          | 0/4 [00:00<?, ?it/s]"
      ]
     },
     "metadata": {},
     "output_type": "display_data"
    },
    {
     "data": {
      "application/vnd.jupyter.widget-view+json": {
       "model_id": "72021193f9de41eeb6965fb33b7dc56d",
       "version_major": 2,
       "version_minor": 0
      },
      "text/plain": [
       "82/100(t):   0%|          | 0/40 [00:00<?, ?it/s]"
      ]
     },
     "metadata": {},
     "output_type": "display_data"
    },
    {
     "data": {
      "application/vnd.jupyter.widget-view+json": {
       "model_id": "b6939c2e835e43a49d0f0af683eaaa6f",
       "version_major": 2,
       "version_minor": 0
      },
      "text/plain": [
       "82/100(v):   0%|          | 0/4 [00:00<?, ?it/s]"
      ]
     },
     "metadata": {},
     "output_type": "display_data"
    },
    {
     "data": {
      "application/vnd.jupyter.widget-view+json": {
       "model_id": "73ee3abd495f4fec8af6e619b4c41b91",
       "version_major": 2,
       "version_minor": 0
      },
      "text/plain": [
       "83/100(t):   0%|          | 0/40 [00:00<?, ?it/s]"
      ]
     },
     "metadata": {},
     "output_type": "display_data"
    },
    {
     "data": {
      "application/vnd.jupyter.widget-view+json": {
       "model_id": "0c75151b67394ac381bfc8e624aaa238",
       "version_major": 2,
       "version_minor": 0
      },
      "text/plain": [
       "83/100(v):   0%|          | 0/4 [00:00<?, ?it/s]"
      ]
     },
     "metadata": {},
     "output_type": "display_data"
    },
    {
     "data": {
      "application/vnd.jupyter.widget-view+json": {
       "model_id": "4a73199fc2d1446b842ea4924df0e3cc",
       "version_major": 2,
       "version_minor": 0
      },
      "text/plain": [
       "84/100(t):   0%|          | 0/40 [00:00<?, ?it/s]"
      ]
     },
     "metadata": {},
     "output_type": "display_data"
    },
    {
     "data": {
      "application/vnd.jupyter.widget-view+json": {
       "model_id": "58515ae549ae4f98ba5420dfa2d54e38",
       "version_major": 2,
       "version_minor": 0
      },
      "text/plain": [
       "84/100(v):   0%|          | 0/4 [00:00<?, ?it/s]"
      ]
     },
     "metadata": {},
     "output_type": "display_data"
    },
    {
     "data": {
      "application/vnd.jupyter.widget-view+json": {
       "model_id": "d39559163c14484896b47e68b61bc15b",
       "version_major": 2,
       "version_minor": 0
      },
      "text/plain": [
       "85/100(t):   0%|          | 0/40 [00:00<?, ?it/s]"
      ]
     },
     "metadata": {},
     "output_type": "display_data"
    },
    {
     "data": {
      "application/vnd.jupyter.widget-view+json": {
       "model_id": "2360deccca2940c586e24832bfeb10b3",
       "version_major": 2,
       "version_minor": 0
      },
      "text/plain": [
       "85/100(v):   0%|          | 0/4 [00:00<?, ?it/s]"
      ]
     },
     "metadata": {},
     "output_type": "display_data"
    },
    {
     "data": {
      "application/vnd.jupyter.widget-view+json": {
       "model_id": "e55b55703cb94271ba24005d56e8dbd8",
       "version_major": 2,
       "version_minor": 0
      },
      "text/plain": [
       "86/100(t):   0%|          | 0/40 [00:00<?, ?it/s]"
      ]
     },
     "metadata": {},
     "output_type": "display_data"
    },
    {
     "data": {
      "application/vnd.jupyter.widget-view+json": {
       "model_id": "258020e454d74e88b8e2b3493a5929ac",
       "version_major": 2,
       "version_minor": 0
      },
      "text/plain": [
       "86/100(v):   0%|          | 0/4 [00:00<?, ?it/s]"
      ]
     },
     "metadata": {},
     "output_type": "display_data"
    },
    {
     "data": {
      "application/vnd.jupyter.widget-view+json": {
       "model_id": "aa2156db49c844a1b18568d83717745c",
       "version_major": 2,
       "version_minor": 0
      },
      "text/plain": [
       "87/100(t):   0%|          | 0/40 [00:00<?, ?it/s]"
      ]
     },
     "metadata": {},
     "output_type": "display_data"
    },
    {
     "data": {
      "application/vnd.jupyter.widget-view+json": {
       "model_id": "28a643126334464bba05183e1fcc658d",
       "version_major": 2,
       "version_minor": 0
      },
      "text/plain": [
       "87/100(v):   0%|          | 0/4 [00:00<?, ?it/s]"
      ]
     },
     "metadata": {},
     "output_type": "display_data"
    },
    {
     "data": {
      "application/vnd.jupyter.widget-view+json": {
       "model_id": "5b27221fc28746aeb561e97c60c61703",
       "version_major": 2,
       "version_minor": 0
      },
      "text/plain": [
       "88/100(t):   0%|          | 0/40 [00:00<?, ?it/s]"
      ]
     },
     "metadata": {},
     "output_type": "display_data"
    },
    {
     "data": {
      "application/vnd.jupyter.widget-view+json": {
       "model_id": "7cc189d8c9274fa9b64e71f005be4be1",
       "version_major": 2,
       "version_minor": 0
      },
      "text/plain": [
       "88/100(v):   0%|          | 0/4 [00:00<?, ?it/s]"
      ]
     },
     "metadata": {},
     "output_type": "display_data"
    },
    {
     "data": {
      "application/vnd.jupyter.widget-view+json": {
       "model_id": "749dcb09f23946c9ba2a061a7c7f7fe8",
       "version_major": 2,
       "version_minor": 0
      },
      "text/plain": [
       "89/100(t):   0%|          | 0/40 [00:00<?, ?it/s]"
      ]
     },
     "metadata": {},
     "output_type": "display_data"
    },
    {
     "data": {
      "application/vnd.jupyter.widget-view+json": {
       "model_id": "5d40a1842ec64db69d9110001f1acf3d",
       "version_major": 2,
       "version_minor": 0
      },
      "text/plain": [
       "89/100(v):   0%|          | 0/4 [00:00<?, ?it/s]"
      ]
     },
     "metadata": {},
     "output_type": "display_data"
    },
    {
     "data": {
      "application/vnd.jupyter.widget-view+json": {
       "model_id": "3bed2f39541243f0b2f1128e39f35b56",
       "version_major": 2,
       "version_minor": 0
      },
      "text/plain": [
       "90/100(t):   0%|          | 0/40 [00:00<?, ?it/s]"
      ]
     },
     "metadata": {},
     "output_type": "display_data"
    },
    {
     "data": {
      "application/vnd.jupyter.widget-view+json": {
       "model_id": "8842b13bf2d544dbb20f1f08aacfac5d",
       "version_major": 2,
       "version_minor": 0
      },
      "text/plain": [
       "90/100(v):   0%|          | 0/4 [00:00<?, ?it/s]"
      ]
     },
     "metadata": {},
     "output_type": "display_data"
    },
    {
     "data": {
      "application/vnd.jupyter.widget-view+json": {
       "model_id": "d94c71679d564bf0944875a1bb1af2b6",
       "version_major": 2,
       "version_minor": 0
      },
      "text/plain": [
       "91/100(t):   0%|          | 0/40 [00:00<?, ?it/s]"
      ]
     },
     "metadata": {},
     "output_type": "display_data"
    },
    {
     "data": {
      "application/vnd.jupyter.widget-view+json": {
       "model_id": "f3e65c04b20343cea3b9dd05cad06aaa",
       "version_major": 2,
       "version_minor": 0
      },
      "text/plain": [
       "91/100(v):   0%|          | 0/4 [00:00<?, ?it/s]"
      ]
     },
     "metadata": {},
     "output_type": "display_data"
    },
    {
     "data": {
      "application/vnd.jupyter.widget-view+json": {
       "model_id": "b283c104637145bdac6e5ce2f339e505",
       "version_major": 2,
       "version_minor": 0
      },
      "text/plain": [
       "92/100(t):   0%|          | 0/40 [00:00<?, ?it/s]"
      ]
     },
     "metadata": {},
     "output_type": "display_data"
    },
    {
     "data": {
      "application/vnd.jupyter.widget-view+json": {
       "model_id": "6355c50329394546a380b50f6c7e565c",
       "version_major": 2,
       "version_minor": 0
      },
      "text/plain": [
       "92/100(v):   0%|          | 0/4 [00:00<?, ?it/s]"
      ]
     },
     "metadata": {},
     "output_type": "display_data"
    },
    {
     "data": {
      "application/vnd.jupyter.widget-view+json": {
       "model_id": "b825a5edc6804610910a5c3858eb9770",
       "version_major": 2,
       "version_minor": 0
      },
      "text/plain": [
       "93/100(t):   0%|          | 0/40 [00:00<?, ?it/s]"
      ]
     },
     "metadata": {},
     "output_type": "display_data"
    },
    {
     "data": {
      "application/vnd.jupyter.widget-view+json": {
       "model_id": "a09249293b564d7e96d4df10b094ecbc",
       "version_major": 2,
       "version_minor": 0
      },
      "text/plain": [
       "93/100(v):   0%|          | 0/4 [00:00<?, ?it/s]"
      ]
     },
     "metadata": {},
     "output_type": "display_data"
    },
    {
     "data": {
      "application/vnd.jupyter.widget-view+json": {
       "model_id": "8f25b3a31147447799a2986aef03ed59",
       "version_major": 2,
       "version_minor": 0
      },
      "text/plain": [
       "94/100(t):   0%|          | 0/40 [00:00<?, ?it/s]"
      ]
     },
     "metadata": {},
     "output_type": "display_data"
    },
    {
     "data": {
      "application/vnd.jupyter.widget-view+json": {
       "model_id": "0784759c7dce463baa661bd40cd63c32",
       "version_major": 2,
       "version_minor": 0
      },
      "text/plain": [
       "94/100(v):   0%|          | 0/4 [00:00<?, ?it/s]"
      ]
     },
     "metadata": {},
     "output_type": "display_data"
    },
    {
     "data": {
      "application/vnd.jupyter.widget-view+json": {
       "model_id": "02e90c15b2dc47cd8f90cd2bcaad189f",
       "version_major": 2,
       "version_minor": 0
      },
      "text/plain": [
       "95/100(t):   0%|          | 0/40 [00:00<?, ?it/s]"
      ]
     },
     "metadata": {},
     "output_type": "display_data"
    },
    {
     "data": {
      "application/vnd.jupyter.widget-view+json": {
       "model_id": "46ac56aa2d5f4a6480f1dd818a1d82db",
       "version_major": 2,
       "version_minor": 0
      },
      "text/plain": [
       "95/100(v):   0%|          | 0/4 [00:00<?, ?it/s]"
      ]
     },
     "metadata": {},
     "output_type": "display_data"
    },
    {
     "data": {
      "application/vnd.jupyter.widget-view+json": {
       "model_id": "d539b9e0b4f64fc3bce78c5c7404b708",
       "version_major": 2,
       "version_minor": 0
      },
      "text/plain": [
       "96/100(t):   0%|          | 0/40 [00:00<?, ?it/s]"
      ]
     },
     "metadata": {},
     "output_type": "display_data"
    },
    {
     "data": {
      "application/vnd.jupyter.widget-view+json": {
       "model_id": "f39e9358d1e247d892aa2847a2cac25a",
       "version_major": 2,
       "version_minor": 0
      },
      "text/plain": [
       "96/100(v):   0%|          | 0/4 [00:00<?, ?it/s]"
      ]
     },
     "metadata": {},
     "output_type": "display_data"
    },
    {
     "data": {
      "application/vnd.jupyter.widget-view+json": {
       "model_id": "bf6210f7e86c42fcbd7dda8f248f5eb5",
       "version_major": 2,
       "version_minor": 0
      },
      "text/plain": [
       "97/100(t):   0%|          | 0/40 [00:00<?, ?it/s]"
      ]
     },
     "metadata": {},
     "output_type": "display_data"
    },
    {
     "data": {
      "application/vnd.jupyter.widget-view+json": {
       "model_id": "a58fa2be177444a890bb7bd1bc9c9dd2",
       "version_major": 2,
       "version_minor": 0
      },
      "text/plain": [
       "97/100(v):   0%|          | 0/4 [00:00<?, ?it/s]"
      ]
     },
     "metadata": {},
     "output_type": "display_data"
    },
    {
     "data": {
      "application/vnd.jupyter.widget-view+json": {
       "model_id": "09478336fa014f1b8844f56376e1e314",
       "version_major": 2,
       "version_minor": 0
      },
      "text/plain": [
       "98/100(t):   0%|          | 0/40 [00:00<?, ?it/s]"
      ]
     },
     "metadata": {},
     "output_type": "display_data"
    },
    {
     "data": {
      "application/vnd.jupyter.widget-view+json": {
       "model_id": "f37815b2f9714d218830904e0acb93c0",
       "version_major": 2,
       "version_minor": 0
      },
      "text/plain": [
       "98/100(v):   0%|          | 0/4 [00:00<?, ?it/s]"
      ]
     },
     "metadata": {},
     "output_type": "display_data"
    },
    {
     "data": {
      "application/vnd.jupyter.widget-view+json": {
       "model_id": "29ad94bc90bb4426a1f61678929e1c76",
       "version_major": 2,
       "version_minor": 0
      },
      "text/plain": [
       "99/100(t):   0%|          | 0/40 [00:00<?, ?it/s]"
      ]
     },
     "metadata": {},
     "output_type": "display_data"
    },
    {
     "data": {
      "application/vnd.jupyter.widget-view+json": {
       "model_id": "69b79dca14d347169b7d84b4a9b54cb3",
       "version_major": 2,
       "version_minor": 0
      },
      "text/plain": [
       "99/100(v):   0%|          | 0/4 [00:00<?, ?it/s]"
      ]
     },
     "metadata": {},
     "output_type": "display_data"
    },
    {
     "data": {
      "application/vnd.jupyter.widget-view+json": {
       "model_id": "9f83e6d5f2f84fe3b3bcfdcc893efa72",
       "version_major": 2,
       "version_minor": 0
      },
      "text/plain": [
       "0/1(e):   0%|          | 0/4 [00:00<?, ?it/s]"
      ]
     },
     "metadata": {},
     "output_type": "display_data"
    },
    {
     "name": "stdout",
     "output_type": "stream",
     "text": [
      "{'test_loss': 1.307950496673584, 'test_mse': 1.307632327079773}\n"
     ]
    }
   ],
   "source": [
    "# build the model\n",
    "model3 = CNN3()\n",
    "\n",
    "# define the loss function and the optimiser\n",
    "loss_function = nn.MSELoss()\n",
    "optimiser = optim.Adam(model3.parameters())\n",
    "\n",
    "device = \"cuda:0\" if torch.cuda.is_available() else \"cpu\"\n",
    "trial = Trial(model3, optimiser, loss_function, metrics=['loss', 'accuracy']).to(device)\n",
    "trial.with_generators(trainloader, val_generator=validloader,test_generator=testloader)\n",
    "trial.run(epochs=100)\n",
    "results = trial.evaluate(data_key=torchbearer.TEST_DATA)\n",
    "print(results)"
   ]
  },
  {
   "cell_type": "code",
   "execution_count": 170,
   "id": "b886138a",
   "metadata": {},
   "outputs": [
    {
     "data": {
      "image/png": "[encoded data removed]",
      "text/plain": [
       "<Figure size 360x360 with 1 Axes>"
      ]
     },
     "metadata": {
      "needs_background": "light"
     },
     "output_type": "display_data"
    }
   ],
   "source": [
    "im,params = test_data[80]\n",
    "est_params = model3(im.unsqueeze(0))[0]\n",
    "x0, x1 = 0, 40\n",
    "y0, y1 = 0, 40\n",
    "# m,c = torch.tensor(params, device='cpu')\n",
    "m,c = params.clone().detach().to('cpu')\n",
    "m,c = -m, (-c+40)\n",
    "m_est, c_est = est_params.clone().detach().to('cpu')\n",
    "m_est, c_est = -m_est, (-c_est+40)\n",
    "px0, px1 = x0 - 5, x1 + 5\n",
    "x = torch.linspace(px0, px1, px1 - px0).detach()\n",
    "y = m * x + c\n",
    "y_est = m_est * x + c_est\n",
    "plt.subplots(figsize = (5, 5))\n",
    "plt.imshow(im.squeeze(),cmap=matplotlib.colors.ListedColormap(['royalblue', 'yellow']))\n",
    "plt.plot(x, y, c = 'orange')\n",
    "plt.plot(x, y_est, c = 'red')\n",
    "plt.xlim(0,39)\n",
    "plt.ylim(0,39)\n",
    "plt.savefig(\"CNN80.png\")"
   ]
  },
  {
   "cell_type": "code",
   "execution_count": 37,
   "id": "7f63150f",
   "metadata": {},
   "outputs": [
    {
     "name": "stdout",
     "output_type": "stream",
     "text": [
      "tensor([[0., 0., 0.,  ..., 0., 0., 0.],\n",
      "        [0., 0., 0.,  ..., 0., 0., 0.],\n",
      "        [0., 0., 0.,  ..., 0., 0., 0.],\n",
      "        ...,\n",
      "        [0., 0., 0.,  ..., 0., 0., 0.],\n",
      "        [0., 0., 0.,  ..., 0., 0., 0.],\n",
      "        [0., 0., 0.,  ..., 0., 0., 0.]]) tensor([3.]) tensor([6.]) tensor([-19.])\n",
      "tensor([  2., -19.])\n",
      "tensor([[16., 33.],\n",
      "        [10.,  7.],\n",
      "        [15., 10.],\n",
      "        [18.,  2.],\n",
      "        [31., 39.],\n",
      "        [34., 33.],\n",
      "        [ 7., 25.],\n",
      "        [39.,  8.],\n",
      "        [31., 36.],\n",
      "        [31., 21.],\n",
      "        [35., 13.],\n",
      "        [17., 26.],\n",
      "        [ 4.,  4.],\n",
      "        [36., 12.],\n",
      "        [28., 14.],\n",
      "        [34., 25.],\n",
      "        [28., 38.],\n",
      "        [36., 24.],\n",
      "        [ 0., 14.],\n",
      "        [29., 23.]])\n",
      "tensor([[ 16.,  13.],\n",
      "        [ 10.,   1.],\n",
      "        [ 15.,  11.],\n",
      "        [ 18.,  17.],\n",
      "        [ 31.,  43.],\n",
      "        [ 34.,  49.],\n",
      "        [  7.,  -5.],\n",
      "        [ 39.,  59.],\n",
      "        [ 31.,  43.],\n",
      "        [ 31.,  43.],\n",
      "        [ 35.,  51.],\n",
      "        [ 17.,  15.],\n",
      "        [  4., -11.],\n",
      "        [ 36.,  53.],\n",
      "        [ 28.,  37.],\n",
      "        [ 34.,  49.],\n",
      "        [ 28.,  37.],\n",
      "        [ 36.,  53.],\n",
      "        [  0., -19.],\n",
      "        [ 29.,  39.]])\n",
      "tensor([[ 16.,  13.],\n",
      "        [ 10.,   1.],\n",
      "        [ 15.,  11.],\n",
      "        [ 18.,  17.],\n",
      "        [ 31.,  43.],\n",
      "        [ 34.,  49.],\n",
      "        [  7.,  -5.],\n",
      "        [ 39.,  59.],\n",
      "        [ 31.,  43.],\n",
      "        [ 31.,  43.],\n",
      "        [ 35.,  51.],\n",
      "        [ 17.,  15.],\n",
      "        [  4., -11.],\n",
      "        [ 36.,  53.],\n",
      "        [ 28.,  37.],\n",
      "        [ 34.,  49.],\n",
      "        [ 28.,  37.],\n",
      "        [ 36.,  53.],\n",
      "        [  0., -19.],\n",
      "        [ 29.,  39.]])\n",
      "tensor([[16., 13.],\n",
      "        [10.,  1.],\n",
      "        [15., 11.],\n",
      "        [18., 17.],\n",
      "        [31., 43.],\n",
      "        [34., 49.],\n",
      "        [39., 59.],\n",
      "        [31., 43.],\n",
      "        [31., 43.],\n",
      "        [35., 51.],\n",
      "        [17., 15.],\n",
      "        [36., 53.],\n",
      "        [28., 37.],\n",
      "        [34., 49.],\n",
      "        [28., 37.],\n",
      "        [36., 53.],\n",
      "        [29., 39.]])\n",
      "tensor([[16., 13.],\n",
      "        [10.,  1.],\n",
      "        [15., 11.],\n",
      "        [18., 17.],\n",
      "        [17., 15.],\n",
      "        [28., 37.],\n",
      "        [28., 37.],\n",
      "        [29., 39.]])\n",
      "tensor([[16., 13.],\n",
      "        [10.,  1.],\n",
      "        [15., 11.],\n",
      "        [18., 17.],\n",
      "        [17., 15.],\n",
      "        [28., 37.],\n",
      "        [28., 37.],\n",
      "        [29., 39.]])\n"
     ]
    }
   ],
   "source": [
    "import torch\n",
    "img = torch.zeros(40,40)\n",
    "dx = torch.randint(-10,10,(1,),dtype=torch.float)\n",
    "dy = torch.randint(-10,10,(1,),dtype=torch.float)\n",
    "c = torch.randint(-20,20,(1,), dtype=torch.float)\n",
    "print(img,dx,dy,c)\n",
    "params = torch.cat((dy/dx, c))\n",
    "xy = torch.randint(0,img.shape[1], (20, 2), dtype=torch.float)\n",
    "print(params)\n",
    "print(xy)\n",
    "xy[:,1] = xy[:,0] * params[0] + params[1]\n",
    "print(xy)\n",
    "xy.round_()\n",
    "print(xy)\n",
    "xy = xy[ xy[:,1] > 0 ]\n",
    "print(xy)\n",
    "xy = xy[ xy[:,1] < 40 ]\n",
    "print(xy)\n",
    "xy = xy[ xy[:,0] < 40 ]\n",
    "print(xy)"
   ]
  },
  {
   "cell_type": "code",
   "execution_count": 39,
   "id": "4086719d",
   "metadata": {},
   "outputs": [
    {
     "name": "stdout",
     "output_type": "stream",
     "text": [
      "8\n",
      "tensor(16.) tensor(27.)\n",
      "tensor(10.) tensor(39.)\n",
      "tensor(15.) tensor(29.)\n",
      "tensor(18.) tensor(23.)\n",
      "tensor(17.) tensor(25.)\n",
      "tensor(28.) tensor(3.)\n",
      "tensor(28.) tensor(3.)\n",
      "tensor(29.) tensor(1.)\n",
      "tensor([[0., 0., 0.,  ..., 0., 0., 0.],\n",
      "        [0., 0., 0.,  ..., 0., 0., 0.],\n",
      "        [0., 0., 0.,  ..., 0., 0., 0.],\n",
      "        ...,\n",
      "        [0., 0., 0.,  ..., 0., 0., 0.],\n",
      "        [0., 0., 0.,  ..., 0., 0., 0.],\n",
      "        [0., 0., 0.,  ..., 0., 0., 0.]])\n",
      "torch.Size([40, 40])\n"
     ]
    }
   ],
   "source": [
    "print(xy.shape[0])\n",
    "for i in range(xy.shape[0]):\n",
    "    x, y = xy[i][0], 40 - xy[i][1]\n",
    "    print(x,y)\n",
    "    img[int(y), int(x)]=1\n",
    "print(img)\n",
    "print(img.size())"
   ]
  },
  {
   "cell_type": "code",
   "execution_count": 44,
   "id": "2a3f2783",
   "metadata": {},
   "outputs": [
    {
     "name": "stdout",
     "output_type": "stream",
     "text": [
      "tensor([[-0.5000, -0.4750, -0.4500, -0.4250, -0.4000, -0.3750, -0.3500, -0.3250,\n",
      "         -0.3000, -0.2750, -0.2500, -0.2250, -0.2000, -0.1750, -0.1500, -0.1250,\n",
      "         -0.1000, -0.0750, -0.0500, -0.0250,  0.0000,  0.0250,  0.0500,  0.0750,\n",
      "          0.1000,  0.1250,  0.1500,  0.1750,  0.2000,  0.2250,  0.2500,  0.2750,\n",
      "          0.3000,  0.3250,  0.3500,  0.3750,  0.4000,  0.4250,  0.4500,  0.4750]])\n",
      "torch.Size([1, 40])\n",
      "tensor([[-0.5000, -0.4750, -0.4500,  ...,  0.4250,  0.4500,  0.4750],\n",
      "        [-0.5000, -0.4750, -0.4500,  ...,  0.4250,  0.4500,  0.4750],\n",
      "        [-0.5000, -0.4750, -0.4500,  ...,  0.4250,  0.4500,  0.4750],\n",
      "        ...,\n",
      "        [-0.5000, -0.4750, -0.4500,  ...,  0.4250,  0.4500,  0.4750],\n",
      "        [-0.5000, -0.4750, -0.4500,  ...,  0.4250,  0.4500,  0.4750],\n",
      "        [-0.5000, -0.4750, -0.4500,  ...,  0.4250,  0.4500,  0.4750]])\n",
      "torch.Size([40, 40])\n",
      "tensor([[-0.5000, -0.5000, -0.5000,  ..., -0.5000, -0.5000, -0.5000],\n",
      "        [-0.4750, -0.4750, -0.4750,  ..., -0.4750, -0.4750, -0.4750],\n",
      "        [-0.4500, -0.4500, -0.4500,  ..., -0.4500, -0.4500, -0.4500],\n",
      "        ...,\n",
      "        [ 0.4250,  0.4250,  0.4250,  ...,  0.4250,  0.4250,  0.4250],\n",
      "        [ 0.4500,  0.4500,  0.4500,  ...,  0.4500,  0.4500,  0.4500],\n",
      "        [ 0.4750,  0.4750,  0.4750,  ...,  0.4750,  0.4750,  0.4750]])\n",
      "torch.Size([40, 40])\n",
      "tensor([[[[-0.5000, -0.4750, -0.4500,  ...,  0.4250,  0.4500,  0.4750],\n",
      "          [-0.5000, -0.4750, -0.4500,  ...,  0.4250,  0.4500,  0.4750],\n",
      "          [-0.5000, -0.4750, -0.4500,  ...,  0.4250,  0.4500,  0.4750],\n",
      "          ...,\n",
      "          [-0.5000, -0.4750, -0.4500,  ...,  0.4250,  0.4500,  0.4750],\n",
      "          [-0.5000, -0.4750, -0.4500,  ...,  0.4250,  0.4500,  0.4750],\n",
      "          [-0.5000, -0.4750, -0.4500,  ...,  0.4250,  0.4500,  0.4750]],\n",
      "\n",
      "         [[-0.5000, -0.5000, -0.5000,  ..., -0.5000, -0.5000, -0.5000],\n",
      "          [-0.4750, -0.4750, -0.4750,  ..., -0.4750, -0.4750, -0.4750],\n",
      "          [-0.4500, -0.4500, -0.4500,  ..., -0.4500, -0.4500, -0.4500],\n",
      "          ...,\n",
      "          [ 0.4250,  0.4250,  0.4250,  ...,  0.4250,  0.4250,  0.4250],\n",
      "          [ 0.4500,  0.4500,  0.4500,  ...,  0.4500,  0.4500,  0.4500],\n",
      "          [ 0.4750,  0.4750,  0.4750,  ...,  0.4750,  0.4750,  0.4750]]]])\n",
      "torch.Size([1, 2, 40, 40])\n",
      "torch.Size([40, 2, 40, 40])\n",
      "torch.Size([40, 1, 40, 40])\n",
      "torch.Size([40, 3, 40, 40])\n"
     ]
    }
   ],
   "source": [
    "input = torch.arange(-20,20,dtype=torch.float).unsqueeze(0)/40.0\n",
    "print(input)\n",
    "print(input.size())\n",
    "idxx = torch.repeat_interleave( input,repeats = 40,dim = 0)\n",
    "print(idxx)\n",
    "print(idxx.size())\n",
    "idxy = idxx.clone().t()\n",
    "print(idxy)\n",
    "print(idxy.size())\n",
    "idx = torch.stack([idxx,idxy]).unsqueeze(0)\n",
    "print(idx)\n",
    "print(idx.size())\n",
    "idx = torch.repeat_interleave(idx,repeats=img.shape[0],dim=0)\n",
    "# print(idx)\n",
    "print(idx.size())\n",
    "img = torch.randn(40,1,40,40)\n",
    "print(img.size())\n",
    "img = torch.cat([img,idx],dim=1)\n",
    "print(img.size())"
   ]
  },
  {
   "cell_type": "code",
   "execution_count": null,
   "id": "77afd3e4",
   "metadata": {},
   "outputs": [],
   "source": []
  }
 ],
 "metadata": {
  "kernelspec": {
   "display_name": "Python 3",
   "language": "python",
   "name": "python3"
  },
  "language_info": {
   "codemirror_mode": {
    "name": "ipython",
    "version": 3
   },
   "file_extension": ".py",
   "mimetype": "text/x-python",
   "name": "python",
   "nbconvert_exporter": "python",
   "pygments_lexer": "ipython3",
   "version": "3.8.8"
  }
 },
 "nbformat": 4,
 "nbformat_minor": 5
}
